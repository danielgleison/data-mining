{
 "cells": [
  {
   "cell_type": "markdown",
   "metadata": {},
   "source": [
    "Aluno: Daniel Gleison Moreira Lira \\\n",
    "Aplicação: Machine Learning\n",
    "\n",
    "\n",
    "# Detecção preditiva de fraudes financeiras utilizando aprendizado de máquina\n",
    "---\n",
    "\n",
    "\n",
    "## Database\n",
    "\n",
    "https://www.kaggle.com/ntnu-testimon/paysim1\n",
    "\n",
    "PS_20174392719_1491204439457_log.csv\\\n",
    "Date created: 2017-03-31\n",
    "\n",
    "### Predicted attribute:\n",
    "Class of fraud detection\n",
    "\n",
    "### Number of Instances:\n",
    "6.353.307\n",
    "\n",
    "### Number of Attributes:\n",
    "11 attributes (5 Decimal, 3 Integer, 3 String) and the class\n",
    "\n",
    "### Attribute Information:\n",
    "\n",
    "This is a sample of 1 row with headers explanation:\n",
    "\n",
    "1,PAYMENT,1060.31,C429214117,1089.0,28.69,M1591654462,0.0,0.0,0,0\n",
    "\n",
    "step - maps a unit of time in the real world. In this case 1 step is 1 hour of time. Total steps 744 (30 days simulation).\n",
    "\n",
    "type - CASH-IN, CASH-OUT, DEBIT, PAYMENT and TRANSFER.\n",
    "\n",
    "amount - amount of the transaction in local currency.\n",
    "\n",
    "nameOrig - customer who started the transaction\n",
    "\n",
    "oldbalanceOrg - initial balance before the transaction\n",
    "\n",
    "newbalanceOrig - new balance after the transaction\n",
    "\n",
    "nameDest - customer who is the recipient of the transaction\n",
    "\n",
    "oldbalanceDest - initial balance recipient before the transaction. Note that there is not information for customers that start with M (Merchants).\n",
    "\n",
    "newbalanceDest - new balance recipient after the transaction. Note that there is not information for customers that start with M (Merchants).\n",
    "\n",
    "isFraud - This is the transactions made by the fraudulent agents inside the simulation. In this specific dataset the fraudulent behavior of the agents aims to profit by taking control or customers accounts and try to empty the funds by transferring to another account and then cashing out of the system.\n",
    "\n",
    "isFlaggedFraud - The business model aims to control massive transfers from one account to another and flags illegal attempts. An illegal attempt in this dataset is an attempt to transfer more than 200.000 in a single transaction.\n",
    "\n",
    "### Missing Attribute Values: \n",
    "None\n",
    "\n",
    "### Class Distribution: \n",
    "2 Classes \\\n",
    "6.354.407 without fraud and 8.213 with fraud\n",
    "\n",
    "## References:\n",
    "\n",
    "1. E. A. Lopez-Rojas , A. Elmir, and S. Axelsson. \"PaySim: A financial mobile money simulator for fraud detection\". In: The 28th European Modeling and Simulation Symposium-EMSS, Larnaca, Cyprus. 2016"
   ]
  },
  {
   "cell_type": "code",
   "execution_count": 197,
   "metadata": {},
   "outputs": [],
   "source": [
    "# Spark Lib\n",
    "import findspark\n",
    "findspark.init()"
   ]
  },
  {
   "cell_type": "code",
   "execution_count": 137,
   "metadata": {},
   "outputs": [],
   "source": [
    "# Load libraries\n",
    "import pyspark\n",
    "from pyspark.sql import SparkSession\n",
    "from pyspark.ml import Pipeline\n",
    "from pyspark.ml.classification import DecisionTreeClassifier\n",
    "from pyspark.ml.feature import StringIndexer, VectorIndexer\n",
    "from pyspark.ml.evaluation import MulticlassClassificationEvaluator\n",
    "from pyspark.mllib.util import MLUtils\n",
    "\n",
    "from pyspark.ml.feature import StringIndexer, IndexToString\n",
    "from pyspark.ml.feature import VectorAssembler, VectorIndexer\n",
    "from pyspark.ml.classification import MultilayerPerceptronClassifier\n",
    "from pyspark.ml.classification import NaiveBayes\n",
    "from pyspark.ml.classification import LogisticRegression\n",
    "from pyspark.ml.classification import LinearSVC, OneVsRest\n",
    "from pyspark.ml.classification import RandomForestClassifier\n",
    "from pyspark.ml.classification import DecisionTreeClassifier\n",
    "from pyspark.ml.evaluation import MulticlassClassificationEvaluator\n",
    "\n",
    "from pyspark.ml.linalg import Vectors\n",
    "from pyspark.mllib.util import MLUtils\n",
    "\n",
    "## SKLearn Lib\n",
    "import numpy as np\n",
    "import pandas as pd\n",
    "import matplotlib.pyplot as plt\n",
    "import seaborn as sns\n",
    "from sklearn.preprocessing import LabelEncoder\n",
    "from sklearn.model_selection import train_test_split\n",
    "from sklearn.neighbors import KNeighborsClassifier\n",
    "from sklearn.metrics import confusion_matrix, accuracy_score\n",
    "from sklearn.model_selection import cross_val_score\n",
    "\n",
    "import time\n",
    "start_time = time.time()\n",
    "%matplotlib inline"
   ]
  },
  {
   "cell_type": "markdown",
   "metadata": {},
   "source": [
    "## Configure parameters"
   ]
  },
  {
   "cell_type": "code",
   "execution_count": 138,
   "metadata": {},
   "outputs": [],
   "source": [
    "# Path to dataset file\n",
    "data_path='./data/'\n",
    "\n",
    "# Sample of train and test dataset\n",
    "\n",
    "# [0.7,0.3] => 70% for train and 30% for test\n",
    "# [1.0,0.2] => 100% for train and 20% for test, not good, acuracy always 100%\n",
    "# [0.1,0.02] => 10% for train and 2% for test, if big datasets\n",
    "\n",
    "train_sample = 0.7\n",
    "test_sample = 0.3"
   ]
  },
  {
   "cell_type": "markdown",
   "metadata": {},
   "source": [
    "## Read and show dataset"
   ]
  },
  {
   "cell_type": "code",
   "execution_count": 139,
   "metadata": {},
   "outputs": [],
   "source": [
    "# Importing the dataset\n",
    "ds_original = pd.read_csv(data_path+'PS_20174392719_1491204439457_log.csv')"
   ]
  },
  {
   "cell_type": "code",
   "execution_count": 140,
   "metadata": {},
   "outputs": [
    {
     "name": "stdout",
     "output_type": "stream",
     "text": [
      "Number of itens per class\n"
     ]
    },
    {
     "data": {
      "text/plain": [
       "isFraud\n",
       "0    6354407\n",
       "1       8213\n",
       "dtype: int64"
      ]
     },
     "execution_count": 140,
     "metadata": {},
     "output_type": "execute_result"
    }
   ],
   "source": [
    "ds_original.shape\n",
    "print(\"Number of itens per class\")\n",
    "ds_original.groupby('isFraud').size()"
   ]
  },
  {
   "cell_type": "code",
   "execution_count": 141,
   "metadata": {},
   "outputs": [
    {
     "data": {
      "text/html": [
       "<div>\n",
       "<style scoped>\n",
       "    .dataframe tbody tr th:only-of-type {\n",
       "        vertical-align: middle;\n",
       "    }\n",
       "\n",
       "    .dataframe tbody tr th {\n",
       "        vertical-align: top;\n",
       "    }\n",
       "\n",
       "    .dataframe thead th {\n",
       "        text-align: right;\n",
       "    }\n",
       "</style>\n",
       "<table border=\"1\" class=\"dataframe\">\n",
       "  <thead>\n",
       "    <tr style=\"text-align: right;\">\n",
       "      <th></th>\n",
       "      <th>step</th>\n",
       "      <th>amount</th>\n",
       "      <th>oldbalanceOrg</th>\n",
       "      <th>newbalanceOrig</th>\n",
       "      <th>oldbalanceDest</th>\n",
       "      <th>newbalanceDest</th>\n",
       "      <th>isFraud</th>\n",
       "      <th>isFlaggedFraud</th>\n",
       "    </tr>\n",
       "  </thead>\n",
       "  <tbody>\n",
       "    <tr>\n",
       "      <th>count</th>\n",
       "      <td>6.362620e+06</td>\n",
       "      <td>6.362620e+06</td>\n",
       "      <td>6.362620e+06</td>\n",
       "      <td>6.362620e+06</td>\n",
       "      <td>6.362620e+06</td>\n",
       "      <td>6.362620e+06</td>\n",
       "      <td>6.362620e+06</td>\n",
       "      <td>6.362620e+06</td>\n",
       "    </tr>\n",
       "    <tr>\n",
       "      <th>mean</th>\n",
       "      <td>2.433972e+02</td>\n",
       "      <td>1.798619e+05</td>\n",
       "      <td>8.338831e+05</td>\n",
       "      <td>8.551137e+05</td>\n",
       "      <td>1.100702e+06</td>\n",
       "      <td>1.224996e+06</td>\n",
       "      <td>1.290820e-03</td>\n",
       "      <td>2.514687e-06</td>\n",
       "    </tr>\n",
       "    <tr>\n",
       "      <th>std</th>\n",
       "      <td>1.423320e+02</td>\n",
       "      <td>6.038582e+05</td>\n",
       "      <td>2.888243e+06</td>\n",
       "      <td>2.924049e+06</td>\n",
       "      <td>3.399180e+06</td>\n",
       "      <td>3.674129e+06</td>\n",
       "      <td>3.590480e-02</td>\n",
       "      <td>1.585775e-03</td>\n",
       "    </tr>\n",
       "    <tr>\n",
       "      <th>min</th>\n",
       "      <td>1.000000e+00</td>\n",
       "      <td>0.000000e+00</td>\n",
       "      <td>0.000000e+00</td>\n",
       "      <td>0.000000e+00</td>\n",
       "      <td>0.000000e+00</td>\n",
       "      <td>0.000000e+00</td>\n",
       "      <td>0.000000e+00</td>\n",
       "      <td>0.000000e+00</td>\n",
       "    </tr>\n",
       "    <tr>\n",
       "      <th>25%</th>\n",
       "      <td>1.560000e+02</td>\n",
       "      <td>1.338957e+04</td>\n",
       "      <td>0.000000e+00</td>\n",
       "      <td>0.000000e+00</td>\n",
       "      <td>0.000000e+00</td>\n",
       "      <td>0.000000e+00</td>\n",
       "      <td>0.000000e+00</td>\n",
       "      <td>0.000000e+00</td>\n",
       "    </tr>\n",
       "    <tr>\n",
       "      <th>50%</th>\n",
       "      <td>2.390000e+02</td>\n",
       "      <td>7.487194e+04</td>\n",
       "      <td>1.420800e+04</td>\n",
       "      <td>0.000000e+00</td>\n",
       "      <td>1.327057e+05</td>\n",
       "      <td>2.146614e+05</td>\n",
       "      <td>0.000000e+00</td>\n",
       "      <td>0.000000e+00</td>\n",
       "    </tr>\n",
       "    <tr>\n",
       "      <th>75%</th>\n",
       "      <td>3.350000e+02</td>\n",
       "      <td>2.087215e+05</td>\n",
       "      <td>1.073152e+05</td>\n",
       "      <td>1.442584e+05</td>\n",
       "      <td>9.430367e+05</td>\n",
       "      <td>1.111909e+06</td>\n",
       "      <td>0.000000e+00</td>\n",
       "      <td>0.000000e+00</td>\n",
       "    </tr>\n",
       "    <tr>\n",
       "      <th>max</th>\n",
       "      <td>7.430000e+02</td>\n",
       "      <td>9.244552e+07</td>\n",
       "      <td>5.958504e+07</td>\n",
       "      <td>4.958504e+07</td>\n",
       "      <td>3.560159e+08</td>\n",
       "      <td>3.561793e+08</td>\n",
       "      <td>1.000000e+00</td>\n",
       "      <td>1.000000e+00</td>\n",
       "    </tr>\n",
       "  </tbody>\n",
       "</table>\n",
       "</div>"
      ],
      "text/plain": [
       "               step        amount  oldbalanceOrg  newbalanceOrig  \\\n",
       "count  6.362620e+06  6.362620e+06   6.362620e+06    6.362620e+06   \n",
       "mean   2.433972e+02  1.798619e+05   8.338831e+05    8.551137e+05   \n",
       "std    1.423320e+02  6.038582e+05   2.888243e+06    2.924049e+06   \n",
       "min    1.000000e+00  0.000000e+00   0.000000e+00    0.000000e+00   \n",
       "25%    1.560000e+02  1.338957e+04   0.000000e+00    0.000000e+00   \n",
       "50%    2.390000e+02  7.487194e+04   1.420800e+04    0.000000e+00   \n",
       "75%    3.350000e+02  2.087215e+05   1.073152e+05    1.442584e+05   \n",
       "max    7.430000e+02  9.244552e+07   5.958504e+07    4.958504e+07   \n",
       "\n",
       "       oldbalanceDest  newbalanceDest       isFraud  isFlaggedFraud  \n",
       "count    6.362620e+06    6.362620e+06  6.362620e+06    6.362620e+06  \n",
       "mean     1.100702e+06    1.224996e+06  1.290820e-03    2.514687e-06  \n",
       "std      3.399180e+06    3.674129e+06  3.590480e-02    1.585775e-03  \n",
       "min      0.000000e+00    0.000000e+00  0.000000e+00    0.000000e+00  \n",
       "25%      0.000000e+00    0.000000e+00  0.000000e+00    0.000000e+00  \n",
       "50%      1.327057e+05    2.146614e+05  0.000000e+00    0.000000e+00  \n",
       "75%      9.430367e+05    1.111909e+06  0.000000e+00    0.000000e+00  \n",
       "max      3.560159e+08    3.561793e+08  1.000000e+00    1.000000e+00  "
      ]
     },
     "execution_count": 141,
     "metadata": {},
     "output_type": "execute_result"
    }
   ],
   "source": [
    "ds_original.describe()"
   ]
  },
  {
   "cell_type": "code",
   "execution_count": 142,
   "metadata": {},
   "outputs": [
    {
     "data": {
      "text/html": [
       "<div>\n",
       "<style scoped>\n",
       "    .dataframe tbody tr th:only-of-type {\n",
       "        vertical-align: middle;\n",
       "    }\n",
       "\n",
       "    .dataframe tbody tr th {\n",
       "        vertical-align: top;\n",
       "    }\n",
       "\n",
       "    .dataframe thead th {\n",
       "        text-align: right;\n",
       "    }\n",
       "</style>\n",
       "<table border=\"1\" class=\"dataframe\">\n",
       "  <thead>\n",
       "    <tr style=\"text-align: right;\">\n",
       "      <th></th>\n",
       "      <th>step</th>\n",
       "      <th>type</th>\n",
       "      <th>amount</th>\n",
       "      <th>nameOrig</th>\n",
       "      <th>oldbalanceOrg</th>\n",
       "      <th>newbalanceOrig</th>\n",
       "      <th>nameDest</th>\n",
       "      <th>oldbalanceDest</th>\n",
       "      <th>newbalanceDest</th>\n",
       "      <th>isFraud</th>\n",
       "      <th>isFlaggedFraud</th>\n",
       "    </tr>\n",
       "  </thead>\n",
       "  <tbody>\n",
       "    <tr>\n",
       "      <th>0</th>\n",
       "      <td>1</td>\n",
       "      <td>PAYMENT</td>\n",
       "      <td>9839.64</td>\n",
       "      <td>C1231006815</td>\n",
       "      <td>170136.0</td>\n",
       "      <td>160296.36</td>\n",
       "      <td>M1979787155</td>\n",
       "      <td>0.0</td>\n",
       "      <td>0.0</td>\n",
       "      <td>0</td>\n",
       "      <td>0</td>\n",
       "    </tr>\n",
       "    <tr>\n",
       "      <th>1</th>\n",
       "      <td>1</td>\n",
       "      <td>PAYMENT</td>\n",
       "      <td>1864.28</td>\n",
       "      <td>C1666544295</td>\n",
       "      <td>21249.0</td>\n",
       "      <td>19384.72</td>\n",
       "      <td>M2044282225</td>\n",
       "      <td>0.0</td>\n",
       "      <td>0.0</td>\n",
       "      <td>0</td>\n",
       "      <td>0</td>\n",
       "    </tr>\n",
       "    <tr>\n",
       "      <th>2</th>\n",
       "      <td>1</td>\n",
       "      <td>TRANSFER</td>\n",
       "      <td>181.00</td>\n",
       "      <td>C1305486145</td>\n",
       "      <td>181.0</td>\n",
       "      <td>0.00</td>\n",
       "      <td>C553264065</td>\n",
       "      <td>0.0</td>\n",
       "      <td>0.0</td>\n",
       "      <td>1</td>\n",
       "      <td>0</td>\n",
       "    </tr>\n",
       "    <tr>\n",
       "      <th>3</th>\n",
       "      <td>1</td>\n",
       "      <td>CASH_OUT</td>\n",
       "      <td>181.00</td>\n",
       "      <td>C840083671</td>\n",
       "      <td>181.0</td>\n",
       "      <td>0.00</td>\n",
       "      <td>C38997010</td>\n",
       "      <td>21182.0</td>\n",
       "      <td>0.0</td>\n",
       "      <td>1</td>\n",
       "      <td>0</td>\n",
       "    </tr>\n",
       "    <tr>\n",
       "      <th>4</th>\n",
       "      <td>1</td>\n",
       "      <td>PAYMENT</td>\n",
       "      <td>11668.14</td>\n",
       "      <td>C2048537720</td>\n",
       "      <td>41554.0</td>\n",
       "      <td>29885.86</td>\n",
       "      <td>M1230701703</td>\n",
       "      <td>0.0</td>\n",
       "      <td>0.0</td>\n",
       "      <td>0</td>\n",
       "      <td>0</td>\n",
       "    </tr>\n",
       "  </tbody>\n",
       "</table>\n",
       "</div>"
      ],
      "text/plain": [
       "   step      type    amount     nameOrig  oldbalanceOrg  newbalanceOrig  \\\n",
       "0     1   PAYMENT   9839.64  C1231006815       170136.0       160296.36   \n",
       "1     1   PAYMENT   1864.28  C1666544295        21249.0        19384.72   \n",
       "2     1  TRANSFER    181.00  C1305486145          181.0            0.00   \n",
       "3     1  CASH_OUT    181.00   C840083671          181.0            0.00   \n",
       "4     1   PAYMENT  11668.14  C2048537720        41554.0        29885.86   \n",
       "\n",
       "      nameDest  oldbalanceDest  newbalanceDest  isFraud  isFlaggedFraud  \n",
       "0  M1979787155             0.0             0.0        0               0  \n",
       "1  M2044282225             0.0             0.0        0               0  \n",
       "2   C553264065             0.0             0.0        1               0  \n",
       "3    C38997010         21182.0             0.0        1               0  \n",
       "4  M1230701703             0.0             0.0        0               0  "
      ]
     },
     "execution_count": 142,
     "metadata": {},
     "output_type": "execute_result"
    }
   ],
   "source": [
    "ds_original.head()"
   ]
  },
  {
   "cell_type": "markdown",
   "metadata": {},
   "source": [
    "## Balanceamento do dataset"
   ]
  },
  {
   "cell_type": "code",
   "execution_count": 143,
   "metadata": {},
   "outputs": [
    {
     "data": {
      "text/plain": [
       "(6354407, 8213)"
      ]
     },
     "execution_count": 143,
     "metadata": {},
     "output_type": "execute_result"
    }
   ],
   "source": [
    "## Segregação do dataset em 2 partes (fraud = 0 e fraud = 1)\n",
    "ds0 = ds_original[ds_original.isFraud==0]\n",
    "ds1 = ds_original[ds_original.isFraud==1]\n",
    "len(ds0),len(ds1)"
   ]
  },
  {
   "cell_type": "code",
   "execution_count": 144,
   "metadata": {},
   "outputs": [
    {
     "data": {
      "text/plain": [
       "(8213, 8213)"
      ]
     },
     "execution_count": 144,
     "metadata": {},
     "output_type": "execute_result"
    }
   ],
   "source": [
    "## Balanceamento do dataset de fraud = 0 com a mesma quantidade de registros do dataset de fraud = 1\n",
    "ds0 = ds0.sample(n=8213)\n",
    "len(ds0),len(ds1)"
   ]
  },
  {
   "cell_type": "code",
   "execution_count": 145,
   "metadata": {},
   "outputs": [
    {
     "data": {
      "text/plain": [
       "isFraud\n",
       "0    8213\n",
       "1    8213\n",
       "dtype: int64"
      ]
     },
     "execution_count": 145,
     "metadata": {},
     "output_type": "execute_result"
    }
   ],
   "source": [
    "## Concatenação dos datasets de fraud = 0 e fraud = 1 em dataset único\n",
    "ds_balanceado = pd.concat([ds0,ds1])\n",
    "ds_balanceado.groupby('isFraud').size()"
   ]
  },
  {
   "cell_type": "code",
   "execution_count": 146,
   "metadata": {},
   "outputs": [
    {
     "data": {
      "text/plain": [
       "(16426, 11)"
      ]
     },
     "execution_count": 146,
     "metadata": {},
     "output_type": "execute_result"
    }
   ],
   "source": [
    "ds_balanceado.shape"
   ]
  },
  {
   "cell_type": "code",
   "execution_count": 147,
   "metadata": {},
   "outputs": [
    {
     "data": {
      "text/html": [
       "<div>\n",
       "<style scoped>\n",
       "    .dataframe tbody tr th:only-of-type {\n",
       "        vertical-align: middle;\n",
       "    }\n",
       "\n",
       "    .dataframe tbody tr th {\n",
       "        vertical-align: top;\n",
       "    }\n",
       "\n",
       "    .dataframe thead th {\n",
       "        text-align: right;\n",
       "    }\n",
       "</style>\n",
       "<table border=\"1\" class=\"dataframe\">\n",
       "  <thead>\n",
       "    <tr style=\"text-align: right;\">\n",
       "      <th></th>\n",
       "      <th>step</th>\n",
       "      <th>type</th>\n",
       "      <th>amount</th>\n",
       "      <th>nameOrig</th>\n",
       "      <th>oldbalanceOrg</th>\n",
       "      <th>newbalanceOrig</th>\n",
       "      <th>nameDest</th>\n",
       "      <th>oldbalanceDest</th>\n",
       "      <th>newbalanceDest</th>\n",
       "      <th>isFraud</th>\n",
       "      <th>isFlaggedFraud</th>\n",
       "    </tr>\n",
       "  </thead>\n",
       "  <tbody>\n",
       "    <tr>\n",
       "      <th>4533972</th>\n",
       "      <td>326</td>\n",
       "      <td>CASH_OUT</td>\n",
       "      <td>18275.50</td>\n",
       "      <td>C1926867877</td>\n",
       "      <td>0.00</td>\n",
       "      <td>0.00</td>\n",
       "      <td>C1909557553</td>\n",
       "      <td>2803522.13</td>\n",
       "      <td>2821797.63</td>\n",
       "      <td>0</td>\n",
       "      <td>0</td>\n",
       "    </tr>\n",
       "    <tr>\n",
       "      <th>548673</th>\n",
       "      <td>21</td>\n",
       "      <td>PAYMENT</td>\n",
       "      <td>1029.32</td>\n",
       "      <td>C1938442512</td>\n",
       "      <td>5367.00</td>\n",
       "      <td>4337.68</td>\n",
       "      <td>M1940512607</td>\n",
       "      <td>0.00</td>\n",
       "      <td>0.00</td>\n",
       "      <td>0</td>\n",
       "      <td>0</td>\n",
       "    </tr>\n",
       "    <tr>\n",
       "      <th>5492520</th>\n",
       "      <td>380</td>\n",
       "      <td>CASH_IN</td>\n",
       "      <td>83038.79</td>\n",
       "      <td>C18195029</td>\n",
       "      <td>10054890.75</td>\n",
       "      <td>10137929.55</td>\n",
       "      <td>C254349160</td>\n",
       "      <td>335442.61</td>\n",
       "      <td>252403.81</td>\n",
       "      <td>0</td>\n",
       "      <td>0</td>\n",
       "    </tr>\n",
       "    <tr>\n",
       "      <th>3125455</th>\n",
       "      <td>236</td>\n",
       "      <td>PAYMENT</td>\n",
       "      <td>15010.48</td>\n",
       "      <td>C1445364118</td>\n",
       "      <td>10138.90</td>\n",
       "      <td>0.00</td>\n",
       "      <td>M944468309</td>\n",
       "      <td>0.00</td>\n",
       "      <td>0.00</td>\n",
       "      <td>0</td>\n",
       "      <td>0</td>\n",
       "    </tr>\n",
       "    <tr>\n",
       "      <th>5671083</th>\n",
       "      <td>397</td>\n",
       "      <td>CASH_OUT</td>\n",
       "      <td>176746.96</td>\n",
       "      <td>C578722862</td>\n",
       "      <td>8745.00</td>\n",
       "      <td>0.00</td>\n",
       "      <td>C1557096540</td>\n",
       "      <td>0.00</td>\n",
       "      <td>176746.96</td>\n",
       "      <td>0</td>\n",
       "      <td>0</td>\n",
       "    </tr>\n",
       "  </tbody>\n",
       "</table>\n",
       "</div>"
      ],
      "text/plain": [
       "         step      type     amount     nameOrig  oldbalanceOrg  \\\n",
       "4533972   326  CASH_OUT   18275.50  C1926867877           0.00   \n",
       "548673     21   PAYMENT    1029.32  C1938442512        5367.00   \n",
       "5492520   380   CASH_IN   83038.79    C18195029    10054890.75   \n",
       "3125455   236   PAYMENT   15010.48  C1445364118       10138.90   \n",
       "5671083   397  CASH_OUT  176746.96   C578722862        8745.00   \n",
       "\n",
       "         newbalanceOrig     nameDest  oldbalanceDest  newbalanceDest  isFraud  \\\n",
       "4533972            0.00  C1909557553      2803522.13      2821797.63        0   \n",
       "548673          4337.68  M1940512607            0.00            0.00        0   \n",
       "5492520     10137929.55   C254349160       335442.61       252403.81        0   \n",
       "3125455            0.00   M944468309            0.00            0.00        0   \n",
       "5671083            0.00  C1557096540            0.00       176746.96        0   \n",
       "\n",
       "         isFlaggedFraud  \n",
       "4533972               0  \n",
       "548673                0  \n",
       "5492520               0  \n",
       "3125455               0  \n",
       "5671083               0  "
      ]
     },
     "execution_count": 147,
     "metadata": {},
     "output_type": "execute_result"
    }
   ],
   "source": [
    "ds_balanceado.head()"
   ]
  },
  {
   "cell_type": "markdown",
   "metadata": {},
   "source": [
    "## Análise exploratória do dataset balanceado"
   ]
  },
  {
   "cell_type": "code",
   "execution_count": 148,
   "metadata": {},
   "outputs": [
    {
     "name": "stdout",
     "output_type": "stream",
     "text": [
      "<class 'pandas.core.frame.DataFrame'>\n",
      "Int64Index: 16426 entries, 4533972 to 6362619\n",
      "Data columns (total 11 columns):\n",
      " #   Column          Non-Null Count  Dtype  \n",
      "---  ------          --------------  -----  \n",
      " 0   step            16426 non-null  int64  \n",
      " 1   type            16426 non-null  object \n",
      " 2   amount          16426 non-null  float64\n",
      " 3   nameOrig        16426 non-null  object \n",
      " 4   oldbalanceOrg   16426 non-null  float64\n",
      " 5   newbalanceOrig  16426 non-null  float64\n",
      " 6   nameDest        16426 non-null  object \n",
      " 7   oldbalanceDest  16426 non-null  float64\n",
      " 8   newbalanceDest  16426 non-null  float64\n",
      " 9   isFraud         16426 non-null  int64  \n",
      " 10  isFlaggedFraud  16426 non-null  int64  \n",
      "dtypes: float64(5), int64(3), object(3)\n",
      "memory usage: 1.5+ MB\n"
     ]
    }
   ],
   "source": [
    "ds_balanceado.info()"
   ]
  },
  {
   "cell_type": "code",
   "execution_count": 149,
   "metadata": {},
   "outputs": [
    {
     "data": {
      "text/html": [
       "<div>\n",
       "<style scoped>\n",
       "    .dataframe tbody tr th:only-of-type {\n",
       "        vertical-align: middle;\n",
       "    }\n",
       "\n",
       "    .dataframe tbody tr th {\n",
       "        vertical-align: top;\n",
       "    }\n",
       "\n",
       "    .dataframe thead th {\n",
       "        text-align: right;\n",
       "    }\n",
       "</style>\n",
       "<table border=\"1\" class=\"dataframe\">\n",
       "  <thead>\n",
       "    <tr style=\"text-align: right;\">\n",
       "      <th></th>\n",
       "      <th>step</th>\n",
       "      <th>amount</th>\n",
       "      <th>oldbalanceOrg</th>\n",
       "      <th>newbalanceOrig</th>\n",
       "      <th>oldbalanceDest</th>\n",
       "      <th>newbalanceDest</th>\n",
       "      <th>isFraud</th>\n",
       "      <th>isFlaggedFraud</th>\n",
       "    </tr>\n",
       "  </thead>\n",
       "  <tbody>\n",
       "    <tr>\n",
       "      <th>count</th>\n",
       "      <td>16426.000000</td>\n",
       "      <td>1.642600e+04</td>\n",
       "      <td>1.642600e+04</td>\n",
       "      <td>1.642600e+04</td>\n",
       "      <td>1.642600e+04</td>\n",
       "      <td>1.642600e+04</td>\n",
       "      <td>16426.000000</td>\n",
       "      <td>16426.000000</td>\n",
       "    </tr>\n",
       "    <tr>\n",
       "      <th>mean</th>\n",
       "      <td>305.035553</td>\n",
       "      <td>8.232986e+05</td>\n",
       "      <td>1.252797e+06</td>\n",
       "      <td>5.357041e+05</td>\n",
       "      <td>8.121293e+05</td>\n",
       "      <td>1.239532e+06</td>\n",
       "      <td>0.500000</td>\n",
       "      <td>0.000974</td>\n",
       "    </tr>\n",
       "    <tr>\n",
       "      <th>std</th>\n",
       "      <td>193.522988</td>\n",
       "      <td>1.910834e+06</td>\n",
       "      <td>3.326839e+06</td>\n",
       "      <td>2.604004e+06</td>\n",
       "      <td>3.543439e+06</td>\n",
       "      <td>3.986824e+06</td>\n",
       "      <td>0.500015</td>\n",
       "      <td>0.031196</td>\n",
       "    </tr>\n",
       "    <tr>\n",
       "      <th>min</th>\n",
       "      <td>1.000000</td>\n",
       "      <td>0.000000e+00</td>\n",
       "      <td>0.000000e+00</td>\n",
       "      <td>0.000000e+00</td>\n",
       "      <td>0.000000e+00</td>\n",
       "      <td>0.000000e+00</td>\n",
       "      <td>0.000000</td>\n",
       "      <td>0.000000</td>\n",
       "    </tr>\n",
       "    <tr>\n",
       "      <th>25%</th>\n",
       "      <td>161.000000</td>\n",
       "      <td>3.657700e+04</td>\n",
       "      <td>1.021486e+04</td>\n",
       "      <td>0.000000e+00</td>\n",
       "      <td>0.000000e+00</td>\n",
       "      <td>0.000000e+00</td>\n",
       "      <td>0.000000</td>\n",
       "      <td>0.000000</td>\n",
       "    </tr>\n",
       "    <tr>\n",
       "      <th>50%</th>\n",
       "      <td>283.000000</td>\n",
       "      <td>1.724920e+05</td>\n",
       "      <td>1.150853e+05</td>\n",
       "      <td>0.000000e+00</td>\n",
       "      <td>0.000000e+00</td>\n",
       "      <td>1.131849e+05</td>\n",
       "      <td>0.500000</td>\n",
       "      <td>0.000000</td>\n",
       "    </tr>\n",
       "    <tr>\n",
       "      <th>75%</th>\n",
       "      <td>407.000000</td>\n",
       "      <td>5.411150e+05</td>\n",
       "      <td>7.817606e+05</td>\n",
       "      <td>0.000000e+00</td>\n",
       "      <td>4.885441e+05</td>\n",
       "      <td>1.057047e+06</td>\n",
       "      <td>1.000000</td>\n",
       "      <td>0.000000</td>\n",
       "    </tr>\n",
       "    <tr>\n",
       "      <th>max</th>\n",
       "      <td>743.000000</td>\n",
       "      <td>6.329484e+07</td>\n",
       "      <td>5.958504e+07</td>\n",
       "      <td>4.958504e+07</td>\n",
       "      <td>2.362305e+08</td>\n",
       "      <td>2.367265e+08</td>\n",
       "      <td>1.000000</td>\n",
       "      <td>1.000000</td>\n",
       "    </tr>\n",
       "  </tbody>\n",
       "</table>\n",
       "</div>"
      ],
      "text/plain": [
       "               step        amount  oldbalanceOrg  newbalanceOrig  \\\n",
       "count  16426.000000  1.642600e+04   1.642600e+04    1.642600e+04   \n",
       "mean     305.035553  8.232986e+05   1.252797e+06    5.357041e+05   \n",
       "std      193.522988  1.910834e+06   3.326839e+06    2.604004e+06   \n",
       "min        1.000000  0.000000e+00   0.000000e+00    0.000000e+00   \n",
       "25%      161.000000  3.657700e+04   1.021486e+04    0.000000e+00   \n",
       "50%      283.000000  1.724920e+05   1.150853e+05    0.000000e+00   \n",
       "75%      407.000000  5.411150e+05   7.817606e+05    0.000000e+00   \n",
       "max      743.000000  6.329484e+07   5.958504e+07    4.958504e+07   \n",
       "\n",
       "       oldbalanceDest  newbalanceDest       isFraud  isFlaggedFraud  \n",
       "count    1.642600e+04    1.642600e+04  16426.000000    16426.000000  \n",
       "mean     8.121293e+05    1.239532e+06      0.500000        0.000974  \n",
       "std      3.543439e+06    3.986824e+06      0.500015        0.031196  \n",
       "min      0.000000e+00    0.000000e+00      0.000000        0.000000  \n",
       "25%      0.000000e+00    0.000000e+00      0.000000        0.000000  \n",
       "50%      0.000000e+00    1.131849e+05      0.500000        0.000000  \n",
       "75%      4.885441e+05    1.057047e+06      1.000000        0.000000  \n",
       "max      2.362305e+08    2.367265e+08      1.000000        1.000000  "
      ]
     },
     "execution_count": 149,
     "metadata": {},
     "output_type": "execute_result"
    }
   ],
   "source": [
    "ds_balanceado.describe()"
   ]
  },
  {
   "cell_type": "code",
   "execution_count": 150,
   "metadata": {},
   "outputs": [
    {
     "data": {
      "text/plain": [
       "step              0\n",
       "type              0\n",
       "amount            0\n",
       "nameOrig          0\n",
       "oldbalanceOrg     0\n",
       "newbalanceOrig    0\n",
       "nameDest          0\n",
       "oldbalanceDest    0\n",
       "newbalanceDest    0\n",
       "isFraud           0\n",
       "isFlaggedFraud    0\n",
       "dtype: int64"
      ]
     },
     "execution_count": 150,
     "metadata": {},
     "output_type": "execute_result"
    }
   ],
   "source": [
    "## Verificação de dados ausentes no dataset\n",
    "ds_balanceado.isnull().sum()"
   ]
  },
  {
   "cell_type": "code",
   "execution_count": 151,
   "metadata": {},
   "outputs": [
    {
     "data": {
      "text/plain": [
       "isFlaggedFraud\n",
       "0    16410\n",
       "1       16\n",
       "dtype: int64"
      ]
     },
     "execution_count": 151,
     "metadata": {},
     "output_type": "execute_result"
    }
   ],
   "source": [
    "ds_balanceado.groupby('isFlaggedFraud').size()"
   ]
  },
  {
   "cell_type": "code",
   "execution_count": 152,
   "metadata": {},
   "outputs": [
    {
     "data": {
      "text/plain": [
       "type\n",
       "CASH_IN     1792\n",
       "CASH_OUT    6977\n",
       "DEBIT         50\n",
       "PAYMENT     2833\n",
       "TRANSFER    4774\n",
       "Name: isFraud, dtype: int64"
      ]
     },
     "execution_count": 152,
     "metadata": {},
     "output_type": "execute_result"
    }
   ],
   "source": [
    "ds_balanceado.groupby('type')['isFraud'].count()"
   ]
  },
  {
   "cell_type": "code",
   "execution_count": 153,
   "metadata": {},
   "outputs": [
    {
     "data": {
      "text/plain": [
       "type\n",
       "CASH_OUT    4116\n",
       "TRANSFER    4097\n",
       "Name: isFraud, dtype: int64"
      ]
     },
     "execution_count": 153,
     "metadata": {},
     "output_type": "execute_result"
    }
   ],
   "source": [
    "ds_balanceado[ds_balanceado['isFraud'] == 1].groupby('type')['isFraud'].count()"
   ]
  },
  {
   "cell_type": "code",
   "execution_count": 154,
   "metadata": {},
   "outputs": [
    {
     "data": {
      "text/plain": [
       "array([[1, 'TRANSFER', 181.0, ..., 0.0, 1, 0],\n",
       "       [1, 'CASH_OUT', 181.0, ..., 0.0, 1, 0],\n",
       "       [1, 'TRANSFER', 2806.0, ..., 0.0, 1, 0],\n",
       "       ...,\n",
       "       [743, 'CASH_OUT', 6311409.28, ..., 6379898.11, 1, 0],\n",
       "       [743, 'TRANSFER', 850002.52, ..., 0.0, 1, 0],\n",
       "       [743, 'CASH_OUT', 850002.52, ..., 7360101.63, 1, 0]], dtype=object)"
      ]
     },
     "execution_count": 154,
     "metadata": {},
     "output_type": "execute_result"
    }
   ],
   "source": [
    "(ds_balanceado[ds_balanceado['isFraud'] == 1].values)"
   ]
  },
  {
   "cell_type": "code",
   "execution_count": 155,
   "metadata": {},
   "outputs": [
    {
     "data": {
      "text/plain": [
       "nameOrig\n",
       "C1000036340    1\n",
       "C1000086512    1\n",
       "C1000331499    1\n",
       "C1000484178    1\n",
       "C1000511811    1\n",
       "              ..\n",
       "C999712473     1\n",
       "C999778266     1\n",
       "C99979309      1\n",
       "C99988032      1\n",
       "C999952253     1\n",
       "Length: 16426, dtype: int64"
      ]
     },
     "execution_count": 155,
     "metadata": {},
     "output_type": "execute_result"
    }
   ],
   "source": [
    "ds_balanceado.groupby('nameOrig').size()"
   ]
  },
  {
   "cell_type": "code",
   "execution_count": 156,
   "metadata": {},
   "outputs": [
    {
     "data": {
      "text/plain": [
       "nameDest\n",
       "C1000039615    1\n",
       "C1000367306    1\n",
       "C1000407130    1\n",
       "C1000608512    1\n",
       "C1000765419    1\n",
       "              ..\n",
       "M998111747     1\n",
       "M998449241     1\n",
       "M998690254     1\n",
       "M998916692     1\n",
       "M999220423     1\n",
       "Length: 16267, dtype: int64"
      ]
     },
     "execution_count": 156,
     "metadata": {},
     "output_type": "execute_result"
    }
   ],
   "source": [
    "ds_balanceado.groupby('nameDest').size()"
   ]
  },
  {
   "cell_type": "code",
   "execution_count": 157,
   "metadata": {},
   "outputs": [
    {
     "name": "stderr",
     "output_type": "stream",
     "text": [
      "/usr/local/lib/python3.6/dist-packages/seaborn/distributions.py:369: UserWarning: Default bandwidth for data is 0; skipping density estimation.\n",
      "  warnings.warn(msg, UserWarning)\n"
     ]
    },
    {
     "data": {
      "text/plain": [
       "<Figure size 432x288 with 0 Axes>"
      ]
     },
     "metadata": {},
     "output_type": "display_data"
    },
    {
     "data": {
      "image/png": "[encoded data removed]",
      "text/plain": [
       "<Figure size 1196.12x1152 with 20 Axes>"
      ]
     },
     "metadata": {
      "needs_background": "light"
     },
     "output_type": "display_data"
    }
   ],
   "source": [
    "# Matriz de diagramas de dispersão\n",
    "\n",
    "plt.figure()\n",
    "sns.pairplot(ds_balanceado, vars = ['oldbalanceOrg','newbalanceOrig','oldbalanceDest','newbalanceDest'], hue = 'isFraud',height=4, markers=['o', 's'])\n",
    "plt.show()"
   ]
  },
  {
   "cell_type": "markdown",
   "metadata": {},
   "source": [
    "## Transformação do dataset"
   ]
  },
  {
   "cell_type": "code",
   "execution_count": 158,
   "metadata": {},
   "outputs": [
    {
     "data": {
      "text/html": [
       "<div>\n",
       "<style scoped>\n",
       "    .dataframe tbody tr th:only-of-type {\n",
       "        vertical-align: middle;\n",
       "    }\n",
       "\n",
       "    .dataframe tbody tr th {\n",
       "        vertical-align: top;\n",
       "    }\n",
       "\n",
       "    .dataframe thead th {\n",
       "        text-align: right;\n",
       "    }\n",
       "</style>\n",
       "<table border=\"1\" class=\"dataframe\">\n",
       "  <thead>\n",
       "    <tr style=\"text-align: right;\">\n",
       "      <th></th>\n",
       "      <th>step</th>\n",
       "      <th>type</th>\n",
       "      <th>amount</th>\n",
       "      <th>nameOrig</th>\n",
       "      <th>oldbalanceOrg</th>\n",
       "      <th>newbalanceOrig</th>\n",
       "      <th>nameDest</th>\n",
       "      <th>oldbalanceDest</th>\n",
       "      <th>newbalanceDest</th>\n",
       "      <th>isFraud</th>\n",
       "      <th>isFlaggedFraud</th>\n",
       "    </tr>\n",
       "  </thead>\n",
       "  <tbody>\n",
       "    <tr>\n",
       "      <th>4533972</th>\n",
       "      <td>326</td>\n",
       "      <td>CASH_OUT</td>\n",
       "      <td>18275.50</td>\n",
       "      <td>C1926867877</td>\n",
       "      <td>0.00</td>\n",
       "      <td>0.00</td>\n",
       "      <td>C1909557553</td>\n",
       "      <td>2803522.13</td>\n",
       "      <td>2821797.63</td>\n",
       "      <td>0</td>\n",
       "      <td>0</td>\n",
       "    </tr>\n",
       "    <tr>\n",
       "      <th>548673</th>\n",
       "      <td>21</td>\n",
       "      <td>PAYMENT</td>\n",
       "      <td>1029.32</td>\n",
       "      <td>C1938442512</td>\n",
       "      <td>5367.00</td>\n",
       "      <td>4337.68</td>\n",
       "      <td>M1940512607</td>\n",
       "      <td>0.00</td>\n",
       "      <td>0.00</td>\n",
       "      <td>0</td>\n",
       "      <td>0</td>\n",
       "    </tr>\n",
       "    <tr>\n",
       "      <th>5492520</th>\n",
       "      <td>380</td>\n",
       "      <td>CASH_IN</td>\n",
       "      <td>83038.79</td>\n",
       "      <td>C18195029</td>\n",
       "      <td>10054890.75</td>\n",
       "      <td>10137929.55</td>\n",
       "      <td>C254349160</td>\n",
       "      <td>335442.61</td>\n",
       "      <td>252403.81</td>\n",
       "      <td>0</td>\n",
       "      <td>0</td>\n",
       "    </tr>\n",
       "    <tr>\n",
       "      <th>3125455</th>\n",
       "      <td>236</td>\n",
       "      <td>PAYMENT</td>\n",
       "      <td>15010.48</td>\n",
       "      <td>C1445364118</td>\n",
       "      <td>10138.90</td>\n",
       "      <td>0.00</td>\n",
       "      <td>M944468309</td>\n",
       "      <td>0.00</td>\n",
       "      <td>0.00</td>\n",
       "      <td>0</td>\n",
       "      <td>0</td>\n",
       "    </tr>\n",
       "    <tr>\n",
       "      <th>5671083</th>\n",
       "      <td>397</td>\n",
       "      <td>CASH_OUT</td>\n",
       "      <td>176746.96</td>\n",
       "      <td>C578722862</td>\n",
       "      <td>8745.00</td>\n",
       "      <td>0.00</td>\n",
       "      <td>C1557096540</td>\n",
       "      <td>0.00</td>\n",
       "      <td>176746.96</td>\n",
       "      <td>0</td>\n",
       "      <td>0</td>\n",
       "    </tr>\n",
       "    <tr>\n",
       "      <th>...</th>\n",
       "      <td>...</td>\n",
       "      <td>...</td>\n",
       "      <td>...</td>\n",
       "      <td>...</td>\n",
       "      <td>...</td>\n",
       "      <td>...</td>\n",
       "      <td>...</td>\n",
       "      <td>...</td>\n",
       "      <td>...</td>\n",
       "      <td>...</td>\n",
       "      <td>...</td>\n",
       "    </tr>\n",
       "    <tr>\n",
       "      <th>6362615</th>\n",
       "      <td>743</td>\n",
       "      <td>CASH_OUT</td>\n",
       "      <td>339682.13</td>\n",
       "      <td>C786484425</td>\n",
       "      <td>339682.13</td>\n",
       "      <td>0.00</td>\n",
       "      <td>C776919290</td>\n",
       "      <td>0.00</td>\n",
       "      <td>339682.13</td>\n",
       "      <td>1</td>\n",
       "      <td>0</td>\n",
       "    </tr>\n",
       "    <tr>\n",
       "      <th>6362616</th>\n",
       "      <td>743</td>\n",
       "      <td>TRANSFER</td>\n",
       "      <td>6311409.28</td>\n",
       "      <td>C1529008245</td>\n",
       "      <td>6311409.28</td>\n",
       "      <td>0.00</td>\n",
       "      <td>C1881841831</td>\n",
       "      <td>0.00</td>\n",
       "      <td>0.00</td>\n",
       "      <td>1</td>\n",
       "      <td>0</td>\n",
       "    </tr>\n",
       "    <tr>\n",
       "      <th>6362617</th>\n",
       "      <td>743</td>\n",
       "      <td>CASH_OUT</td>\n",
       "      <td>6311409.28</td>\n",
       "      <td>C1162922333</td>\n",
       "      <td>6311409.28</td>\n",
       "      <td>0.00</td>\n",
       "      <td>C1365125890</td>\n",
       "      <td>68488.84</td>\n",
       "      <td>6379898.11</td>\n",
       "      <td>1</td>\n",
       "      <td>0</td>\n",
       "    </tr>\n",
       "    <tr>\n",
       "      <th>6362618</th>\n",
       "      <td>743</td>\n",
       "      <td>TRANSFER</td>\n",
       "      <td>850002.52</td>\n",
       "      <td>C1685995037</td>\n",
       "      <td>850002.52</td>\n",
       "      <td>0.00</td>\n",
       "      <td>C2080388513</td>\n",
       "      <td>0.00</td>\n",
       "      <td>0.00</td>\n",
       "      <td>1</td>\n",
       "      <td>0</td>\n",
       "    </tr>\n",
       "    <tr>\n",
       "      <th>6362619</th>\n",
       "      <td>743</td>\n",
       "      <td>CASH_OUT</td>\n",
       "      <td>850002.52</td>\n",
       "      <td>C1280323807</td>\n",
       "      <td>850002.52</td>\n",
       "      <td>0.00</td>\n",
       "      <td>C873221189</td>\n",
       "      <td>6510099.11</td>\n",
       "      <td>7360101.63</td>\n",
       "      <td>1</td>\n",
       "      <td>0</td>\n",
       "    </tr>\n",
       "  </tbody>\n",
       "</table>\n",
       "<p>16426 rows × 11 columns</p>\n",
       "</div>"
      ],
      "text/plain": [
       "         step      type      amount     nameOrig  oldbalanceOrg  \\\n",
       "4533972   326  CASH_OUT    18275.50  C1926867877           0.00   \n",
       "548673     21   PAYMENT     1029.32  C1938442512        5367.00   \n",
       "5492520   380   CASH_IN    83038.79    C18195029    10054890.75   \n",
       "3125455   236   PAYMENT    15010.48  C1445364118       10138.90   \n",
       "5671083   397  CASH_OUT   176746.96   C578722862        8745.00   \n",
       "...       ...       ...         ...          ...            ...   \n",
       "6362615   743  CASH_OUT   339682.13   C786484425      339682.13   \n",
       "6362616   743  TRANSFER  6311409.28  C1529008245     6311409.28   \n",
       "6362617   743  CASH_OUT  6311409.28  C1162922333     6311409.28   \n",
       "6362618   743  TRANSFER   850002.52  C1685995037      850002.52   \n",
       "6362619   743  CASH_OUT   850002.52  C1280323807      850002.52   \n",
       "\n",
       "         newbalanceOrig     nameDest  oldbalanceDest  newbalanceDest  isFraud  \\\n",
       "4533972            0.00  C1909557553      2803522.13      2821797.63        0   \n",
       "548673          4337.68  M1940512607            0.00            0.00        0   \n",
       "5492520     10137929.55   C254349160       335442.61       252403.81        0   \n",
       "3125455            0.00   M944468309            0.00            0.00        0   \n",
       "5671083            0.00  C1557096540            0.00       176746.96        0   \n",
       "...                 ...          ...             ...             ...      ...   \n",
       "6362615            0.00   C776919290            0.00       339682.13        1   \n",
       "6362616            0.00  C1881841831            0.00            0.00        1   \n",
       "6362617            0.00  C1365125890        68488.84      6379898.11        1   \n",
       "6362618            0.00  C2080388513            0.00            0.00        1   \n",
       "6362619            0.00   C873221189      6510099.11      7360101.63        1   \n",
       "\n",
       "         isFlaggedFraud  \n",
       "4533972               0  \n",
       "548673                0  \n",
       "5492520               0  \n",
       "3125455               0  \n",
       "5671083               0  \n",
       "...                 ...  \n",
       "6362615               0  \n",
       "6362616               0  \n",
       "6362617               0  \n",
       "6362618               0  \n",
       "6362619               0  \n",
       "\n",
       "[16426 rows x 11 columns]"
      ]
     },
     "execution_count": 158,
     "metadata": {},
     "output_type": "execute_result"
    }
   ],
   "source": [
    "ds_balanceado"
   ]
  },
  {
   "cell_type": "code",
   "execution_count": 159,
   "metadata": {},
   "outputs": [
    {
     "data": {
      "text/html": [
       "<div>\n",
       "<style scoped>\n",
       "    .dataframe tbody tr th:only-of-type {\n",
       "        vertical-align: middle;\n",
       "    }\n",
       "\n",
       "    .dataframe tbody tr th {\n",
       "        vertical-align: top;\n",
       "    }\n",
       "\n",
       "    .dataframe thead th {\n",
       "        text-align: right;\n",
       "    }\n",
       "</style>\n",
       "<table border=\"1\" class=\"dataframe\">\n",
       "  <thead>\n",
       "    <tr style=\"text-align: right;\">\n",
       "      <th></th>\n",
       "      <th>step</th>\n",
       "      <th>type</th>\n",
       "      <th>amount</th>\n",
       "      <th>oldbalanceOrg</th>\n",
       "      <th>newbalanceOrig</th>\n",
       "      <th>oldbalanceDest</th>\n",
       "      <th>newbalanceDest</th>\n",
       "      <th>isFraud</th>\n",
       "    </tr>\n",
       "  </thead>\n",
       "  <tbody>\n",
       "    <tr>\n",
       "      <th>4533972</th>\n",
       "      <td>326</td>\n",
       "      <td>CASH_OUT</td>\n",
       "      <td>18275.50</td>\n",
       "      <td>0.00</td>\n",
       "      <td>0.00</td>\n",
       "      <td>2803522.13</td>\n",
       "      <td>2821797.63</td>\n",
       "      <td>0</td>\n",
       "    </tr>\n",
       "    <tr>\n",
       "      <th>548673</th>\n",
       "      <td>21</td>\n",
       "      <td>PAYMENT</td>\n",
       "      <td>1029.32</td>\n",
       "      <td>5367.00</td>\n",
       "      <td>4337.68</td>\n",
       "      <td>0.00</td>\n",
       "      <td>0.00</td>\n",
       "      <td>0</td>\n",
       "    </tr>\n",
       "    <tr>\n",
       "      <th>5492520</th>\n",
       "      <td>380</td>\n",
       "      <td>CASH_IN</td>\n",
       "      <td>83038.79</td>\n",
       "      <td>10054890.75</td>\n",
       "      <td>10137929.55</td>\n",
       "      <td>335442.61</td>\n",
       "      <td>252403.81</td>\n",
       "      <td>0</td>\n",
       "    </tr>\n",
       "    <tr>\n",
       "      <th>3125455</th>\n",
       "      <td>236</td>\n",
       "      <td>PAYMENT</td>\n",
       "      <td>15010.48</td>\n",
       "      <td>10138.90</td>\n",
       "      <td>0.00</td>\n",
       "      <td>0.00</td>\n",
       "      <td>0.00</td>\n",
       "      <td>0</td>\n",
       "    </tr>\n",
       "    <tr>\n",
       "      <th>5671083</th>\n",
       "      <td>397</td>\n",
       "      <td>CASH_OUT</td>\n",
       "      <td>176746.96</td>\n",
       "      <td>8745.00</td>\n",
       "      <td>0.00</td>\n",
       "      <td>0.00</td>\n",
       "      <td>176746.96</td>\n",
       "      <td>0</td>\n",
       "    </tr>\n",
       "    <tr>\n",
       "      <th>...</th>\n",
       "      <td>...</td>\n",
       "      <td>...</td>\n",
       "      <td>...</td>\n",
       "      <td>...</td>\n",
       "      <td>...</td>\n",
       "      <td>...</td>\n",
       "      <td>...</td>\n",
       "      <td>...</td>\n",
       "    </tr>\n",
       "    <tr>\n",
       "      <th>6362615</th>\n",
       "      <td>743</td>\n",
       "      <td>CASH_OUT</td>\n",
       "      <td>339682.13</td>\n",
       "      <td>339682.13</td>\n",
       "      <td>0.00</td>\n",
       "      <td>0.00</td>\n",
       "      <td>339682.13</td>\n",
       "      <td>1</td>\n",
       "    </tr>\n",
       "    <tr>\n",
       "      <th>6362616</th>\n",
       "      <td>743</td>\n",
       "      <td>TRANSFER</td>\n",
       "      <td>6311409.28</td>\n",
       "      <td>6311409.28</td>\n",
       "      <td>0.00</td>\n",
       "      <td>0.00</td>\n",
       "      <td>0.00</td>\n",
       "      <td>1</td>\n",
       "    </tr>\n",
       "    <tr>\n",
       "      <th>6362617</th>\n",
       "      <td>743</td>\n",
       "      <td>CASH_OUT</td>\n",
       "      <td>6311409.28</td>\n",
       "      <td>6311409.28</td>\n",
       "      <td>0.00</td>\n",
       "      <td>68488.84</td>\n",
       "      <td>6379898.11</td>\n",
       "      <td>1</td>\n",
       "    </tr>\n",
       "    <tr>\n",
       "      <th>6362618</th>\n",
       "      <td>743</td>\n",
       "      <td>TRANSFER</td>\n",
       "      <td>850002.52</td>\n",
       "      <td>850002.52</td>\n",
       "      <td>0.00</td>\n",
       "      <td>0.00</td>\n",
       "      <td>0.00</td>\n",
       "      <td>1</td>\n",
       "    </tr>\n",
       "    <tr>\n",
       "      <th>6362619</th>\n",
       "      <td>743</td>\n",
       "      <td>CASH_OUT</td>\n",
       "      <td>850002.52</td>\n",
       "      <td>850002.52</td>\n",
       "      <td>0.00</td>\n",
       "      <td>6510099.11</td>\n",
       "      <td>7360101.63</td>\n",
       "      <td>1</td>\n",
       "    </tr>\n",
       "  </tbody>\n",
       "</table>\n",
       "<p>16426 rows × 8 columns</p>\n",
       "</div>"
      ],
      "text/plain": [
       "         step      type      amount  oldbalanceOrg  newbalanceOrig  \\\n",
       "4533972   326  CASH_OUT    18275.50           0.00            0.00   \n",
       "548673     21   PAYMENT     1029.32        5367.00         4337.68   \n",
       "5492520   380   CASH_IN    83038.79    10054890.75     10137929.55   \n",
       "3125455   236   PAYMENT    15010.48       10138.90            0.00   \n",
       "5671083   397  CASH_OUT   176746.96        8745.00            0.00   \n",
       "...       ...       ...         ...            ...             ...   \n",
       "6362615   743  CASH_OUT   339682.13      339682.13            0.00   \n",
       "6362616   743  TRANSFER  6311409.28     6311409.28            0.00   \n",
       "6362617   743  CASH_OUT  6311409.28     6311409.28            0.00   \n",
       "6362618   743  TRANSFER   850002.52      850002.52            0.00   \n",
       "6362619   743  CASH_OUT   850002.52      850002.52            0.00   \n",
       "\n",
       "         oldbalanceDest  newbalanceDest  isFraud  \n",
       "4533972      2803522.13      2821797.63        0  \n",
       "548673             0.00            0.00        0  \n",
       "5492520       335442.61       252403.81        0  \n",
       "3125455            0.00            0.00        0  \n",
       "5671083            0.00       176746.96        0  \n",
       "...                 ...             ...      ...  \n",
       "6362615            0.00       339682.13        1  \n",
       "6362616            0.00            0.00        1  \n",
       "6362617        68488.84      6379898.11        1  \n",
       "6362618            0.00            0.00        1  \n",
       "6362619      6510099.11      7360101.63        1  \n",
       "\n",
       "[16426 rows x 8 columns]"
      ]
     },
     "execution_count": 159,
     "metadata": {},
     "output_type": "execute_result"
    }
   ],
   "source": [
    "# Exclusão de atributos nameOrig, nameDest e isFlaggedFraud\n",
    "\n",
    "ds_selecionado = ds_balanceado.drop(['nameOrig','nameDest','isFlaggedFraud'], axis=1)\n",
    "ds_selecionado"
   ]
  },
  {
   "cell_type": "code",
   "execution_count": 160,
   "metadata": {},
   "outputs": [
    {
     "data": {
      "text/html": [
       "<div>\n",
       "<style scoped>\n",
       "    .dataframe tbody tr th:only-of-type {\n",
       "        vertical-align: middle;\n",
       "    }\n",
       "\n",
       "    .dataframe tbody tr th {\n",
       "        vertical-align: top;\n",
       "    }\n",
       "\n",
       "    .dataframe thead th {\n",
       "        text-align: right;\n",
       "    }\n",
       "</style>\n",
       "<table border=\"1\" class=\"dataframe\">\n",
       "  <thead>\n",
       "    <tr style=\"text-align: right;\">\n",
       "      <th></th>\n",
       "      <th>step</th>\n",
       "      <th>type</th>\n",
       "      <th>amount</th>\n",
       "      <th>oldbalanceOrg</th>\n",
       "      <th>newbalanceOrig</th>\n",
       "      <th>oldbalanceDest</th>\n",
       "      <th>newbalanceDest</th>\n",
       "      <th>isFraud</th>\n",
       "      <th>typeIndex</th>\n",
       "    </tr>\n",
       "  </thead>\n",
       "  <tbody>\n",
       "    <tr>\n",
       "      <th>4533972</th>\n",
       "      <td>326</td>\n",
       "      <td>CASH_OUT</td>\n",
       "      <td>18275.50</td>\n",
       "      <td>0.00</td>\n",
       "      <td>0.00</td>\n",
       "      <td>2803522.13</td>\n",
       "      <td>2821797.63</td>\n",
       "      <td>0</td>\n",
       "      <td>1</td>\n",
       "    </tr>\n",
       "    <tr>\n",
       "      <th>548673</th>\n",
       "      <td>21</td>\n",
       "      <td>PAYMENT</td>\n",
       "      <td>1029.32</td>\n",
       "      <td>5367.00</td>\n",
       "      <td>4337.68</td>\n",
       "      <td>0.00</td>\n",
       "      <td>0.00</td>\n",
       "      <td>0</td>\n",
       "      <td>3</td>\n",
       "    </tr>\n",
       "    <tr>\n",
       "      <th>5492520</th>\n",
       "      <td>380</td>\n",
       "      <td>CASH_IN</td>\n",
       "      <td>83038.79</td>\n",
       "      <td>10054890.75</td>\n",
       "      <td>10137929.55</td>\n",
       "      <td>335442.61</td>\n",
       "      <td>252403.81</td>\n",
       "      <td>0</td>\n",
       "      <td>0</td>\n",
       "    </tr>\n",
       "    <tr>\n",
       "      <th>3125455</th>\n",
       "      <td>236</td>\n",
       "      <td>PAYMENT</td>\n",
       "      <td>15010.48</td>\n",
       "      <td>10138.90</td>\n",
       "      <td>0.00</td>\n",
       "      <td>0.00</td>\n",
       "      <td>0.00</td>\n",
       "      <td>0</td>\n",
       "      <td>3</td>\n",
       "    </tr>\n",
       "    <tr>\n",
       "      <th>5671083</th>\n",
       "      <td>397</td>\n",
       "      <td>CASH_OUT</td>\n",
       "      <td>176746.96</td>\n",
       "      <td>8745.00</td>\n",
       "      <td>0.00</td>\n",
       "      <td>0.00</td>\n",
       "      <td>176746.96</td>\n",
       "      <td>0</td>\n",
       "      <td>1</td>\n",
       "    </tr>\n",
       "    <tr>\n",
       "      <th>...</th>\n",
       "      <td>...</td>\n",
       "      <td>...</td>\n",
       "      <td>...</td>\n",
       "      <td>...</td>\n",
       "      <td>...</td>\n",
       "      <td>...</td>\n",
       "      <td>...</td>\n",
       "      <td>...</td>\n",
       "      <td>...</td>\n",
       "    </tr>\n",
       "    <tr>\n",
       "      <th>6362615</th>\n",
       "      <td>743</td>\n",
       "      <td>CASH_OUT</td>\n",
       "      <td>339682.13</td>\n",
       "      <td>339682.13</td>\n",
       "      <td>0.00</td>\n",
       "      <td>0.00</td>\n",
       "      <td>339682.13</td>\n",
       "      <td>1</td>\n",
       "      <td>1</td>\n",
       "    </tr>\n",
       "    <tr>\n",
       "      <th>6362616</th>\n",
       "      <td>743</td>\n",
       "      <td>TRANSFER</td>\n",
       "      <td>6311409.28</td>\n",
       "      <td>6311409.28</td>\n",
       "      <td>0.00</td>\n",
       "      <td>0.00</td>\n",
       "      <td>0.00</td>\n",
       "      <td>1</td>\n",
       "      <td>4</td>\n",
       "    </tr>\n",
       "    <tr>\n",
       "      <th>6362617</th>\n",
       "      <td>743</td>\n",
       "      <td>CASH_OUT</td>\n",
       "      <td>6311409.28</td>\n",
       "      <td>6311409.28</td>\n",
       "      <td>0.00</td>\n",
       "      <td>68488.84</td>\n",
       "      <td>6379898.11</td>\n",
       "      <td>1</td>\n",
       "      <td>1</td>\n",
       "    </tr>\n",
       "    <tr>\n",
       "      <th>6362618</th>\n",
       "      <td>743</td>\n",
       "      <td>TRANSFER</td>\n",
       "      <td>850002.52</td>\n",
       "      <td>850002.52</td>\n",
       "      <td>0.00</td>\n",
       "      <td>0.00</td>\n",
       "      <td>0.00</td>\n",
       "      <td>1</td>\n",
       "      <td>4</td>\n",
       "    </tr>\n",
       "    <tr>\n",
       "      <th>6362619</th>\n",
       "      <td>743</td>\n",
       "      <td>CASH_OUT</td>\n",
       "      <td>850002.52</td>\n",
       "      <td>850002.52</td>\n",
       "      <td>0.00</td>\n",
       "      <td>6510099.11</td>\n",
       "      <td>7360101.63</td>\n",
       "      <td>1</td>\n",
       "      <td>1</td>\n",
       "    </tr>\n",
       "  </tbody>\n",
       "</table>\n",
       "<p>16426 rows × 9 columns</p>\n",
       "</div>"
      ],
      "text/plain": [
       "         step      type      amount  oldbalanceOrg  newbalanceOrig  \\\n",
       "4533972   326  CASH_OUT    18275.50           0.00            0.00   \n",
       "548673     21   PAYMENT     1029.32        5367.00         4337.68   \n",
       "5492520   380   CASH_IN    83038.79    10054890.75     10137929.55   \n",
       "3125455   236   PAYMENT    15010.48       10138.90            0.00   \n",
       "5671083   397  CASH_OUT   176746.96        8745.00            0.00   \n",
       "...       ...       ...         ...            ...             ...   \n",
       "6362615   743  CASH_OUT   339682.13      339682.13            0.00   \n",
       "6362616   743  TRANSFER  6311409.28     6311409.28            0.00   \n",
       "6362617   743  CASH_OUT  6311409.28     6311409.28            0.00   \n",
       "6362618   743  TRANSFER   850002.52      850002.52            0.00   \n",
       "6362619   743  CASH_OUT   850002.52      850002.52            0.00   \n",
       "\n",
       "         oldbalanceDest  newbalanceDest  isFraud  typeIndex  \n",
       "4533972      2803522.13      2821797.63        0          1  \n",
       "548673             0.00            0.00        0          3  \n",
       "5492520       335442.61       252403.81        0          0  \n",
       "3125455            0.00            0.00        0          3  \n",
       "5671083            0.00       176746.96        0          1  \n",
       "...                 ...             ...      ...        ...  \n",
       "6362615            0.00       339682.13        1          1  \n",
       "6362616            0.00            0.00        1          4  \n",
       "6362617        68488.84      6379898.11        1          1  \n",
       "6362618            0.00            0.00        1          4  \n",
       "6362619      6510099.11      7360101.63        1          1  \n",
       "\n",
       "[16426 rows x 9 columns]"
      ]
     },
     "execution_count": 160,
     "metadata": {},
     "output_type": "execute_result"
    }
   ],
   "source": [
    "# creating instance of labelencoder\n",
    "labelencoder = LabelEncoder()\n",
    "# Assigning numerical values and storing in another column\n",
    "ds_selecionado['typeIndex'] = labelencoder.fit_transform(ds_selecionado['type'])\n",
    "ds_convertido = ds_selecionado\n",
    "ds_selecionado"
   ]
  },
  {
   "cell_type": "code",
   "execution_count": 161,
   "metadata": {},
   "outputs": [],
   "source": [
    "# Exportação do arquivo CSV com o dataset consolidado para utilização no Spark\n",
    "ds_final = ds_convertido\n",
    "ds_final.to_csv('data/data_fraud.csv')"
   ]
  },
  {
   "cell_type": "code",
   "execution_count": 162,
   "metadata": {},
   "outputs": [],
   "source": [
    "# Segregação dos atributos e classes que serão utilizados para treinamento e teste do KNN\n",
    "feature_columns = ['step','amount','oldbalanceOrg','newbalanceOrig','oldbalanceDest','newbalanceDest','typeIndex']\n",
    "X = ds_final[feature_columns].values\n",
    "y = ds_final['isFraud'].values"
   ]
  },
  {
   "cell_type": "code",
   "execution_count": 163,
   "metadata": {},
   "outputs": [],
   "source": [
    "# Split ramdomly the dataset into train and test group\n",
    "X_train, X_test, y_train, y_test = train_test_split(X, y, test_size = test_sample, random_state = 0)"
   ]
  },
  {
   "cell_type": "markdown",
   "metadata": {},
   "source": [
    "## KNN using Scikit-learn"
   ]
  },
  {
   "cell_type": "code",
   "execution_count": 164,
   "metadata": {},
   "outputs": [],
   "source": [
    "start_time_knn =  time.time()\n",
    "# Instantiate learning model (k = 3)\n",
    "classifier = KNeighborsClassifier(n_neighbors=3)\n",
    "\n",
    "# Fitting the model\n",
    "classifier.fit(X_train, y_train)\n",
    "\n",
    "# Predicting the Test set results\n",
    "y_pred = classifier.predict(X_test)"
   ]
  },
  {
   "cell_type": "code",
   "execution_count": 165,
   "metadata": {},
   "outputs": [
    {
     "name": "stdout",
     "output_type": "stream",
     "text": [
      "K-Nearest Neighbors (KNN): accuracy = 96.3 %\n",
      "K-Nearest Neighbors (KNN): time = 0.433 s\n"
     ]
    }
   ],
   "source": [
    "accuracy_knn = accuracy_score(y_test, y_pred)*100\n",
    "time_knn = time.time() - start_time_knn\n",
    "##print('KNN accuracy = ' + str(round(accuracy_knn, 1)) + ' %.')\n",
    "print(\"K-Nearest Neighbors (KNN): accuracy = %3.1f %%\" % accuracy_knn)\n",
    "print(\"K-Nearest Neighbors (KNN): time = %3.3f s\" % time_knn)"
   ]
  },
  {
   "cell_type": "markdown",
   "metadata": {},
   "source": [
    "## Create Spark environment"
   ]
  },
  {
   "cell_type": "code",
   "execution_count": 166,
   "metadata": {},
   "outputs": [],
   "source": [
    "# Create Spark Session\n",
    "spark = SparkSession.builder \\\n",
    "        .master(\"local[*]\") \\\n",
    "        .appName(\"MachineLearningFraud\") \\\n",
    "        .getOrCreate()"
   ]
  },
  {
   "cell_type": "markdown",
   "metadata": {},
   "source": [
    "## Reading Data"
   ]
  },
  {
   "cell_type": "code",
   "execution_count": 167,
   "metadata": {},
   "outputs": [
    {
     "name": "stdout",
     "output_type": "stream",
     "text": [
      "Dataframe read from CSV file\n",
      "root\n",
      " |-- _c0: integer (nullable = true)\n",
      " |-- step: integer (nullable = true)\n",
      " |-- type: string (nullable = true)\n",
      " |-- amount: double (nullable = true)\n",
      " |-- oldbalanceOrg: double (nullable = true)\n",
      " |-- newbalanceOrig: double (nullable = true)\n",
      " |-- oldbalanceDest: double (nullable = true)\n",
      " |-- newbalanceDest: double (nullable = true)\n",
      " |-- isFraud: integer (nullable = true)\n",
      " |-- typeIndex: integer (nullable = true)\n",
      "\n",
      "+-------+----+--------+---------+-------------+--------------+--------------+--------------+-------+---------+\n",
      "|    _c0|step|    type|   amount|oldbalanceOrg|newbalanceOrig|oldbalanceDest|newbalanceDest|isFraud|typeIndex|\n",
      "+-------+----+--------+---------+-------------+--------------+--------------+--------------+-------+---------+\n",
      "|4533972| 326|CASH_OUT|  18275.5|          0.0|           0.0|    2803522.13|    2821797.63|      0|        1|\n",
      "| 548673|  21| PAYMENT|  1029.32|       5367.0|       4337.68|           0.0|           0.0|      0|        3|\n",
      "|5492520| 380| CASH_IN| 83038.79|1.005489075E7| 1.013792955E7|     335442.61|     252403.81|      0|        0|\n",
      "|3125455| 236| PAYMENT| 15010.48|      10138.9|           0.0|           0.0|           0.0|      0|        3|\n",
      "|5671083| 397|CASH_OUT|176746.96|       8745.0|           0.0|           0.0|     176746.96|      0|        1|\n",
      "+-------+----+--------+---------+-------------+--------------+--------------+--------------+-------+---------+\n",
      "only showing top 5 rows\n",
      "\n",
      "+-------+-----+\n",
      "|IsFraud|count|\n",
      "+-------+-----+\n",
      "|      1| 8213|\n",
      "|      0| 8213|\n",
      "+-------+-----+\n",
      "\n"
     ]
    }
   ],
   "source": [
    "# Load Fraud CSV dataset to Spark Dataframe\n",
    "dataset = spark.read.format(\"csv\").options(sep=',',header='true',inferschema='true').\\\n",
    "            load(data_path+'data_fraud.csv')\n",
    "\n",
    "print(\"Dataframe read from CSV file\")\n",
    "\n",
    "dataset.printSchema()\n",
    "dataset.show(5)\n",
    "dataset.groupBy('IsFraud').count().show()"
   ]
  },
  {
   "cell_type": "markdown",
   "metadata": {},
   "source": [
    "### Create Classifier Matrix"
   ]
  },
  {
   "cell_type": "code",
   "execution_count": 168,
   "metadata": {},
   "outputs": [
    {
     "name": "stdout",
     "output_type": "stream",
     "text": [
      "root\n",
      " |-- _c0: integer (nullable = true)\n",
      " |-- step: integer (nullable = true)\n",
      " |-- type: string (nullable = true)\n",
      " |-- amount: double (nullable = true)\n",
      " |-- oldbalanceOrg: double (nullable = true)\n",
      " |-- newbalanceOrig: double (nullable = true)\n",
      " |-- oldbalanceDest: double (nullable = true)\n",
      " |-- newbalanceDest: double (nullable = true)\n",
      " |-- isFraud: integer (nullable = true)\n",
      " |-- typeIndex: integer (nullable = true)\n",
      " |-- label: double (nullable = false)\n",
      "\n",
      "+-------+----+--------+---------+-------------+--------------+--------------+--------------+-------+---------+-----+\n",
      "|    _c0|step|    type|   amount|oldbalanceOrg|newbalanceOrig|oldbalanceDest|newbalanceDest|isFraud|typeIndex|label|\n",
      "+-------+----+--------+---------+-------------+--------------+--------------+--------------+-------+---------+-----+\n",
      "|4533972| 326|CASH_OUT|  18275.5|          0.0|           0.0|    2803522.13|    2821797.63|      0|        1|  0.0|\n",
      "| 548673|  21| PAYMENT|  1029.32|       5367.0|       4337.68|           0.0|           0.0|      0|        3|  0.0|\n",
      "|5492520| 380| CASH_IN| 83038.79|1.005489075E7| 1.013792955E7|     335442.61|     252403.81|      0|        0|  0.0|\n",
      "|3125455| 236| PAYMENT| 15010.48|      10138.9|           0.0|           0.0|           0.0|      0|        3|  0.0|\n",
      "|5671083| 397|CASH_OUT|176746.96|       8745.0|           0.0|           0.0|     176746.96|      0|        1|  0.0|\n",
      "|2213782| 186| PAYMENT| 40817.35|      62205.0|      21387.65|           0.0|           0.0|      0|        3|  0.0|\n",
      "|5062286| 354| CASH_IN|196663.52|      14294.0|     210957.52|     178207.22|           0.0|      0|        0|  0.0|\n",
      "|1187828| 132|TRANSFER|887375.34|          0.0|           0.0| 1.228027302E7| 1.316764836E7|      0|        4|  0.0|\n",
      "|5723481| 398|CASH_OUT|118882.59|        985.0|           0.0|     162477.95|     281360.55|      0|        1|  0.0|\n",
      "|4374393| 311| PAYMENT| 13537.97|     73071.78|      59533.81|           0.0|           0.0|      0|        3|  0.0|\n",
      "+-------+----+--------+---------+-------------+--------------+--------------+--------------+-------+---------+-----+\n",
      "only showing top 10 rows\n",
      "\n",
      "+-----+-----+\n",
      "|label|count|\n",
      "+-----+-----+\n",
      "|  0.0| 8213|\n",
      "|  1.0| 8213|\n",
      "+-----+-----+\n",
      "\n"
     ]
    }
   ],
   "source": [
    "indexer = StringIndexer(inputCol='isFraud', outputCol='label').fit(dataset)\n",
    "dataset = indexer.transform(dataset)\n",
    "\n",
    "# Save the inverse map from numeric \"label\" to string \"class\" to be used further in response\n",
    "labelReverse = IndexToString().setInputCol(\"label\")\n",
    "dataset.printSchema()\n",
    "dataset.show(10)\n",
    "dataset.groupBy('label').count().show()"
   ]
  },
  {
   "cell_type": "code",
   "execution_count": 169,
   "metadata": {},
   "outputs": [
    {
     "data": {
      "text/plain": [
       "['step',\n",
       " 'amount',\n",
       " 'oldbalanceOrg',\n",
       " 'newbalanceOrig',\n",
       " 'oldbalanceDest',\n",
       " 'newbalanceDest',\n",
       " 'typeIndex']"
      ]
     },
     "execution_count": 169,
     "metadata": {},
     "output_type": "execute_result"
    }
   ],
   "source": [
    "# Most Machine Learning Lib inpute 2 columns: label (output) and feature (input)\n",
    "# The label column is the result to train ML algorithm \n",
    "# The feature column should join all parameters as a Vector\n",
    "\n",
    "# Set the column names that is not part of features list\n",
    "ignore = ['label','isFraud','type', '_c0']\n",
    "# list will be all columns parts of features\n",
    "list = [x for x in dataset.columns if x not in ignore]\n",
    "list"
   ]
  },
  {
   "cell_type": "code",
   "execution_count": 170,
   "metadata": {},
   "outputs": [
    {
     "name": "stdout",
     "output_type": "stream",
     "text": [
      "Final Dataframe suitable to classifier input format\n",
      "root\n",
      " |-- label: double (nullable = false)\n",
      " |-- features: vector (nullable = true)\n",
      "\n",
      "+-----+--------------------+\n",
      "|label|            features|\n",
      "+-----+--------------------+\n",
      "|  0.0|[326.0,18275.5,0....|\n",
      "|  0.0|[21.0,1029.32,536...|\n",
      "|  0.0|[380.0,83038.79,1...|\n",
      "|  0.0|[236.0,15010.48,1...|\n",
      "|  0.0|[397.0,176746.96,...|\n",
      "+-----+--------------------+\n",
      "only showing top 5 rows\n",
      "\n",
      "+-----+-----+\n",
      "|label|count|\n",
      "+-----+-----+\n",
      "|  0.0| 8213|\n",
      "|  1.0| 8213|\n",
      "+-----+-----+\n",
      "\n"
     ]
    }
   ],
   "source": [
    "# VectorAssembler mount the vector of features\n",
    "assembler = VectorAssembler(\n",
    "            inputCols=list,\n",
    "            outputCol='features')\n",
    "\n",
    "# Create final dataframe composed by label and a column of features vector\n",
    "data = (assembler.transform(dataset).select('label','features'))\n",
    "\n",
    "print(\"Final Dataframe suitable to classifier input format\")\n",
    "data.printSchema()\n",
    "data.show(5)\n",
    "data.groupBy('label').count().show()"
   ]
  },
  {
   "cell_type": "markdown",
   "metadata": {},
   "source": [
    "### Create Train and Test Dataset"
   ]
  },
  {
   "cell_type": "code",
   "execution_count": 171,
   "metadata": {},
   "outputs": [],
   "source": [
    "# Split ramdomly the dataset into train and test group\n",
    "# [0.7,0.3] => 70% for train and 30% for test\n",
    "# [1.0,0.2] => 100% for train and 20% for test, not good, acuracy always 100%\n",
    "# [0.1,0.02] => 10% for train and 2% for test, if big datasets\n",
    "# 1234 is the random seed\n",
    "\n",
    "(train, test) = data.randomSplit([train_sample, test_sample], 1234)"
   ]
  },
  {
   "cell_type": "markdown",
   "metadata": {},
   "source": [
    "## Run Decision Tree"
   ]
  },
  {
   "cell_type": "code",
   "execution_count": 172,
   "metadata": {},
   "outputs": [],
   "source": [
    "start_time_dt =  time.time()\n",
    "\n",
    "# impurity could be: entropy, gini'\n",
    "\n",
    "trainer = DecisionTreeClassifier(featuresCol='features', labelCol='label', predictionCol='prediction', probabilityCol='probability',\\\n",
    "                                 rawPredictionCol='rawPrediction', maxDepth=5, maxBins=32, minInstancesPerNode=1, minInfoGain=0.0,\\\n",
    "                                 maxMemoryInMB=256, cacheNodeIds=False, checkpointInterval=10, impurity='gini', seed=None)\n",
    "\n",
    "# train the model and get the result\n",
    "model_dt = trainer.fit(train)\n",
    "result_dt = model_dt.transform(test)"
   ]
  },
  {
   "cell_type": "code",
   "execution_count": 173,
   "metadata": {},
   "outputs": [
    {
     "name": "stdout",
     "output_type": "stream",
     "text": [
      "Decision Tree: accuracy = 96.4 %\n",
      "Decision Tree: time = 2.156 s\n"
     ]
    }
   ],
   "source": [
    "# compute accuracy on the test set against model\n",
    "evaluator = MulticlassClassificationEvaluator(labelCol='label', predictionCol='prediction',\\\n",
    "            metricName='accuracy')\n",
    "\n",
    "accuracy_dt = evaluator.evaluate(result_dt) * 100\n",
    "time_dt = time.time() - start_time_dt\n",
    "\n",
    "print(\"Decision Tree: accuracy = %3.1f %%\" % accuracy_dt)\n",
    "print(\"Decision Tree: time = %3.3f s\" % time_dt)"
   ]
  },
  {
   "cell_type": "code",
   "execution_count": 174,
   "metadata": {},
   "outputs": [
    {
     "name": "stdout",
     "output_type": "stream",
     "text": [
      "Decision Tree Final Result\n",
      "+-----+--------------------+--------------+--------------------+----------+\n",
      "|label|            features| rawPrediction|         probability|prediction|\n",
      "+-----+--------------------+--------------+--------------------+----------+\n",
      "|  0.0|(7,[0,1,6],[5.0,4...|[3338.0,226.0]|[0.93658810325476...|       0.0|\n",
      "|  0.0|(7,[0,1,6],[7.0,6...|[3338.0,226.0]|[0.93658810325476...|       0.0|\n",
      "|  0.0|(7,[0,1,6],[7.0,8...|[3338.0,226.0]|[0.93658810325476...|       0.0|\n",
      "|  0.0|(7,[0,1,6],[10.0,...|[3338.0,226.0]|[0.93658810325476...|       0.0|\n",
      "|  0.0|(7,[0,1,6],[12.0,...|[3338.0,226.0]|[0.93658810325476...|       0.0|\n",
      "+-----+--------------------+--------------+--------------------+----------+\n",
      "only showing top 5 rows\n",
      "\n"
     ]
    }
   ],
   "source": [
    "print(\"Decision Tree Final Result\")\n",
    "result_dt.show(5)"
   ]
  },
  {
   "cell_type": "markdown",
   "metadata": {},
   "source": [
    "## Run Decision Forest"
   ]
  },
  {
   "cell_type": "code",
   "execution_count": 175,
   "metadata": {},
   "outputs": [],
   "source": [
    "start_time_rf =  time.time()\n",
    "\n",
    "trainer = RandomForestClassifier(featuresCol='features', labelCol='label', predictionCol='prediction', probabilityCol='probability',\\\n",
    "                                 rawPredictionCol='rawPrediction', maxDepth=5, maxBins=32, minInstancesPerNode=1, minInfoGain=0.0,\\\n",
    "                                 numTrees=50, featureSubsetStrategy='auto', seed=None, subsamplingRate=1.0,\\\n",
    "                                 maxMemoryInMB=256, cacheNodeIds=False, checkpointInterval=10, impurity='gini')\n",
    "\n",
    "# impurity could be: entropy, gini'\n",
    "# numTrees= set the number of random trees to create\n",
    "\n",
    "# train the model and get the result\n",
    "model_rf = trainer.fit(train)\n",
    "result_rf = model_rf.transform(test)"
   ]
  },
  {
   "cell_type": "code",
   "execution_count": 176,
   "metadata": {},
   "outputs": [
    {
     "name": "stdout",
     "output_type": "stream",
     "text": [
      "Random Forest: accuracy = 95.6 %\n",
      "Random Forest: time = 5.034 s\n"
     ]
    }
   ],
   "source": [
    "# compute accuracy on the test set against model\n",
    "evaluator = MulticlassClassificationEvaluator(labelCol='label', predictionCol='prediction',\\\n",
    "            metricName='accuracy')\n",
    "\n",
    "accuracy_rf = evaluator.evaluate(result_rf) * 100\n",
    "time_rf = time.time() - start_time_rf\n",
    "\n",
    "print(\"Random Forest: accuracy = %3.1f %%\" % accuracy_rf)\n",
    "print(\"Random Forest: time = %3.3f s\" % time_rf)"
   ]
  },
  {
   "cell_type": "code",
   "execution_count": 177,
   "metadata": {},
   "outputs": [
    {
     "name": "stdout",
     "output_type": "stream",
     "text": [
      "Decision Tree Final Result\n",
      "+-----+--------------------+--------------------+--------------------+----------+\n",
      "|label|            features|       rawPrediction|         probability|prediction|\n",
      "+-----+--------------------+--------------------+--------------------+----------+\n",
      "|  0.0|(7,[0,1,6],[5.0,4...|[46.8100350377331...|[0.93620070075466...|       0.0|\n",
      "|  0.0|(7,[0,1,6],[7.0,6...|[46.9309836058309...|[0.93861967211661...|       0.0|\n",
      "|  0.0|(7,[0,1,6],[7.0,8...|[46.9309836058309...|[0.93861967211661...|       0.0|\n",
      "|  0.0|(7,[0,1,6],[10.0,...|[46.8100350377331...|[0.93620070075466...|       0.0|\n",
      "|  0.0|(7,[0,1,6],[12.0,...|[46.9309836058309...|[0.93861967211661...|       0.0|\n",
      "+-----+--------------------+--------------------+--------------------+----------+\n",
      "only showing top 5 rows\n",
      "\n"
     ]
    }
   ],
   "source": [
    "print(\"Decision Tree Final Result\")\n",
    "result_rf.show(5)"
   ]
  },
  {
   "cell_type": "markdown",
   "metadata": {},
   "source": [
    "## Run Neural network Perceptron"
   ]
  },
  {
   "cell_type": "code",
   "execution_count": 178,
   "metadata": {},
   "outputs": [
    {
     "name": "stdout",
     "output_type": "stream",
     "text": [
      "Perceptron Final Result\n",
      "+-----+--------------------+--------------------+--------------------+----------+\n",
      "|label|            features|       rawPrediction|         probability|prediction|\n",
      "+-----+--------------------+--------------------+--------------------+----------+\n",
      "|  0.0|(7,[0,1,6],[5.0,4...|[2.36604188206474...|[0.97025943238209...|       0.0|\n",
      "|  0.0|(7,[0,1,6],[7.0,6...|[2.36604188206474...|[0.97025943238209...|       0.0|\n",
      "|  0.0|(7,[0,1,6],[7.0,8...|[2.36604188206474...|[0.97025943238209...|       0.0|\n",
      "|  0.0|(7,[0,1,6],[10.0,...|[2.36604188206474...|[0.97025943238209...|       0.0|\n",
      "|  0.0|(7,[0,1,6],[12.0,...|[2.36604188206474...|[0.97025943238209...|       0.0|\n",
      "+-----+--------------------+--------------------+--------------------+----------+\n",
      "only showing top 5 rows\n",
      "\n"
     ]
    }
   ],
   "source": [
    "start_time_pr =  time.time()\n",
    "# specify layers for the neural network\n",
    "# parameter 1: input layer, should be the number of features\n",
    "# parameter 2 and 3: the number os perceptron in two intermediate layers\n",
    "# parameter 4: output layer should be the number os categories (labels)\n",
    "layers = [7, 5, 5, 2]\n",
    "\n",
    "# Create the trainer and set its parameters\n",
    "# featuresCol=name_feature_column, labelCol=name_label_column\n",
    "# maxIter=max_interaction, layers=list_number_perceptron \n",
    "\n",
    "trainer = MultilayerPerceptronClassifier(featuresCol='features', labelCol='label',\\\n",
    "          maxIter=100, layers=layers, blockSize=128, seed=1234)\n",
    "\n",
    "# train the model and get the result\n",
    "model_pr = trainer.fit(train)\n",
    "result_pr = model_pr.transform(test)\n",
    "\n",
    "print(\"Perceptron Final Result\")\n",
    "result_pr.show(5)"
   ]
  },
  {
   "cell_type": "code",
   "execution_count": 179,
   "metadata": {},
   "outputs": [
    {
     "name": "stdout",
     "output_type": "stream",
     "text": [
      "Multilayer Perceptron: accuracy = 97.5 %\n",
      "Multilayer Perceptron: time = 21.198 s\n"
     ]
    }
   ],
   "source": [
    "# compute accuracy on the test set against model\n",
    "evaluator = MulticlassClassificationEvaluator(labelCol='label', predictionCol='prediction',\\\n",
    "            metricName='accuracy')\n",
    "\n",
    "accuracy_pr = evaluator.evaluate(result_pr) * 100\n",
    "time_pr = time.time() - start_time_pr\n",
    "\n",
    "print(\"Multilayer Perceptron: accuracy = %3.1f %%\" % accuracy_pr)\n",
    "print(\"Multilayer Perceptron: time = %3.3f s\" % time_pr)"
   ]
  },
  {
   "cell_type": "code",
   "execution_count": 180,
   "metadata": {},
   "outputs": [
    {
     "name": "stdout",
     "output_type": "stream",
     "text": [
      "Perceptron final result with name of class\n",
      "+-----+--------------------+--------------------+--------------------+----------+\n",
      "|label|            features|       rawPrediction|         probability|prediction|\n",
      "+-----+--------------------+--------------------+--------------------+----------+\n",
      "|  0.0|(7,[0,1,6],[5.0,4...|[2.36604188206474...|[0.97025943238209...|       0.0|\n",
      "|  0.0|(7,[0,1,6],[7.0,6...|[2.36604188206474...|[0.97025943238209...|       0.0|\n",
      "|  0.0|(7,[0,1,6],[7.0,8...|[2.36604188206474...|[0.97025943238209...|       0.0|\n",
      "|  0.0|(7,[0,1,6],[10.0,...|[2.36604188206474...|[0.97025943238209...|       0.0|\n",
      "|  0.0|(7,[0,1,6],[12.0,...|[2.36604188206474...|[0.97025943238209...|       0.0|\n",
      "+-----+--------------------+--------------------+--------------------+----------+\n",
      "only showing top 5 rows\n",
      "\n"
     ]
    }
   ],
   "source": [
    "print(\"Perceptron final result with name of class\")\n",
    "result_pr.show(5)"
   ]
  },
  {
   "cell_type": "markdown",
   "metadata": {},
   "source": [
    "## Run Naive Bayes"
   ]
  },
  {
   "cell_type": "code",
   "execution_count": 181,
   "metadata": {},
   "outputs": [],
   "source": [
    "start_time_nb =  time.time()\n",
    "\n",
    "# create the trainer and set its parameters\n",
    "trainer = NaiveBayes(smoothing=1.0, modelType='multinomial')\n",
    "\n",
    "# train the model and get the result\n",
    "model_nb = trainer.fit(train)\n",
    "result_nb = model_nb.transform(test)"
   ]
  },
  {
   "cell_type": "code",
   "execution_count": 182,
   "metadata": {},
   "outputs": [
    {
     "name": "stdout",
     "output_type": "stream",
     "text": [
      "Naive Bayes: accuracy = 75.0 %\n",
      "Naive Bayes: time = 1.349 s\n"
     ]
    }
   ],
   "source": [
    "# compute accuracy on the test set against model\n",
    "evaluator = MulticlassClassificationEvaluator(labelCol='label', predictionCol='prediction',\\\n",
    "            metricName='accuracy')\n",
    "\n",
    "accuracy_nb = evaluator.evaluate(result_nb) * 100\n",
    "time_nb = time.time() - start_time_nb\n",
    "\n",
    "print(\"Naive Bayes: accuracy = %3.1f %%\" % accuracy_nb)\n",
    "print(\"Naive Bayes: time = %3.3f s\" % time_nb)"
   ]
  },
  {
   "cell_type": "code",
   "execution_count": 183,
   "metadata": {},
   "outputs": [
    {
     "name": "stdout",
     "output_type": "stream",
     "text": [
      "Naive Bayes Final Result\n",
      "+-----+--------------------+--------------------+-----------+----------+\n",
      "|label|            features|       rawPrediction|probability|prediction|\n",
      "+-----+--------------------+--------------------+-----------+----------+\n",
      "|  0.0|(7,[0,1,6],[5.0,4...|[-14106.881413622...|  [0.0,1.0]|       1.0|\n",
      "|  0.0|(7,[0,1,6],[7.0,6...|[-20110.509607161...|  [0.0,1.0]|       1.0|\n",
      "|  0.0|(7,[0,1,6],[7.0,8...|[-28242.156984959...|  [0.0,1.0]|       1.0|\n",
      "|  0.0|(7,[0,1,6],[10.0,...|[-10458.789472574...|  [0.0,1.0]|       1.0|\n",
      "|  0.0|(7,[0,1,6],[12.0,...|[-32861.524711339...|  [0.0,1.0]|       1.0|\n",
      "+-----+--------------------+--------------------+-----------+----------+\n",
      "only showing top 5 rows\n",
      "\n"
     ]
    }
   ],
   "source": [
    "print(\"Naive Bayes Final Result\")\n",
    "result_nb.show(5)"
   ]
  },
  {
   "cell_type": "code",
   "execution_count": 184,
   "metadata": {},
   "outputs": [
    {
     "name": "stdout",
     "output_type": "stream",
     "text": [
      "Naive Bayes final result with name of class\n",
      "+-----+--------------------+--------------------+-----------+----------+----------------------------------+\n",
      "|label|            features|       rawPrediction|probability|prediction|IndexToString_39806beb9e99__output|\n",
      "+-----+--------------------+--------------------+-----------+----------+----------------------------------+\n",
      "|  0.0|(7,[0,1,6],[5.0,4...|[-14106.881413622...|  [0.0,1.0]|       1.0|                                 0|\n",
      "|  0.0|(7,[0,1,6],[7.0,6...|[-20110.509607161...|  [0.0,1.0]|       1.0|                                 0|\n",
      "|  0.0|(7,[0,1,6],[7.0,8...|[-28242.156984959...|  [0.0,1.0]|       1.0|                                 0|\n",
      "|  0.0|(7,[0,1,6],[10.0,...|[-10458.789472574...|  [0.0,1.0]|       1.0|                                 0|\n",
      "|  0.0|(7,[0,1,6],[12.0,...|[-32861.524711339...|  [0.0,1.0]|       1.0|                                 0|\n",
      "+-----+--------------------+--------------------+-----------+----------+----------------------------------+\n",
      "only showing top 5 rows\n",
      "\n"
     ]
    }
   ],
   "source": [
    "print(\"Naive Bayes final result with name of class\")\n",
    "labelReverse.transform(result_nb).show(5)"
   ]
  },
  {
   "cell_type": "markdown",
   "metadata": {},
   "source": [
    "## Logistic Regression"
   ]
  },
  {
   "cell_type": "code",
   "execution_count": 185,
   "metadata": {},
   "outputs": [],
   "source": [
    "start_time_lr =  time.time()\n",
    "# create the trainer and set its parameters\n",
    "\n",
    "trainer = LogisticRegression(maxIter=10, tol=1E-6, fitIntercept=True)\n",
    "\n",
    "# train the model and get the result\n",
    "model_lr = trainer.fit(train)\n",
    "result_lr = model_lr.transform(test)"
   ]
  },
  {
   "cell_type": "code",
   "execution_count": 186,
   "metadata": {},
   "outputs": [
    {
     "name": "stdout",
     "output_type": "stream",
     "text": [
      "Logistic Regression: accuracy = 79.2 %\n",
      "Logistic Regression: time = 1.505 s\n"
     ]
    }
   ],
   "source": [
    "# compute accuracy on the test set against model\n",
    "evaluator = MulticlassClassificationEvaluator(labelCol='label', predictionCol='prediction',\\\n",
    "            metricName='accuracy')\n",
    "\n",
    "accuracy_lr = evaluator.evaluate(result_lr) * 100\n",
    "time_lr = time.time() - start_time_lr\n",
    "\n",
    "print(\"Logistic Regression: accuracy = %3.1f %%\" % accuracy_lr)\n",
    "print(\"Logistic Regression: time = %3.3f s\" % time_lr)"
   ]
  },
  {
   "cell_type": "code",
   "execution_count": 187,
   "metadata": {},
   "outputs": [
    {
     "name": "stdout",
     "output_type": "stream",
     "text": [
      "Logistic Regression Final Result\n",
      "+-----+--------------------+--------------------+--------------------+----------+\n",
      "|label|            features|       rawPrediction|         probability|prediction|\n",
      "+-----+--------------------+--------------------+--------------------+----------+\n",
      "|  0.0|(7,[0,1,6],[5.0,4...|[0.83853269578664...|[0.69815609481268...|       0.0|\n",
      "|  0.0|(7,[0,1,6],[7.0,6...|[0.82838666667820...|[0.69601369095093...|       0.0|\n",
      "|  0.0|(7,[0,1,6],[7.0,8...|[0.82296277887263...|[0.69486489364898...|       0.0|\n",
      "|  0.0|(7,[0,1,6],[10.0,...|[0.82561213162020...|[0.69542633956384...|       0.0|\n",
      "|  0.0|(7,[0,1,6],[12.0,...|[0.80452773878392...|[0.69094217433764...|       0.0|\n",
      "+-----+--------------------+--------------------+--------------------+----------+\n",
      "only showing top 5 rows\n",
      "\n"
     ]
    }
   ],
   "source": [
    "print(\"Logistic Regression Final Result\")\n",
    "result_lr.show(5)"
   ]
  },
  {
   "cell_type": "code",
   "execution_count": 188,
   "metadata": {},
   "outputs": [
    {
     "name": "stdout",
     "output_type": "stream",
     "text": [
      "Logistic Regression final result with name of class\n",
      "+-----+--------------------+--------------------+--------------------+----------+\n",
      "|label|            features|       rawPrediction|         probability|prediction|\n",
      "+-----+--------------------+--------------------+--------------------+----------+\n",
      "|  0.0|(7,[0,1,6],[5.0,4...|[0.83853269578664...|[0.69815609481268...|       0.0|\n",
      "|  0.0|(7,[0,1,6],[7.0,6...|[0.82838666667820...|[0.69601369095093...|       0.0|\n",
      "|  0.0|(7,[0,1,6],[7.0,8...|[0.82296277887263...|[0.69486489364898...|       0.0|\n",
      "|  0.0|(7,[0,1,6],[10.0,...|[0.82561213162020...|[0.69542633956384...|       0.0|\n",
      "|  0.0|(7,[0,1,6],[12.0,...|[0.80452773878392...|[0.69094217433764...|       0.0|\n",
      "+-----+--------------------+--------------------+--------------------+----------+\n",
      "only showing top 5 rows\n",
      "\n"
     ]
    }
   ],
   "source": [
    "print(\"Logistic Regression final result with name of class\")\n",
    "result_lr.show(5)"
   ]
  },
  {
   "cell_type": "markdown",
   "metadata": {},
   "source": [
    "## Run Suport Vector Machines (SVM)"
   ]
  },
  {
   "cell_type": "code",
   "execution_count": 189,
   "metadata": {},
   "outputs": [],
   "source": [
    "start_time_svm =  time.time()\n",
    "\n",
    "# create the trainer and set its parameters\n",
    "trainer = LinearSVC(featuresCol='features', labelCol='label',\\\n",
    "                    maxIter=100, regParam=0.1)\n",
    "\n",
    "# LinearSVC classify ONLY in two classes\n",
    "# To classify in more than 2 classes, the OneVsrest should be used\n",
    "# Cloud use any kind of classifies\n",
    "\n",
    "# instantiate the One Vs Rest Classifier.\n",
    "ovr_trainer = OneVsRest(classifier=trainer)\n",
    "\n",
    "# train the multiclass model.\n",
    "model_svm = ovr_trainer.fit(train)\n",
    "\n",
    "# score the model on test data.\n",
    "result_svm = model_svm.transform(test)"
   ]
  },
  {
   "cell_type": "code",
   "execution_count": 190,
   "metadata": {},
   "outputs": [
    {
     "name": "stdout",
     "output_type": "stream",
     "text": [
      "Suport Vector Machines (SVM): accuracy = 75.5 %\n",
      "Suport Vector Machines (SVM): time = 64.757 s\n"
     ]
    }
   ],
   "source": [
    "# compute accuracy on the test set against model\n",
    "evaluator = MulticlassClassificationEvaluator(labelCol='label', predictionCol='prediction',\\\n",
    "            metricName='accuracy')\n",
    "\n",
    "accuracy_svm = evaluator.evaluate(result_svm) * 100\n",
    "time_svm = time.time() - start_time_svm\n",
    "\n",
    "print(\"Suport Vector Machines (SVM): accuracy = %3.1f %%\" % accuracy_svm)\n",
    "print(\"Suport Vector Machines (SVM): time = %3.3f s\" % time_svm)"
   ]
  },
  {
   "cell_type": "code",
   "execution_count": 191,
   "metadata": {},
   "outputs": [
    {
     "name": "stdout",
     "output_type": "stream",
     "text": [
      "Suport Vector Machines (SVM) Final Result\n",
      "+-----+--------------------+----------+\n",
      "|label|            features|prediction|\n",
      "+-----+--------------------+----------+\n",
      "|  0.0|(7,[0,1,6],[5.0,4...|       0.0|\n",
      "|  0.0|(7,[0,1,6],[7.0,6...|       0.0|\n",
      "|  0.0|(7,[0,1,6],[7.0,8...|       0.0|\n",
      "|  0.0|(7,[0,1,6],[10.0,...|       0.0|\n",
      "|  0.0|(7,[0,1,6],[12.0,...|       0.0|\n",
      "+-----+--------------------+----------+\n",
      "only showing top 5 rows\n",
      "\n"
     ]
    }
   ],
   "source": [
    "print(\"Suport Vector Machines (SVM) Final Result\")\n",
    "result_svm.show(5)"
   ]
  },
  {
   "cell_type": "markdown",
   "metadata": {},
   "source": [
    "## Sumary"
   ]
  },
  {
   "cell_type": "code",
   "execution_count": 192,
   "metadata": {},
   "outputs": [
    {
     "name": "stdout",
     "output_type": "stream",
     "text": [
      "==================================================================\n",
      "=============  Compare Algorithm Acurancy and Time ===============\n",
      "\n",
      "      Train sample =  70.0 %     Test sample =  30.0 %\n",
      "\n",
      "K-Nearest Neighbors (KNN):    accuracy = 96.3 %   time = 0.433 s\n",
      "Decision Tree:                accuracy = 96.4 %   time = 2.156 s\n",
      "Random Forest:                accuracy = 95.6 %   time = 5.034 s\n",
      "Multilayer Perceptron:        accuracy = 97.5 %   time = 21.198 s\n",
      "Naive Bayes:                  accuracy = 75.0 %   time = 1.349 s\n",
      "Logistic Regression:          accuracy = 79.2 %   time = 1.505 s\n",
      "Suport Vector Machines (SVM): accuracy = 75.5 %   time = 64.757 s\n",
      "===================================================================\n"
     ]
    }
   ],
   "source": [
    "print(\"==================================================================\")\n",
    "print(\"=============  Compare Algorithm Acurancy and Time ===============\")\n",
    "print()\n",
    "print(\"      Train sample = \",train_sample*100,\"%     Test sample = \",test_sample*100,\"%\")\n",
    "print()\n",
    "print(\"K-Nearest Neighbors (KNN):    accuracy = %3.1f %%   time = %3.3f s\" % (accuracy_knn, time_knn))\n",
    "print(\"Decision Tree:                accuracy = %3.1f %%   time = %3.3f s\" % (accuracy_dt, time_dt))\n",
    "print(\"Random Forest:                accuracy = %3.1f %%   time = %3.3f s\" % (accuracy_rf, time_rf))\n",
    "print(\"Multilayer Perceptron:        accuracy = %3.1f %%   time = %3.3f s\" % (accuracy_pr, time_pr))\n",
    "print(\"Naive Bayes:                  accuracy = %3.1f %%   time = %3.3f s\" % (accuracy_nb, time_nb))\n",
    "print(\"Logistic Regression:          accuracy = %3.1f %%   time = %3.3f s\" % (accuracy_lr, time_lr))\n",
    "print(\"Suport Vector Machines (SVM): accuracy = %3.1f %%   time = %3.3f s\" % (accuracy_svm, time_svm))\n",
    "print(\"===================================================================\")"
   ]
  },
  {
   "cell_type": "code",
   "execution_count": 193,
   "metadata": {},
   "outputs": [
    {
     "name": "stdout",
     "output_type": "stream",
     "text": [
      "--- Execution time: 127.90521812438965 seconds ---\n"
     ]
    }
   ],
   "source": [
    "print(\"--- Execution time: %s seconds ---\" % (time.time() - start_time))"
   ]
  },
  {
   "cell_type": "markdown",
   "metadata": {},
   "source": [
    "## Teste de classificação"
   ]
  },
  {
   "cell_type": "code",
   "execution_count": 194,
   "metadata": {},
   "outputs": [
    {
     "data": {
      "text/html": [
       "<div>\n",
       "<style scoped>\n",
       "    .dataframe tbody tr th:only-of-type {\n",
       "        vertical-align: middle;\n",
       "    }\n",
       "\n",
       "    .dataframe tbody tr th {\n",
       "        vertical-align: top;\n",
       "    }\n",
       "\n",
       "    .dataframe thead th {\n",
       "        text-align: right;\n",
       "    }\n",
       "</style>\n",
       "<table border=\"1\" class=\"dataframe\">\n",
       "  <thead>\n",
       "    <tr style=\"text-align: right;\">\n",
       "      <th></th>\n",
       "      <th>step</th>\n",
       "      <th>type</th>\n",
       "      <th>amount</th>\n",
       "      <th>oldbalanceOrg</th>\n",
       "      <th>newbalanceOrig</th>\n",
       "      <th>oldbalanceDest</th>\n",
       "      <th>newbalanceDest</th>\n",
       "      <th>isFraud</th>\n",
       "      <th>typeIndex</th>\n",
       "    </tr>\n",
       "  </thead>\n",
       "  <tbody>\n",
       "    <tr>\n",
       "      <th>4533972</th>\n",
       "      <td>326</td>\n",
       "      <td>CASH_OUT</td>\n",
       "      <td>18275.50</td>\n",
       "      <td>0.00</td>\n",
       "      <td>0.00</td>\n",
       "      <td>2803522.13</td>\n",
       "      <td>2821797.63</td>\n",
       "      <td>0</td>\n",
       "      <td>1</td>\n",
       "    </tr>\n",
       "    <tr>\n",
       "      <th>548673</th>\n",
       "      <td>21</td>\n",
       "      <td>PAYMENT</td>\n",
       "      <td>1029.32</td>\n",
       "      <td>5367.00</td>\n",
       "      <td>4337.68</td>\n",
       "      <td>0.00</td>\n",
       "      <td>0.00</td>\n",
       "      <td>0</td>\n",
       "      <td>3</td>\n",
       "    </tr>\n",
       "    <tr>\n",
       "      <th>5492520</th>\n",
       "      <td>380</td>\n",
       "      <td>CASH_IN</td>\n",
       "      <td>83038.79</td>\n",
       "      <td>10054890.75</td>\n",
       "      <td>10137929.55</td>\n",
       "      <td>335442.61</td>\n",
       "      <td>252403.81</td>\n",
       "      <td>0</td>\n",
       "      <td>0</td>\n",
       "    </tr>\n",
       "    <tr>\n",
       "      <th>3125455</th>\n",
       "      <td>236</td>\n",
       "      <td>PAYMENT</td>\n",
       "      <td>15010.48</td>\n",
       "      <td>10138.90</td>\n",
       "      <td>0.00</td>\n",
       "      <td>0.00</td>\n",
       "      <td>0.00</td>\n",
       "      <td>0</td>\n",
       "      <td>3</td>\n",
       "    </tr>\n",
       "    <tr>\n",
       "      <th>5671083</th>\n",
       "      <td>397</td>\n",
       "      <td>CASH_OUT</td>\n",
       "      <td>176746.96</td>\n",
       "      <td>8745.00</td>\n",
       "      <td>0.00</td>\n",
       "      <td>0.00</td>\n",
       "      <td>176746.96</td>\n",
       "      <td>0</td>\n",
       "      <td>1</td>\n",
       "    </tr>\n",
       "    <tr>\n",
       "      <th>...</th>\n",
       "      <td>...</td>\n",
       "      <td>...</td>\n",
       "      <td>...</td>\n",
       "      <td>...</td>\n",
       "      <td>...</td>\n",
       "      <td>...</td>\n",
       "      <td>...</td>\n",
       "      <td>...</td>\n",
       "      <td>...</td>\n",
       "    </tr>\n",
       "    <tr>\n",
       "      <th>6362615</th>\n",
       "      <td>743</td>\n",
       "      <td>CASH_OUT</td>\n",
       "      <td>339682.13</td>\n",
       "      <td>339682.13</td>\n",
       "      <td>0.00</td>\n",
       "      <td>0.00</td>\n",
       "      <td>339682.13</td>\n",
       "      <td>1</td>\n",
       "      <td>1</td>\n",
       "    </tr>\n",
       "    <tr>\n",
       "      <th>6362616</th>\n",
       "      <td>743</td>\n",
       "      <td>TRANSFER</td>\n",
       "      <td>6311409.28</td>\n",
       "      <td>6311409.28</td>\n",
       "      <td>0.00</td>\n",
       "      <td>0.00</td>\n",
       "      <td>0.00</td>\n",
       "      <td>1</td>\n",
       "      <td>4</td>\n",
       "    </tr>\n",
       "    <tr>\n",
       "      <th>6362617</th>\n",
       "      <td>743</td>\n",
       "      <td>CASH_OUT</td>\n",
       "      <td>6311409.28</td>\n",
       "      <td>6311409.28</td>\n",
       "      <td>0.00</td>\n",
       "      <td>68488.84</td>\n",
       "      <td>6379898.11</td>\n",
       "      <td>1</td>\n",
       "      <td>1</td>\n",
       "    </tr>\n",
       "    <tr>\n",
       "      <th>6362618</th>\n",
       "      <td>743</td>\n",
       "      <td>TRANSFER</td>\n",
       "      <td>850002.52</td>\n",
       "      <td>850002.52</td>\n",
       "      <td>0.00</td>\n",
       "      <td>0.00</td>\n",
       "      <td>0.00</td>\n",
       "      <td>1</td>\n",
       "      <td>4</td>\n",
       "    </tr>\n",
       "    <tr>\n",
       "      <th>6362619</th>\n",
       "      <td>743</td>\n",
       "      <td>CASH_OUT</td>\n",
       "      <td>850002.52</td>\n",
       "      <td>850002.52</td>\n",
       "      <td>0.00</td>\n",
       "      <td>6510099.11</td>\n",
       "      <td>7360101.63</td>\n",
       "      <td>1</td>\n",
       "      <td>1</td>\n",
       "    </tr>\n",
       "  </tbody>\n",
       "</table>\n",
       "<p>16426 rows × 9 columns</p>\n",
       "</div>"
      ],
      "text/plain": [
       "         step      type      amount  oldbalanceOrg  newbalanceOrig  \\\n",
       "4533972   326  CASH_OUT    18275.50           0.00            0.00   \n",
       "548673     21   PAYMENT     1029.32        5367.00         4337.68   \n",
       "5492520   380   CASH_IN    83038.79    10054890.75     10137929.55   \n",
       "3125455   236   PAYMENT    15010.48       10138.90            0.00   \n",
       "5671083   397  CASH_OUT   176746.96        8745.00            0.00   \n",
       "...       ...       ...         ...            ...             ...   \n",
       "6362615   743  CASH_OUT   339682.13      339682.13            0.00   \n",
       "6362616   743  TRANSFER  6311409.28     6311409.28            0.00   \n",
       "6362617   743  CASH_OUT  6311409.28     6311409.28            0.00   \n",
       "6362618   743  TRANSFER   850002.52      850002.52            0.00   \n",
       "6362619   743  CASH_OUT   850002.52      850002.52            0.00   \n",
       "\n",
       "         oldbalanceDest  newbalanceDest  isFraud  typeIndex  \n",
       "4533972      2803522.13      2821797.63        0          1  \n",
       "548673             0.00            0.00        0          3  \n",
       "5492520       335442.61       252403.81        0          0  \n",
       "3125455            0.00            0.00        0          3  \n",
       "5671083            0.00       176746.96        0          1  \n",
       "...                 ...             ...      ...        ...  \n",
       "6362615            0.00       339682.13        1          1  \n",
       "6362616            0.00            0.00        1          4  \n",
       "6362617        68488.84      6379898.11        1          1  \n",
       "6362618            0.00            0.00        1          4  \n",
       "6362619      6510099.11      7360101.63        1          1  \n",
       "\n",
       "[16426 rows x 9 columns]"
      ]
     },
     "execution_count": 194,
     "metadata": {},
     "output_type": "execute_result"
    }
   ],
   "source": [
    "ds_final"
   ]
  },
  {
   "cell_type": "code",
   "execution_count": 195,
   "metadata": {},
   "outputs": [],
   "source": [
    "hora = 743\n",
    "valor = 0\n",
    "saldo_antigo_origem = 339682.13\n",
    "saldo_novo_origem = 0.00\n",
    "saldo_antigo_destino = 0.00\n",
    "saldo_novo_destino = 339682.13\n",
    "tipo = 1\n",
    "\n",
    "# Teste do classificador Decision Tree [NÃO FUNCIONOU]\n",
    "\n",
    "#X = [hora,valor,saldo_antigo_origem,saldo_novo_origem,saldo_antigo_destino,saldo_novo_destino,tipo]\n",
    "#X = [743,0,339682,0,0,339682,1]\n",
    "#result_dt = model_dt.transform(X)\n",
    "#result_dt"
   ]
  },
  {
   "cell_type": "code",
   "execution_count": 196,
   "metadata": {},
   "outputs": [],
   "source": [
    "spark.stop()"
   ]
  },
  {
   "cell_type": "code",
   "execution_count": null,
   "metadata": {},
   "outputs": [],
   "source": []
  }
 ],
 "metadata": {
  "kernelspec": {
   "display_name": "Python 3",
   "language": "python",
   "name": "python3"
  },
  "language_info": {
   "codemirror_mode": {
    "name": "ipython",
    "version": 3
   },
   "file_extension": ".py",
   "mimetype": "text/x-python",
   "name": "python",
   "nbconvert_exporter": "python",
   "pygments_lexer": "ipython3",
   "version": "3.6.9"
  }
 },
 "nbformat": 4,
 "nbformat_minor": 4
}
