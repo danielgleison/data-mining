{
 "cells": [
  {
   "cell_type": "markdown",
   "metadata": {},
   "source": [
    "Aluno: Daniel Gleison Moreira Lira \\\n",
    "Aplicação: Machine Learning\n",
    "\n",
    "\n",
    "# Detecção preditiva de fraudes financeiras utilizando aprendizado de máquina\n",
    "---\n",
    "\n",
    "\n",
    "## Database\n",
    "\n",
    "https://www.kaggle.com/ntnu-testimon/paysim1\n",
    "\n",
    "PS_20174392719_1491204439457_log.csv\\\n",
    "Date created: 2017-03-31\n",
    "\n",
    "### Predicted attribute:\n",
    "Class of fraud detection\n",
    "\n",
    "### Number of Instances:\n",
    "6.353.307\n",
    "\n",
    "### Number of Attributes:\n",
    "11 attributes (5 Decimal, 3 Integer, 3 String) and the class\n",
    "\n",
    "### Attribute Information:\n",
    "\n",
    "This is a sample of 1 row with headers explanation:\n",
    "\n",
    "1,PAYMENT,1060.31,C429214117,1089.0,28.69,M1591654462,0.0,0.0,0,0\n",
    "\n",
    "step - maps a unit of time in the real world. In this case 1 step is 1 hour of time. Total steps 744 (30 days simulation).\n",
    "\n",
    "type - CASH-IN, CASH-OUT, DEBIT, PAYMENT and TRANSFER.\n",
    "\n",
    "amount - amount of the transaction in local currency.\n",
    "\n",
    "nameOrig - customer who started the transaction\n",
    "\n",
    "oldbalanceOrg - initial balance before the transaction\n",
    "\n",
    "newbalanceOrig - new balance after the transaction\n",
    "\n",
    "nameDest - customer who is the recipient of the transaction\n",
    "\n",
    "oldbalanceDest - initial balance recipient before the transaction. Note that there is not information for customers that start with M (Merchants).\n",
    "\n",
    "newbalanceDest - new balance recipient after the transaction. Note that there is not information for customers that start with M (Merchants).\n",
    "\n",
    "isFraud - This is the transactions made by the fraudulent agents inside the simulation. In this specific dataset the fraudulent behavior of the agents aims to profit by taking control or customers accounts and try to empty the funds by transferring to another account and then cashing out of the system.\n",
    "\n",
    "isFlaggedFraud - The business model aims to control massive transfers from one account to another and flags illegal attempts. An illegal attempt in this dataset is an attempt to transfer more than 200.000 in a single transaction.\n",
    "\n",
    "### Missing Attribute Values: \n",
    "None\n",
    "\n",
    "### Class Distribution: \n",
    "2 Classes \\\n",
    "6.354.407 without fraud and 8.213 with fraud\n",
    "\n",
    "## References:\n",
    "\n",
    "1. E. A. Lopez-Rojas , A. Elmir, and S. Axelsson. \"PaySim: A financial mobile money simulator for fraud detection\". In: The 28th European Modeling and Simulation Symposium-EMSS, Larnaca, Cyprus. 2016"
   ]
  },
  {
   "cell_type": "code",
   "execution_count": 1,
   "metadata": {},
   "outputs": [],
   "source": [
    "# Spark Lib\n",
    "import findspark\n",
    "findspark.init()"
   ]
  },
  {
   "cell_type": "code",
   "execution_count": 2,
   "metadata": {},
   "outputs": [],
   "source": [
    "# Load libraries\n",
    "import pyspark\n",
    "from pyspark.sql import SparkSession\n",
    "from pyspark.ml import Pipeline\n",
    "from pyspark.ml.classification import DecisionTreeClassifier\n",
    "from pyspark.ml.feature import StringIndexer, VectorIndexer\n",
    "from pyspark.ml.evaluation import MulticlassClassificationEvaluator\n",
    "from pyspark.mllib.util import MLUtils\n",
    "\n",
    "from pyspark.ml.feature import StringIndexer, IndexToString\n",
    "from pyspark.ml.feature import VectorAssembler, VectorIndexer\n",
    "from pyspark.ml.classification import MultilayerPerceptronClassifier\n",
    "from pyspark.ml.classification import NaiveBayes\n",
    "from pyspark.ml.classification import LogisticRegression\n",
    "from pyspark.ml.classification import LinearSVC, OneVsRest\n",
    "from pyspark.ml.classification import RandomForestClassifier\n",
    "from pyspark.ml.classification import DecisionTreeClassifier\n",
    "from pyspark.ml.evaluation import MulticlassClassificationEvaluator\n",
    "\n",
    "from pyspark.ml.linalg import Vectors\n",
    "from pyspark.mllib.util import MLUtils\n",
    "\n",
    "## SKLearn Lib\n",
    "import numpy as np\n",
    "import pandas as pd\n",
    "import matplotlib.pyplot as plt\n",
    "import seaborn as sns\n",
    "from sklearn.preprocessing import LabelEncoder\n",
    "from sklearn.model_selection import train_test_split\n",
    "from sklearn.neighbors import KNeighborsClassifier\n",
    "from sklearn.metrics import confusion_matrix, accuracy_score\n",
    "from sklearn.model_selection import cross_val_score\n",
    "\n",
    "import time\n",
    "start_time = time.time()\n",
    "%matplotlib inline"
   ]
  },
  {
   "cell_type": "markdown",
   "metadata": {},
   "source": [
    "## Configure parameters"
   ]
  },
  {
   "cell_type": "code",
   "execution_count": 3,
   "metadata": {},
   "outputs": [],
   "source": [
    "# Path to dataset file\n",
    "data_path='./data/'\n",
    "\n",
    "# Sample of train and test dataset\n",
    "\n",
    "# [0.7,0.3] => 70% for train and 30% for test\n",
    "# [1.0,0.2] => 100% for train and 20% for test, not good, acuracy always 100%\n",
    "# [0.1,0.02] => 10% for train and 2% for test, if big datasets\n",
    "\n",
    "train_sample = 0.7\n",
    "test_sample = 0.3"
   ]
  },
  {
   "cell_type": "markdown",
   "metadata": {},
   "source": [
    "## Read and show dataset"
   ]
  },
  {
   "cell_type": "code",
   "execution_count": 4,
   "metadata": {},
   "outputs": [],
   "source": [
    "# Importing the dataset\n",
    "ds_original = pd.read_csv(data_path+'PS_20174392719_1491204439457_log.csv')"
   ]
  },
  {
   "cell_type": "code",
   "execution_count": 5,
   "metadata": {},
   "outputs": [
    {
     "name": "stdout",
     "output_type": "stream",
     "text": [
      "Number of itens per class\n"
     ]
    },
    {
     "data": {
      "text/plain": [
       "isFraud\n",
       "0    6354407\n",
       "1       8213\n",
       "dtype: int64"
      ]
     },
     "execution_count": 5,
     "metadata": {},
     "output_type": "execute_result"
    }
   ],
   "source": [
    "ds_original.shape\n",
    "print(\"Number of itens per class\")\n",
    "ds_original.groupby('isFraud').size()"
   ]
  },
  {
   "cell_type": "code",
   "execution_count": 6,
   "metadata": {},
   "outputs": [
    {
     "data": {
      "text/html": [
       "<div>\n",
       "<style scoped>\n",
       "    .dataframe tbody tr th:only-of-type {\n",
       "        vertical-align: middle;\n",
       "    }\n",
       "\n",
       "    .dataframe tbody tr th {\n",
       "        vertical-align: top;\n",
       "    }\n",
       "\n",
       "    .dataframe thead th {\n",
       "        text-align: right;\n",
       "    }\n",
       "</style>\n",
       "<table border=\"1\" class=\"dataframe\">\n",
       "  <thead>\n",
       "    <tr style=\"text-align: right;\">\n",
       "      <th></th>\n",
       "      <th>step</th>\n",
       "      <th>amount</th>\n",
       "      <th>oldbalanceOrg</th>\n",
       "      <th>newbalanceOrig</th>\n",
       "      <th>oldbalanceDest</th>\n",
       "      <th>newbalanceDest</th>\n",
       "      <th>isFraud</th>\n",
       "      <th>isFlaggedFraud</th>\n",
       "    </tr>\n",
       "  </thead>\n",
       "  <tbody>\n",
       "    <tr>\n",
       "      <th>count</th>\n",
       "      <td>6.362620e+06</td>\n",
       "      <td>6.362620e+06</td>\n",
       "      <td>6.362620e+06</td>\n",
       "      <td>6.362620e+06</td>\n",
       "      <td>6.362620e+06</td>\n",
       "      <td>6.362620e+06</td>\n",
       "      <td>6.362620e+06</td>\n",
       "      <td>6.362620e+06</td>\n",
       "    </tr>\n",
       "    <tr>\n",
       "      <th>mean</th>\n",
       "      <td>2.433972e+02</td>\n",
       "      <td>1.798619e+05</td>\n",
       "      <td>8.338831e+05</td>\n",
       "      <td>8.551137e+05</td>\n",
       "      <td>1.100702e+06</td>\n",
       "      <td>1.224996e+06</td>\n",
       "      <td>1.290820e-03</td>\n",
       "      <td>2.514687e-06</td>\n",
       "    </tr>\n",
       "    <tr>\n",
       "      <th>std</th>\n",
       "      <td>1.423320e+02</td>\n",
       "      <td>6.038582e+05</td>\n",
       "      <td>2.888243e+06</td>\n",
       "      <td>2.924049e+06</td>\n",
       "      <td>3.399180e+06</td>\n",
       "      <td>3.674129e+06</td>\n",
       "      <td>3.590480e-02</td>\n",
       "      <td>1.585775e-03</td>\n",
       "    </tr>\n",
       "    <tr>\n",
       "      <th>min</th>\n",
       "      <td>1.000000e+00</td>\n",
       "      <td>0.000000e+00</td>\n",
       "      <td>0.000000e+00</td>\n",
       "      <td>0.000000e+00</td>\n",
       "      <td>0.000000e+00</td>\n",
       "      <td>0.000000e+00</td>\n",
       "      <td>0.000000e+00</td>\n",
       "      <td>0.000000e+00</td>\n",
       "    </tr>\n",
       "    <tr>\n",
       "      <th>25%</th>\n",
       "      <td>1.560000e+02</td>\n",
       "      <td>1.338957e+04</td>\n",
       "      <td>0.000000e+00</td>\n",
       "      <td>0.000000e+00</td>\n",
       "      <td>0.000000e+00</td>\n",
       "      <td>0.000000e+00</td>\n",
       "      <td>0.000000e+00</td>\n",
       "      <td>0.000000e+00</td>\n",
       "    </tr>\n",
       "    <tr>\n",
       "      <th>50%</th>\n",
       "      <td>2.390000e+02</td>\n",
       "      <td>7.487194e+04</td>\n",
       "      <td>1.420800e+04</td>\n",
       "      <td>0.000000e+00</td>\n",
       "      <td>1.327057e+05</td>\n",
       "      <td>2.146614e+05</td>\n",
       "      <td>0.000000e+00</td>\n",
       "      <td>0.000000e+00</td>\n",
       "    </tr>\n",
       "    <tr>\n",
       "      <th>75%</th>\n",
       "      <td>3.350000e+02</td>\n",
       "      <td>2.087215e+05</td>\n",
       "      <td>1.073152e+05</td>\n",
       "      <td>1.442584e+05</td>\n",
       "      <td>9.430367e+05</td>\n",
       "      <td>1.111909e+06</td>\n",
       "      <td>0.000000e+00</td>\n",
       "      <td>0.000000e+00</td>\n",
       "    </tr>\n",
       "    <tr>\n",
       "      <th>max</th>\n",
       "      <td>7.430000e+02</td>\n",
       "      <td>9.244552e+07</td>\n",
       "      <td>5.958504e+07</td>\n",
       "      <td>4.958504e+07</td>\n",
       "      <td>3.560159e+08</td>\n",
       "      <td>3.561793e+08</td>\n",
       "      <td>1.000000e+00</td>\n",
       "      <td>1.000000e+00</td>\n",
       "    </tr>\n",
       "  </tbody>\n",
       "</table>\n",
       "</div>"
      ],
      "text/plain": [
       "               step        amount  oldbalanceOrg  newbalanceOrig  \\\n",
       "count  6.362620e+06  6.362620e+06   6.362620e+06    6.362620e+06   \n",
       "mean   2.433972e+02  1.798619e+05   8.338831e+05    8.551137e+05   \n",
       "std    1.423320e+02  6.038582e+05   2.888243e+06    2.924049e+06   \n",
       "min    1.000000e+00  0.000000e+00   0.000000e+00    0.000000e+00   \n",
       "25%    1.560000e+02  1.338957e+04   0.000000e+00    0.000000e+00   \n",
       "50%    2.390000e+02  7.487194e+04   1.420800e+04    0.000000e+00   \n",
       "75%    3.350000e+02  2.087215e+05   1.073152e+05    1.442584e+05   \n",
       "max    7.430000e+02  9.244552e+07   5.958504e+07    4.958504e+07   \n",
       "\n",
       "       oldbalanceDest  newbalanceDest       isFraud  isFlaggedFraud  \n",
       "count    6.362620e+06    6.362620e+06  6.362620e+06    6.362620e+06  \n",
       "mean     1.100702e+06    1.224996e+06  1.290820e-03    2.514687e-06  \n",
       "std      3.399180e+06    3.674129e+06  3.590480e-02    1.585775e-03  \n",
       "min      0.000000e+00    0.000000e+00  0.000000e+00    0.000000e+00  \n",
       "25%      0.000000e+00    0.000000e+00  0.000000e+00    0.000000e+00  \n",
       "50%      1.327057e+05    2.146614e+05  0.000000e+00    0.000000e+00  \n",
       "75%      9.430367e+05    1.111909e+06  0.000000e+00    0.000000e+00  \n",
       "max      3.560159e+08    3.561793e+08  1.000000e+00    1.000000e+00  "
      ]
     },
     "execution_count": 6,
     "metadata": {},
     "output_type": "execute_result"
    }
   ],
   "source": [
    "ds_original.describe()"
   ]
  },
  {
   "cell_type": "code",
   "execution_count": 7,
   "metadata": {},
   "outputs": [
    {
     "data": {
      "text/html": [
       "<div>\n",
       "<style scoped>\n",
       "    .dataframe tbody tr th:only-of-type {\n",
       "        vertical-align: middle;\n",
       "    }\n",
       "\n",
       "    .dataframe tbody tr th {\n",
       "        vertical-align: top;\n",
       "    }\n",
       "\n",
       "    .dataframe thead th {\n",
       "        text-align: right;\n",
       "    }\n",
       "</style>\n",
       "<table border=\"1\" class=\"dataframe\">\n",
       "  <thead>\n",
       "    <tr style=\"text-align: right;\">\n",
       "      <th></th>\n",
       "      <th>step</th>\n",
       "      <th>type</th>\n",
       "      <th>amount</th>\n",
       "      <th>nameOrig</th>\n",
       "      <th>oldbalanceOrg</th>\n",
       "      <th>newbalanceOrig</th>\n",
       "      <th>nameDest</th>\n",
       "      <th>oldbalanceDest</th>\n",
       "      <th>newbalanceDest</th>\n",
       "      <th>isFraud</th>\n",
       "      <th>isFlaggedFraud</th>\n",
       "    </tr>\n",
       "  </thead>\n",
       "  <tbody>\n",
       "    <tr>\n",
       "      <th>0</th>\n",
       "      <td>1</td>\n",
       "      <td>PAYMENT</td>\n",
       "      <td>9839.64</td>\n",
       "      <td>C1231006815</td>\n",
       "      <td>170136.0</td>\n",
       "      <td>160296.36</td>\n",
       "      <td>M1979787155</td>\n",
       "      <td>0.0</td>\n",
       "      <td>0.0</td>\n",
       "      <td>0</td>\n",
       "      <td>0</td>\n",
       "    </tr>\n",
       "    <tr>\n",
       "      <th>1</th>\n",
       "      <td>1</td>\n",
       "      <td>PAYMENT</td>\n",
       "      <td>1864.28</td>\n",
       "      <td>C1666544295</td>\n",
       "      <td>21249.0</td>\n",
       "      <td>19384.72</td>\n",
       "      <td>M2044282225</td>\n",
       "      <td>0.0</td>\n",
       "      <td>0.0</td>\n",
       "      <td>0</td>\n",
       "      <td>0</td>\n",
       "    </tr>\n",
       "    <tr>\n",
       "      <th>2</th>\n",
       "      <td>1</td>\n",
       "      <td>TRANSFER</td>\n",
       "      <td>181.00</td>\n",
       "      <td>C1305486145</td>\n",
       "      <td>181.0</td>\n",
       "      <td>0.00</td>\n",
       "      <td>C553264065</td>\n",
       "      <td>0.0</td>\n",
       "      <td>0.0</td>\n",
       "      <td>1</td>\n",
       "      <td>0</td>\n",
       "    </tr>\n",
       "    <tr>\n",
       "      <th>3</th>\n",
       "      <td>1</td>\n",
       "      <td>CASH_OUT</td>\n",
       "      <td>181.00</td>\n",
       "      <td>C840083671</td>\n",
       "      <td>181.0</td>\n",
       "      <td>0.00</td>\n",
       "      <td>C38997010</td>\n",
       "      <td>21182.0</td>\n",
       "      <td>0.0</td>\n",
       "      <td>1</td>\n",
       "      <td>0</td>\n",
       "    </tr>\n",
       "    <tr>\n",
       "      <th>4</th>\n",
       "      <td>1</td>\n",
       "      <td>PAYMENT</td>\n",
       "      <td>11668.14</td>\n",
       "      <td>C2048537720</td>\n",
       "      <td>41554.0</td>\n",
       "      <td>29885.86</td>\n",
       "      <td>M1230701703</td>\n",
       "      <td>0.0</td>\n",
       "      <td>0.0</td>\n",
       "      <td>0</td>\n",
       "      <td>0</td>\n",
       "    </tr>\n",
       "  </tbody>\n",
       "</table>\n",
       "</div>"
      ],
      "text/plain": [
       "   step      type    amount     nameOrig  oldbalanceOrg  newbalanceOrig  \\\n",
       "0     1   PAYMENT   9839.64  C1231006815       170136.0       160296.36   \n",
       "1     1   PAYMENT   1864.28  C1666544295        21249.0        19384.72   \n",
       "2     1  TRANSFER    181.00  C1305486145          181.0            0.00   \n",
       "3     1  CASH_OUT    181.00   C840083671          181.0            0.00   \n",
       "4     1   PAYMENT  11668.14  C2048537720        41554.0        29885.86   \n",
       "\n",
       "      nameDest  oldbalanceDest  newbalanceDest  isFraud  isFlaggedFraud  \n",
       "0  M1979787155             0.0             0.0        0               0  \n",
       "1  M2044282225             0.0             0.0        0               0  \n",
       "2   C553264065             0.0             0.0        1               0  \n",
       "3    C38997010         21182.0             0.0        1               0  \n",
       "4  M1230701703             0.0             0.0        0               0  "
      ]
     },
     "execution_count": 7,
     "metadata": {},
     "output_type": "execute_result"
    }
   ],
   "source": [
    "ds_original.head()"
   ]
  },
  {
   "cell_type": "code",
   "execution_count": 8,
   "metadata": {},
   "outputs": [
    {
     "name": "stdout",
     "output_type": "stream",
     "text": [
      "<class 'pandas.core.frame.DataFrame'>\n",
      "RangeIndex: 6362620 entries, 0 to 6362619\n",
      "Data columns (total 11 columns):\n",
      " #   Column          Dtype  \n",
      "---  ------          -----  \n",
      " 0   step            int64  \n",
      " 1   type            object \n",
      " 2   amount          float64\n",
      " 3   nameOrig        object \n",
      " 4   oldbalanceOrg   float64\n",
      " 5   newbalanceOrig  float64\n",
      " 6   nameDest        object \n",
      " 7   oldbalanceDest  float64\n",
      " 8   newbalanceDest  float64\n",
      " 9   isFraud         int64  \n",
      " 10  isFlaggedFraud  int64  \n",
      "dtypes: float64(5), int64(3), object(3)\n",
      "memory usage: 534.0+ MB\n"
     ]
    }
   ],
   "source": [
    "ds_original.info()"
   ]
  },
  {
   "cell_type": "code",
   "execution_count": 9,
   "metadata": {},
   "outputs": [
    {
     "data": {
      "text/plain": [
       "step              0\n",
       "type              0\n",
       "amount            0\n",
       "nameOrig          0\n",
       "oldbalanceOrg     0\n",
       "newbalanceOrig    0\n",
       "nameDest          0\n",
       "oldbalanceDest    0\n",
       "newbalanceDest    0\n",
       "isFraud           0\n",
       "isFlaggedFraud    0\n",
       "dtype: int64"
      ]
     },
     "execution_count": 9,
     "metadata": {},
     "output_type": "execute_result"
    }
   ],
   "source": [
    "ds_original.isnull().sum()"
   ]
  },
  {
   "cell_type": "markdown",
   "metadata": {},
   "source": [
    "## Balanceamento do dataset"
   ]
  },
  {
   "cell_type": "code",
   "execution_count": 10,
   "metadata": {},
   "outputs": [
    {
     "data": {
      "text/plain": [
       "(6354407, 8213)"
      ]
     },
     "execution_count": 10,
     "metadata": {},
     "output_type": "execute_result"
    }
   ],
   "source": [
    "## Segregação do dataset em 2 partes (fraud = 0 e fraud = 1)\n",
    "ds0 = ds_original[ds_original.isFraud==0]\n",
    "ds1 = ds_original[ds_original.isFraud==1]\n",
    "len(ds0),len(ds1)"
   ]
  },
  {
   "cell_type": "code",
   "execution_count": 11,
   "metadata": {},
   "outputs": [
    {
     "data": {
      "text/plain": [
       "(8213, 8213)"
      ]
     },
     "execution_count": 11,
     "metadata": {},
     "output_type": "execute_result"
    }
   ],
   "source": [
    "## Balanceamento do dataset de fraud = 0 com a mesma quantidade de registros do dataset de fraud = 1\n",
    "ds0 = ds0.sample(n=8213)\n",
    "len(ds0),len(ds1)"
   ]
  },
  {
   "cell_type": "code",
   "execution_count": 12,
   "metadata": {},
   "outputs": [
    {
     "data": {
      "text/plain": [
       "isFraud\n",
       "0    8213\n",
       "1    8213\n",
       "dtype: int64"
      ]
     },
     "execution_count": 12,
     "metadata": {},
     "output_type": "execute_result"
    }
   ],
   "source": [
    "## Concatenação dos datasets de fraud = 0 e fraud = 1 em dataset único\n",
    "ds_balanceado = pd.concat([ds0,ds1])\n",
    "ds_balanceado.groupby('isFraud').size()"
   ]
  },
  {
   "cell_type": "code",
   "execution_count": 13,
   "metadata": {},
   "outputs": [
    {
     "data": {
      "text/plain": [
       "(16426, 11)"
      ]
     },
     "execution_count": 13,
     "metadata": {},
     "output_type": "execute_result"
    }
   ],
   "source": [
    "ds_balanceado.shape"
   ]
  },
  {
   "cell_type": "code",
   "execution_count": 14,
   "metadata": {},
   "outputs": [
    {
     "data": {
      "image/png": "[encoded data removed]",
      "text/plain": [
       "<Figure size 432x288 with 1 Axes>"
      ]
     },
     "metadata": {},
     "output_type": "display_data"
    }
   ],
   "source": [
    "ds_original['isFraud'].value_counts().plot(kind='pie');"
   ]
  },
  {
   "cell_type": "code",
   "execution_count": 15,
   "metadata": {},
   "outputs": [
    {
     "data": {
      "image/png": "[encoded data removed]",
      "text/plain": [
       "<Figure size 432x288 with 1 Axes>"
      ]
     },
     "metadata": {},
     "output_type": "display_data"
    }
   ],
   "source": [
    "ds_balanceado['isFraud'].value_counts().plot(kind='pie');"
   ]
  },
  {
   "cell_type": "code",
   "execution_count": 16,
   "metadata": {},
   "outputs": [
    {
     "data": {
      "text/html": [
       "<div>\n",
       "<style scoped>\n",
       "    .dataframe tbody tr th:only-of-type {\n",
       "        vertical-align: middle;\n",
       "    }\n",
       "\n",
       "    .dataframe tbody tr th {\n",
       "        vertical-align: top;\n",
       "    }\n",
       "\n",
       "    .dataframe thead th {\n",
       "        text-align: right;\n",
       "    }\n",
       "</style>\n",
       "<table border=\"1\" class=\"dataframe\">\n",
       "  <thead>\n",
       "    <tr style=\"text-align: right;\">\n",
       "      <th></th>\n",
       "      <th>step</th>\n",
       "      <th>type</th>\n",
       "      <th>amount</th>\n",
       "      <th>nameOrig</th>\n",
       "      <th>oldbalanceOrg</th>\n",
       "      <th>newbalanceOrig</th>\n",
       "      <th>nameDest</th>\n",
       "      <th>oldbalanceDest</th>\n",
       "      <th>newbalanceDest</th>\n",
       "      <th>isFraud</th>\n",
       "      <th>isFlaggedFraud</th>\n",
       "    </tr>\n",
       "  </thead>\n",
       "  <tbody>\n",
       "    <tr>\n",
       "      <th>4368292</th>\n",
       "      <td>310</td>\n",
       "      <td>CASH_OUT</td>\n",
       "      <td>78213.98</td>\n",
       "      <td>C2070627471</td>\n",
       "      <td>0.00</td>\n",
       "      <td>0.00</td>\n",
       "      <td>C597128089</td>\n",
       "      <td>2041559.27</td>\n",
       "      <td>2119773.25</td>\n",
       "      <td>0</td>\n",
       "      <td>0</td>\n",
       "    </tr>\n",
       "    <tr>\n",
       "      <th>4791611</th>\n",
       "      <td>345</td>\n",
       "      <td>CASH_IN</td>\n",
       "      <td>521687.37</td>\n",
       "      <td>C613411109</td>\n",
       "      <td>2244469.36</td>\n",
       "      <td>2766156.74</td>\n",
       "      <td>C1714223283</td>\n",
       "      <td>1772132.54</td>\n",
       "      <td>1250445.17</td>\n",
       "      <td>0</td>\n",
       "      <td>0</td>\n",
       "    </tr>\n",
       "    <tr>\n",
       "      <th>1167313</th>\n",
       "      <td>132</td>\n",
       "      <td>CASH_IN</td>\n",
       "      <td>159115.33</td>\n",
       "      <td>C1483056821</td>\n",
       "      <td>8564744.48</td>\n",
       "      <td>8723859.81</td>\n",
       "      <td>C1601035893</td>\n",
       "      <td>392364.22</td>\n",
       "      <td>233248.89</td>\n",
       "      <td>0</td>\n",
       "      <td>0</td>\n",
       "    </tr>\n",
       "    <tr>\n",
       "      <th>3702139</th>\n",
       "      <td>277</td>\n",
       "      <td>CASH_OUT</td>\n",
       "      <td>69191.85</td>\n",
       "      <td>C700683211</td>\n",
       "      <td>31149.00</td>\n",
       "      <td>0.00</td>\n",
       "      <td>C1844561974</td>\n",
       "      <td>777059.60</td>\n",
       "      <td>846251.44</td>\n",
       "      <td>0</td>\n",
       "      <td>0</td>\n",
       "    </tr>\n",
       "    <tr>\n",
       "      <th>2906209</th>\n",
       "      <td>228</td>\n",
       "      <td>PAYMENT</td>\n",
       "      <td>10600.29</td>\n",
       "      <td>C1104454711</td>\n",
       "      <td>219662.25</td>\n",
       "      <td>209061.96</td>\n",
       "      <td>M1266414912</td>\n",
       "      <td>0.00</td>\n",
       "      <td>0.00</td>\n",
       "      <td>0</td>\n",
       "      <td>0</td>\n",
       "    </tr>\n",
       "  </tbody>\n",
       "</table>\n",
       "</div>"
      ],
      "text/plain": [
       "         step      type     amount     nameOrig  oldbalanceOrg  \\\n",
       "4368292   310  CASH_OUT   78213.98  C2070627471           0.00   \n",
       "4791611   345   CASH_IN  521687.37   C613411109     2244469.36   \n",
       "1167313   132   CASH_IN  159115.33  C1483056821     8564744.48   \n",
       "3702139   277  CASH_OUT   69191.85   C700683211       31149.00   \n",
       "2906209   228   PAYMENT   10600.29  C1104454711      219662.25   \n",
       "\n",
       "         newbalanceOrig     nameDest  oldbalanceDest  newbalanceDest  isFraud  \\\n",
       "4368292            0.00   C597128089      2041559.27      2119773.25        0   \n",
       "4791611      2766156.74  C1714223283      1772132.54      1250445.17        0   \n",
       "1167313      8723859.81  C1601035893       392364.22       233248.89        0   \n",
       "3702139            0.00  C1844561974       777059.60       846251.44        0   \n",
       "2906209       209061.96  M1266414912            0.00            0.00        0   \n",
       "\n",
       "         isFlaggedFraud  \n",
       "4368292               0  \n",
       "4791611               0  \n",
       "1167313               0  \n",
       "3702139               0  \n",
       "2906209               0  "
      ]
     },
     "execution_count": 16,
     "metadata": {},
     "output_type": "execute_result"
    }
   ],
   "source": [
    "ds_balanceado.head()"
   ]
  },
  {
   "cell_type": "markdown",
   "metadata": {},
   "source": [
    "## Análise exploratória do dataset balanceado"
   ]
  },
  {
   "cell_type": "code",
   "execution_count": 17,
   "metadata": {},
   "outputs": [
    {
     "name": "stdout",
     "output_type": "stream",
     "text": [
      "<class 'pandas.core.frame.DataFrame'>\n",
      "Int64Index: 16426 entries, 4368292 to 6362619\n",
      "Data columns (total 11 columns):\n",
      " #   Column          Non-Null Count  Dtype  \n",
      "---  ------          --------------  -----  \n",
      " 0   step            16426 non-null  int64  \n",
      " 1   type            16426 non-null  object \n",
      " 2   amount          16426 non-null  float64\n",
      " 3   nameOrig        16426 non-null  object \n",
      " 4   oldbalanceOrg   16426 non-null  float64\n",
      " 5   newbalanceOrig  16426 non-null  float64\n",
      " 6   nameDest        16426 non-null  object \n",
      " 7   oldbalanceDest  16426 non-null  float64\n",
      " 8   newbalanceDest  16426 non-null  float64\n",
      " 9   isFraud         16426 non-null  int64  \n",
      " 10  isFlaggedFraud  16426 non-null  int64  \n",
      "dtypes: float64(5), int64(3), object(3)\n",
      "memory usage: 1.5+ MB\n"
     ]
    }
   ],
   "source": [
    "ds_balanceado.info()"
   ]
  },
  {
   "cell_type": "code",
   "execution_count": 18,
   "metadata": {},
   "outputs": [
    {
     "data": {
      "text/html": [
       "<div>\n",
       "<style scoped>\n",
       "    .dataframe tbody tr th:only-of-type {\n",
       "        vertical-align: middle;\n",
       "    }\n",
       "\n",
       "    .dataframe tbody tr th {\n",
       "        vertical-align: top;\n",
       "    }\n",
       "\n",
       "    .dataframe thead th {\n",
       "        text-align: right;\n",
       "    }\n",
       "</style>\n",
       "<table border=\"1\" class=\"dataframe\">\n",
       "  <thead>\n",
       "    <tr style=\"text-align: right;\">\n",
       "      <th></th>\n",
       "      <th>step</th>\n",
       "      <th>amount</th>\n",
       "      <th>oldbalanceOrg</th>\n",
       "      <th>newbalanceOrig</th>\n",
       "      <th>oldbalanceDest</th>\n",
       "      <th>newbalanceDest</th>\n",
       "      <th>isFraud</th>\n",
       "      <th>isFlaggedFraud</th>\n",
       "    </tr>\n",
       "  </thead>\n",
       "  <tbody>\n",
       "    <tr>\n",
       "      <th>count</th>\n",
       "      <td>16426.000000</td>\n",
       "      <td>1.642600e+04</td>\n",
       "      <td>1.642600e+04</td>\n",
       "      <td>1.642600e+04</td>\n",
       "      <td>1.642600e+04</td>\n",
       "      <td>1.642600e+04</td>\n",
       "      <td>16426.000000</td>\n",
       "      <td>16426.000000</td>\n",
       "    </tr>\n",
       "    <tr>\n",
       "      <th>mean</th>\n",
       "      <td>304.775904</td>\n",
       "      <td>8.213219e+05</td>\n",
       "      <td>1.226330e+06</td>\n",
       "      <td>5.087021e+05</td>\n",
       "      <td>8.469320e+05</td>\n",
       "      <td>1.273413e+06</td>\n",
       "      <td>0.500000</td>\n",
       "      <td>0.000974</td>\n",
       "    </tr>\n",
       "    <tr>\n",
       "      <th>std</th>\n",
       "      <td>194.344952</td>\n",
       "      <td>1.852651e+06</td>\n",
       "      <td>3.212927e+06</td>\n",
       "      <td>2.448622e+06</td>\n",
       "      <td>4.005045e+06</td>\n",
       "      <td>4.318786e+06</td>\n",
       "      <td>0.500015</td>\n",
       "      <td>0.031196</td>\n",
       "    </tr>\n",
       "    <tr>\n",
       "      <th>min</th>\n",
       "      <td>1.000000</td>\n",
       "      <td>0.000000e+00</td>\n",
       "      <td>0.000000e+00</td>\n",
       "      <td>0.000000e+00</td>\n",
       "      <td>0.000000e+00</td>\n",
       "      <td>0.000000e+00</td>\n",
       "      <td>0.000000</td>\n",
       "      <td>0.000000</td>\n",
       "    </tr>\n",
       "    <tr>\n",
       "      <th>25%</th>\n",
       "      <td>160.000000</td>\n",
       "      <td>3.690378e+04</td>\n",
       "      <td>1.072050e+04</td>\n",
       "      <td>0.000000e+00</td>\n",
       "      <td>0.000000e+00</td>\n",
       "      <td>0.000000e+00</td>\n",
       "      <td>0.000000</td>\n",
       "      <td>0.000000</td>\n",
       "    </tr>\n",
       "    <tr>\n",
       "      <th>50%</th>\n",
       "      <td>282.000000</td>\n",
       "      <td>1.713974e+05</td>\n",
       "      <td>1.181069e+05</td>\n",
       "      <td>0.000000e+00</td>\n",
       "      <td>0.000000e+00</td>\n",
       "      <td>1.234844e+05</td>\n",
       "      <td>0.500000</td>\n",
       "      <td>0.000000</td>\n",
       "    </tr>\n",
       "    <tr>\n",
       "      <th>75%</th>\n",
       "      <td>409.000000</td>\n",
       "      <td>5.406160e+05</td>\n",
       "      <td>7.757786e+05</td>\n",
       "      <td>0.000000e+00</td>\n",
       "      <td>5.167719e+05</td>\n",
       "      <td>1.100875e+06</td>\n",
       "      <td>1.000000</td>\n",
       "      <td>0.000000</td>\n",
       "    </tr>\n",
       "    <tr>\n",
       "      <th>max</th>\n",
       "      <td>743.000000</td>\n",
       "      <td>1.773110e+07</td>\n",
       "      <td>5.958504e+07</td>\n",
       "      <td>4.958504e+07</td>\n",
       "      <td>2.551680e+08</td>\n",
       "      <td>2.572833e+08</td>\n",
       "      <td>1.000000</td>\n",
       "      <td>1.000000</td>\n",
       "    </tr>\n",
       "  </tbody>\n",
       "</table>\n",
       "</div>"
      ],
      "text/plain": [
       "               step        amount  oldbalanceOrg  newbalanceOrig  \\\n",
       "count  16426.000000  1.642600e+04   1.642600e+04    1.642600e+04   \n",
       "mean     304.775904  8.213219e+05   1.226330e+06    5.087021e+05   \n",
       "std      194.344952  1.852651e+06   3.212927e+06    2.448622e+06   \n",
       "min        1.000000  0.000000e+00   0.000000e+00    0.000000e+00   \n",
       "25%      160.000000  3.690378e+04   1.072050e+04    0.000000e+00   \n",
       "50%      282.000000  1.713974e+05   1.181069e+05    0.000000e+00   \n",
       "75%      409.000000  5.406160e+05   7.757786e+05    0.000000e+00   \n",
       "max      743.000000  1.773110e+07   5.958504e+07    4.958504e+07   \n",
       "\n",
       "       oldbalanceDest  newbalanceDest       isFraud  isFlaggedFraud  \n",
       "count    1.642600e+04    1.642600e+04  16426.000000    16426.000000  \n",
       "mean     8.469320e+05    1.273413e+06      0.500000        0.000974  \n",
       "std      4.005045e+06    4.318786e+06      0.500015        0.031196  \n",
       "min      0.000000e+00    0.000000e+00      0.000000        0.000000  \n",
       "25%      0.000000e+00    0.000000e+00      0.000000        0.000000  \n",
       "50%      0.000000e+00    1.234844e+05      0.500000        0.000000  \n",
       "75%      5.167719e+05    1.100875e+06      1.000000        0.000000  \n",
       "max      2.551680e+08    2.572833e+08      1.000000        1.000000  "
      ]
     },
     "execution_count": 18,
     "metadata": {},
     "output_type": "execute_result"
    }
   ],
   "source": [
    "ds_balanceado.describe()"
   ]
  },
  {
   "cell_type": "code",
   "execution_count": 19,
   "metadata": {},
   "outputs": [
    {
     "data": {
      "text/plain": [
       "step              0\n",
       "type              0\n",
       "amount            0\n",
       "nameOrig          0\n",
       "oldbalanceOrg     0\n",
       "newbalanceOrig    0\n",
       "nameDest          0\n",
       "oldbalanceDest    0\n",
       "newbalanceDest    0\n",
       "isFraud           0\n",
       "isFlaggedFraud    0\n",
       "dtype: int64"
      ]
     },
     "execution_count": 19,
     "metadata": {},
     "output_type": "execute_result"
    }
   ],
   "source": [
    "## Verificação de dados ausentes no dataset\n",
    "ds_balanceado.isnull().sum()"
   ]
  },
  {
   "cell_type": "code",
   "execution_count": 20,
   "metadata": {},
   "outputs": [
    {
     "data": {
      "text/plain": [
       "isFlaggedFraud\n",
       "0    16410\n",
       "1       16\n",
       "dtype: int64"
      ]
     },
     "execution_count": 20,
     "metadata": {},
     "output_type": "execute_result"
    }
   ],
   "source": [
    "ds_balanceado.groupby('isFlaggedFraud').size()"
   ]
  },
  {
   "cell_type": "code",
   "execution_count": 21,
   "metadata": {},
   "outputs": [
    {
     "data": {
      "text/plain": [
       "type\n",
       "CASH_IN     1733\n",
       "CASH_OUT    7039\n",
       "DEBIT         50\n",
       "PAYMENT     2808\n",
       "TRANSFER    4796\n",
       "Name: isFraud, dtype: int64"
      ]
     },
     "execution_count": 21,
     "metadata": {},
     "output_type": "execute_result"
    }
   ],
   "source": [
    "ds_balanceado.groupby('type')['isFraud'].count()"
   ]
  },
  {
   "cell_type": "code",
   "execution_count": 22,
   "metadata": {},
   "outputs": [
    {
     "data": {
      "text/plain": [
       "type\n",
       "CASH_OUT    4116\n",
       "TRANSFER    4097\n",
       "Name: isFraud, dtype: int64"
      ]
     },
     "execution_count": 22,
     "metadata": {},
     "output_type": "execute_result"
    }
   ],
   "source": [
    "ds_balanceado[ds_balanceado['isFraud'] == 1].groupby('type')['isFraud'].count()"
   ]
  },
  {
   "cell_type": "code",
   "execution_count": 23,
   "metadata": {},
   "outputs": [
    {
     "data": {
      "text/plain": [
       "array([[1, 'TRANSFER', 181.0, ..., 0.0, 1, 0],\n",
       "       [1, 'CASH_OUT', 181.0, ..., 0.0, 1, 0],\n",
       "       [1, 'TRANSFER', 2806.0, ..., 0.0, 1, 0],\n",
       "       ...,\n",
       "       [743, 'CASH_OUT', 6311409.28, ..., 6379898.11, 1, 0],\n",
       "       [743, 'TRANSFER', 850002.52, ..., 0.0, 1, 0],\n",
       "       [743, 'CASH_OUT', 850002.52, ..., 7360101.63, 1, 0]], dtype=object)"
      ]
     },
     "execution_count": 23,
     "metadata": {},
     "output_type": "execute_result"
    }
   ],
   "source": [
    "(ds_balanceado[ds_balanceado['isFraud'] == 1].values)"
   ]
  },
  {
   "cell_type": "code",
   "execution_count": 24,
   "metadata": {},
   "outputs": [
    {
     "data": {
      "text/plain": [
       "nameOrig\n",
       "C1000002591    1\n",
       "C1000036340    1\n",
       "C1000086512    1\n",
       "C1000189561    1\n",
       "C1000331499    1\n",
       "              ..\n",
       "C999560504     1\n",
       "C999561448     1\n",
       "C999601858     1\n",
       "C999624133     1\n",
       "C99979309      1\n",
       "Length: 16426, dtype: int64"
      ]
     },
     "execution_count": 24,
     "metadata": {},
     "output_type": "execute_result"
    }
   ],
   "source": [
    "ds_balanceado.groupby('nameOrig').size()"
   ]
  },
  {
   "cell_type": "code",
   "execution_count": 25,
   "metadata": {},
   "outputs": [
    {
     "data": {
      "text/plain": [
       "nameDest\n",
       "C1000039615    1\n",
       "C1000156006    1\n",
       "C1000367306    1\n",
       "C1000407130    1\n",
       "C1000610515    1\n",
       "              ..\n",
       "M998403805     1\n",
       "M998886223     1\n",
       "M999138471     1\n",
       "M999740496     1\n",
       "M999813234     1\n",
       "Length: 16248, dtype: int64"
      ]
     },
     "execution_count": 25,
     "metadata": {},
     "output_type": "execute_result"
    }
   ],
   "source": [
    "ds_balanceado.groupby('nameDest').size()"
   ]
  },
  {
   "cell_type": "code",
   "execution_count": 26,
   "metadata": {},
   "outputs": [
    {
     "name": "stderr",
     "output_type": "stream",
     "text": [
      "/usr/local/lib/python3.6/dist-packages/seaborn/distributions.py:369: UserWarning: Default bandwidth for data is 0; skipping density estimation.\n",
      "  warnings.warn(msg, UserWarning)\n"
     ]
    },
    {
     "data": {
      "text/plain": [
       "<Figure size 432x288 with 0 Axes>"
      ]
     },
     "metadata": {},
     "output_type": "display_data"
    },
    {
     "data": {
      "image/png": "[encoded data removed]",
      "text/plain": [
       "<Figure size 1196.12x1152 with 20 Axes>"
      ]
     },
     "metadata": {
      "needs_background": "light"
     },
     "output_type": "display_data"
    }
   ],
   "source": [
    "# Matriz de diagramas de dispersão\n",
    "\n",
    "plt.figure()\n",
    "sns.pairplot(ds_balanceado, vars = ['oldbalanceOrg','newbalanceOrig','oldbalanceDest','newbalanceDest'], hue = 'isFraud',height=4, markers=['o', 's'])\n",
    "plt.show()"
   ]
  },
  {
   "cell_type": "code",
   "execution_count": 27,
   "metadata": {},
   "outputs": [
    {
     "data": {
      "text/html": [
       "<div>\n",
       "<style scoped>\n",
       "    .dataframe tbody tr th:only-of-type {\n",
       "        vertical-align: middle;\n",
       "    }\n",
       "\n",
       "    .dataframe tbody tr th {\n",
       "        vertical-align: top;\n",
       "    }\n",
       "\n",
       "    .dataframe thead th {\n",
       "        text-align: right;\n",
       "    }\n",
       "</style>\n",
       "<table border=\"1\" class=\"dataframe\">\n",
       "  <thead>\n",
       "    <tr style=\"text-align: right;\">\n",
       "      <th></th>\n",
       "      <th>step</th>\n",
       "      <th>amount</th>\n",
       "      <th>oldbalanceOrg</th>\n",
       "      <th>newbalanceOrig</th>\n",
       "      <th>oldbalanceDest</th>\n",
       "      <th>newbalanceDest</th>\n",
       "      <th>isFraud</th>\n",
       "      <th>isFlaggedFraud</th>\n",
       "    </tr>\n",
       "  </thead>\n",
       "  <tbody>\n",
       "    <tr>\n",
       "      <th>step</th>\n",
       "      <td>1.000000</td>\n",
       "      <td>0.152317</td>\n",
       "      <td>0.081137</td>\n",
       "      <td>-0.017182</td>\n",
       "      <td>0.000473</td>\n",
       "      <td>0.029738</td>\n",
       "      <td>0.327458</td>\n",
       "      <td>0.037403</td>\n",
       "    </tr>\n",
       "    <tr>\n",
       "      <th>amount</th>\n",
       "      <td>0.152317</td>\n",
       "      <td>1.000000</td>\n",
       "      <td>0.660830</td>\n",
       "      <td>0.130671</td>\n",
       "      <td>0.004155</td>\n",
       "      <td>0.223615</td>\n",
       "      <td>0.349049</td>\n",
       "      <td>0.068098</td>\n",
       "    </tr>\n",
       "    <tr>\n",
       "      <th>oldbalanceOrg</th>\n",
       "      <td>0.081137</td>\n",
       "      <td>0.660830</td>\n",
       "      <td>1.000000</td>\n",
       "      <td>0.819554</td>\n",
       "      <td>0.004104</td>\n",
       "      <td>0.104508</td>\n",
       "      <td>0.131765</td>\n",
       "      <td>0.064063</td>\n",
       "    </tr>\n",
       "    <tr>\n",
       "      <th>newbalanceOrig</th>\n",
       "      <td>-0.017182</td>\n",
       "      <td>0.130671</td>\n",
       "      <td>0.819554</td>\n",
       "      <td>1.000000</td>\n",
       "      <td>0.032244</td>\n",
       "      <td>0.003684</td>\n",
       "      <td>-0.129182</td>\n",
       "      <td>0.093211</td>\n",
       "    </tr>\n",
       "    <tr>\n",
       "      <th>oldbalanceDest</th>\n",
       "      <td>0.000473</td>\n",
       "      <td>0.004155</td>\n",
       "      <td>0.004104</td>\n",
       "      <td>0.032244</td>\n",
       "      <td>1.000000</td>\n",
       "      <td>0.945731</td>\n",
       "      <td>-0.075578</td>\n",
       "      <td>-0.006603</td>\n",
       "    </tr>\n",
       "    <tr>\n",
       "      <th>newbalanceDest</th>\n",
       "      <td>0.029738</td>\n",
       "      <td>0.223615</td>\n",
       "      <td>0.104508</td>\n",
       "      <td>0.003684</td>\n",
       "      <td>0.945731</td>\n",
       "      <td>1.000000</td>\n",
       "      <td>0.001457</td>\n",
       "      <td>-0.009207</td>\n",
       "    </tr>\n",
       "    <tr>\n",
       "      <th>isFraud</th>\n",
       "      <td>0.327458</td>\n",
       "      <td>0.349049</td>\n",
       "      <td>0.131765</td>\n",
       "      <td>-0.129182</td>\n",
       "      <td>-0.075578</td>\n",
       "      <td>0.001457</td>\n",
       "      <td>1.000000</td>\n",
       "      <td>0.031225</td>\n",
       "    </tr>\n",
       "    <tr>\n",
       "      <th>isFlaggedFraud</th>\n",
       "      <td>0.037403</td>\n",
       "      <td>0.068098</td>\n",
       "      <td>0.064063</td>\n",
       "      <td>0.093211</td>\n",
       "      <td>-0.006603</td>\n",
       "      <td>-0.009207</td>\n",
       "      <td>0.031225</td>\n",
       "      <td>1.000000</td>\n",
       "    </tr>\n",
       "  </tbody>\n",
       "</table>\n",
       "</div>"
      ],
      "text/plain": [
       "                    step    amount  oldbalanceOrg  newbalanceOrig  \\\n",
       "step            1.000000  0.152317       0.081137       -0.017182   \n",
       "amount          0.152317  1.000000       0.660830        0.130671   \n",
       "oldbalanceOrg   0.081137  0.660830       1.000000        0.819554   \n",
       "newbalanceOrig -0.017182  0.130671       0.819554        1.000000   \n",
       "oldbalanceDest  0.000473  0.004155       0.004104        0.032244   \n",
       "newbalanceDest  0.029738  0.223615       0.104508        0.003684   \n",
       "isFraud         0.327458  0.349049       0.131765       -0.129182   \n",
       "isFlaggedFraud  0.037403  0.068098       0.064063        0.093211   \n",
       "\n",
       "                oldbalanceDest  newbalanceDest   isFraud  isFlaggedFraud  \n",
       "step                  0.000473        0.029738  0.327458        0.037403  \n",
       "amount                0.004155        0.223615  0.349049        0.068098  \n",
       "oldbalanceOrg         0.004104        0.104508  0.131765        0.064063  \n",
       "newbalanceOrig        0.032244        0.003684 -0.129182        0.093211  \n",
       "oldbalanceDest        1.000000        0.945731 -0.075578       -0.006603  \n",
       "newbalanceDest        0.945731        1.000000  0.001457       -0.009207  \n",
       "isFraud              -0.075578        0.001457  1.000000        0.031225  \n",
       "isFlaggedFraud       -0.006603       -0.009207  0.031225        1.000000  "
      ]
     },
     "execution_count": 27,
     "metadata": {},
     "output_type": "execute_result"
    }
   ],
   "source": [
    "#matriz de correlação\n",
    "ds_balanceado.corr()"
   ]
  },
  {
   "cell_type": "markdown",
   "metadata": {},
   "source": [
    "## Transformação do dataset"
   ]
  },
  {
   "cell_type": "code",
   "execution_count": 28,
   "metadata": {},
   "outputs": [
    {
     "data": {
      "text/html": [
       "<div>\n",
       "<style scoped>\n",
       "    .dataframe tbody tr th:only-of-type {\n",
       "        vertical-align: middle;\n",
       "    }\n",
       "\n",
       "    .dataframe tbody tr th {\n",
       "        vertical-align: top;\n",
       "    }\n",
       "\n",
       "    .dataframe thead th {\n",
       "        text-align: right;\n",
       "    }\n",
       "</style>\n",
       "<table border=\"1\" class=\"dataframe\">\n",
       "  <thead>\n",
       "    <tr style=\"text-align: right;\">\n",
       "      <th></th>\n",
       "      <th>step</th>\n",
       "      <th>type</th>\n",
       "      <th>amount</th>\n",
       "      <th>nameOrig</th>\n",
       "      <th>oldbalanceOrg</th>\n",
       "      <th>newbalanceOrig</th>\n",
       "      <th>nameDest</th>\n",
       "      <th>oldbalanceDest</th>\n",
       "      <th>newbalanceDest</th>\n",
       "      <th>isFraud</th>\n",
       "      <th>isFlaggedFraud</th>\n",
       "    </tr>\n",
       "  </thead>\n",
       "  <tbody>\n",
       "    <tr>\n",
       "      <th>4368292</th>\n",
       "      <td>310</td>\n",
       "      <td>CASH_OUT</td>\n",
       "      <td>78213.98</td>\n",
       "      <td>C2070627471</td>\n",
       "      <td>0.00</td>\n",
       "      <td>0.00</td>\n",
       "      <td>C597128089</td>\n",
       "      <td>2041559.27</td>\n",
       "      <td>2119773.25</td>\n",
       "      <td>0</td>\n",
       "      <td>0</td>\n",
       "    </tr>\n",
       "    <tr>\n",
       "      <th>4791611</th>\n",
       "      <td>345</td>\n",
       "      <td>CASH_IN</td>\n",
       "      <td>521687.37</td>\n",
       "      <td>C613411109</td>\n",
       "      <td>2244469.36</td>\n",
       "      <td>2766156.74</td>\n",
       "      <td>C1714223283</td>\n",
       "      <td>1772132.54</td>\n",
       "      <td>1250445.17</td>\n",
       "      <td>0</td>\n",
       "      <td>0</td>\n",
       "    </tr>\n",
       "    <tr>\n",
       "      <th>1167313</th>\n",
       "      <td>132</td>\n",
       "      <td>CASH_IN</td>\n",
       "      <td>159115.33</td>\n",
       "      <td>C1483056821</td>\n",
       "      <td>8564744.48</td>\n",
       "      <td>8723859.81</td>\n",
       "      <td>C1601035893</td>\n",
       "      <td>392364.22</td>\n",
       "      <td>233248.89</td>\n",
       "      <td>0</td>\n",
       "      <td>0</td>\n",
       "    </tr>\n",
       "    <tr>\n",
       "      <th>3702139</th>\n",
       "      <td>277</td>\n",
       "      <td>CASH_OUT</td>\n",
       "      <td>69191.85</td>\n",
       "      <td>C700683211</td>\n",
       "      <td>31149.00</td>\n",
       "      <td>0.00</td>\n",
       "      <td>C1844561974</td>\n",
       "      <td>777059.60</td>\n",
       "      <td>846251.44</td>\n",
       "      <td>0</td>\n",
       "      <td>0</td>\n",
       "    </tr>\n",
       "    <tr>\n",
       "      <th>2906209</th>\n",
       "      <td>228</td>\n",
       "      <td>PAYMENT</td>\n",
       "      <td>10600.29</td>\n",
       "      <td>C1104454711</td>\n",
       "      <td>219662.25</td>\n",
       "      <td>209061.96</td>\n",
       "      <td>M1266414912</td>\n",
       "      <td>0.00</td>\n",
       "      <td>0.00</td>\n",
       "      <td>0</td>\n",
       "      <td>0</td>\n",
       "    </tr>\n",
       "    <tr>\n",
       "      <th>...</th>\n",
       "      <td>...</td>\n",
       "      <td>...</td>\n",
       "      <td>...</td>\n",
       "      <td>...</td>\n",
       "      <td>...</td>\n",
       "      <td>...</td>\n",
       "      <td>...</td>\n",
       "      <td>...</td>\n",
       "      <td>...</td>\n",
       "      <td>...</td>\n",
       "      <td>...</td>\n",
       "    </tr>\n",
       "    <tr>\n",
       "      <th>6362615</th>\n",
       "      <td>743</td>\n",
       "      <td>CASH_OUT</td>\n",
       "      <td>339682.13</td>\n",
       "      <td>C786484425</td>\n",
       "      <td>339682.13</td>\n",
       "      <td>0.00</td>\n",
       "      <td>C776919290</td>\n",
       "      <td>0.00</td>\n",
       "      <td>339682.13</td>\n",
       "      <td>1</td>\n",
       "      <td>0</td>\n",
       "    </tr>\n",
       "    <tr>\n",
       "      <th>6362616</th>\n",
       "      <td>743</td>\n",
       "      <td>TRANSFER</td>\n",
       "      <td>6311409.28</td>\n",
       "      <td>C1529008245</td>\n",
       "      <td>6311409.28</td>\n",
       "      <td>0.00</td>\n",
       "      <td>C1881841831</td>\n",
       "      <td>0.00</td>\n",
       "      <td>0.00</td>\n",
       "      <td>1</td>\n",
       "      <td>0</td>\n",
       "    </tr>\n",
       "    <tr>\n",
       "      <th>6362617</th>\n",
       "      <td>743</td>\n",
       "      <td>CASH_OUT</td>\n",
       "      <td>6311409.28</td>\n",
       "      <td>C1162922333</td>\n",
       "      <td>6311409.28</td>\n",
       "      <td>0.00</td>\n",
       "      <td>C1365125890</td>\n",
       "      <td>68488.84</td>\n",
       "      <td>6379898.11</td>\n",
       "      <td>1</td>\n",
       "      <td>0</td>\n",
       "    </tr>\n",
       "    <tr>\n",
       "      <th>6362618</th>\n",
       "      <td>743</td>\n",
       "      <td>TRANSFER</td>\n",
       "      <td>850002.52</td>\n",
       "      <td>C1685995037</td>\n",
       "      <td>850002.52</td>\n",
       "      <td>0.00</td>\n",
       "      <td>C2080388513</td>\n",
       "      <td>0.00</td>\n",
       "      <td>0.00</td>\n",
       "      <td>1</td>\n",
       "      <td>0</td>\n",
       "    </tr>\n",
       "    <tr>\n",
       "      <th>6362619</th>\n",
       "      <td>743</td>\n",
       "      <td>CASH_OUT</td>\n",
       "      <td>850002.52</td>\n",
       "      <td>C1280323807</td>\n",
       "      <td>850002.52</td>\n",
       "      <td>0.00</td>\n",
       "      <td>C873221189</td>\n",
       "      <td>6510099.11</td>\n",
       "      <td>7360101.63</td>\n",
       "      <td>1</td>\n",
       "      <td>0</td>\n",
       "    </tr>\n",
       "  </tbody>\n",
       "</table>\n",
       "<p>16426 rows × 11 columns</p>\n",
       "</div>"
      ],
      "text/plain": [
       "         step      type      amount     nameOrig  oldbalanceOrg  \\\n",
       "4368292   310  CASH_OUT    78213.98  C2070627471           0.00   \n",
       "4791611   345   CASH_IN   521687.37   C613411109     2244469.36   \n",
       "1167313   132   CASH_IN   159115.33  C1483056821     8564744.48   \n",
       "3702139   277  CASH_OUT    69191.85   C700683211       31149.00   \n",
       "2906209   228   PAYMENT    10600.29  C1104454711      219662.25   \n",
       "...       ...       ...         ...          ...            ...   \n",
       "6362615   743  CASH_OUT   339682.13   C786484425      339682.13   \n",
       "6362616   743  TRANSFER  6311409.28  C1529008245     6311409.28   \n",
       "6362617   743  CASH_OUT  6311409.28  C1162922333     6311409.28   \n",
       "6362618   743  TRANSFER   850002.52  C1685995037      850002.52   \n",
       "6362619   743  CASH_OUT   850002.52  C1280323807      850002.52   \n",
       "\n",
       "         newbalanceOrig     nameDest  oldbalanceDest  newbalanceDest  isFraud  \\\n",
       "4368292            0.00   C597128089      2041559.27      2119773.25        0   \n",
       "4791611      2766156.74  C1714223283      1772132.54      1250445.17        0   \n",
       "1167313      8723859.81  C1601035893       392364.22       233248.89        0   \n",
       "3702139            0.00  C1844561974       777059.60       846251.44        0   \n",
       "2906209       209061.96  M1266414912            0.00            0.00        0   \n",
       "...                 ...          ...             ...             ...      ...   \n",
       "6362615            0.00   C776919290            0.00       339682.13        1   \n",
       "6362616            0.00  C1881841831            0.00            0.00        1   \n",
       "6362617            0.00  C1365125890        68488.84      6379898.11        1   \n",
       "6362618            0.00  C2080388513            0.00            0.00        1   \n",
       "6362619            0.00   C873221189      6510099.11      7360101.63        1   \n",
       "\n",
       "         isFlaggedFraud  \n",
       "4368292               0  \n",
       "4791611               0  \n",
       "1167313               0  \n",
       "3702139               0  \n",
       "2906209               0  \n",
       "...                 ...  \n",
       "6362615               0  \n",
       "6362616               0  \n",
       "6362617               0  \n",
       "6362618               0  \n",
       "6362619               0  \n",
       "\n",
       "[16426 rows x 11 columns]"
      ]
     },
     "execution_count": 28,
     "metadata": {},
     "output_type": "execute_result"
    }
   ],
   "source": [
    "ds_balanceado"
   ]
  },
  {
   "cell_type": "code",
   "execution_count": 29,
   "metadata": {},
   "outputs": [
    {
     "data": {
      "text/html": [
       "<div>\n",
       "<style scoped>\n",
       "    .dataframe tbody tr th:only-of-type {\n",
       "        vertical-align: middle;\n",
       "    }\n",
       "\n",
       "    .dataframe tbody tr th {\n",
       "        vertical-align: top;\n",
       "    }\n",
       "\n",
       "    .dataframe thead th {\n",
       "        text-align: right;\n",
       "    }\n",
       "</style>\n",
       "<table border=\"1\" class=\"dataframe\">\n",
       "  <thead>\n",
       "    <tr style=\"text-align: right;\">\n",
       "      <th></th>\n",
       "      <th>step</th>\n",
       "      <th>type</th>\n",
       "      <th>amount</th>\n",
       "      <th>oldbalanceOrg</th>\n",
       "      <th>newbalanceOrig</th>\n",
       "      <th>oldbalanceDest</th>\n",
       "      <th>newbalanceDest</th>\n",
       "      <th>isFraud</th>\n",
       "    </tr>\n",
       "  </thead>\n",
       "  <tbody>\n",
       "    <tr>\n",
       "      <th>4368292</th>\n",
       "      <td>310</td>\n",
       "      <td>CASH_OUT</td>\n",
       "      <td>78213.98</td>\n",
       "      <td>0.00</td>\n",
       "      <td>0.00</td>\n",
       "      <td>2041559.27</td>\n",
       "      <td>2119773.25</td>\n",
       "      <td>0</td>\n",
       "    </tr>\n",
       "    <tr>\n",
       "      <th>4791611</th>\n",
       "      <td>345</td>\n",
       "      <td>CASH_IN</td>\n",
       "      <td>521687.37</td>\n",
       "      <td>2244469.36</td>\n",
       "      <td>2766156.74</td>\n",
       "      <td>1772132.54</td>\n",
       "      <td>1250445.17</td>\n",
       "      <td>0</td>\n",
       "    </tr>\n",
       "    <tr>\n",
       "      <th>1167313</th>\n",
       "      <td>132</td>\n",
       "      <td>CASH_IN</td>\n",
       "      <td>159115.33</td>\n",
       "      <td>8564744.48</td>\n",
       "      <td>8723859.81</td>\n",
       "      <td>392364.22</td>\n",
       "      <td>233248.89</td>\n",
       "      <td>0</td>\n",
       "    </tr>\n",
       "    <tr>\n",
       "      <th>3702139</th>\n",
       "      <td>277</td>\n",
       "      <td>CASH_OUT</td>\n",
       "      <td>69191.85</td>\n",
       "      <td>31149.00</td>\n",
       "      <td>0.00</td>\n",
       "      <td>777059.60</td>\n",
       "      <td>846251.44</td>\n",
       "      <td>0</td>\n",
       "    </tr>\n",
       "    <tr>\n",
       "      <th>2906209</th>\n",
       "      <td>228</td>\n",
       "      <td>PAYMENT</td>\n",
       "      <td>10600.29</td>\n",
       "      <td>219662.25</td>\n",
       "      <td>209061.96</td>\n",
       "      <td>0.00</td>\n",
       "      <td>0.00</td>\n",
       "      <td>0</td>\n",
       "    </tr>\n",
       "    <tr>\n",
       "      <th>...</th>\n",
       "      <td>...</td>\n",
       "      <td>...</td>\n",
       "      <td>...</td>\n",
       "      <td>...</td>\n",
       "      <td>...</td>\n",
       "      <td>...</td>\n",
       "      <td>...</td>\n",
       "      <td>...</td>\n",
       "    </tr>\n",
       "    <tr>\n",
       "      <th>6362615</th>\n",
       "      <td>743</td>\n",
       "      <td>CASH_OUT</td>\n",
       "      <td>339682.13</td>\n",
       "      <td>339682.13</td>\n",
       "      <td>0.00</td>\n",
       "      <td>0.00</td>\n",
       "      <td>339682.13</td>\n",
       "      <td>1</td>\n",
       "    </tr>\n",
       "    <tr>\n",
       "      <th>6362616</th>\n",
       "      <td>743</td>\n",
       "      <td>TRANSFER</td>\n",
       "      <td>6311409.28</td>\n",
       "      <td>6311409.28</td>\n",
       "      <td>0.00</td>\n",
       "      <td>0.00</td>\n",
       "      <td>0.00</td>\n",
       "      <td>1</td>\n",
       "    </tr>\n",
       "    <tr>\n",
       "      <th>6362617</th>\n",
       "      <td>743</td>\n",
       "      <td>CASH_OUT</td>\n",
       "      <td>6311409.28</td>\n",
       "      <td>6311409.28</td>\n",
       "      <td>0.00</td>\n",
       "      <td>68488.84</td>\n",
       "      <td>6379898.11</td>\n",
       "      <td>1</td>\n",
       "    </tr>\n",
       "    <tr>\n",
       "      <th>6362618</th>\n",
       "      <td>743</td>\n",
       "      <td>TRANSFER</td>\n",
       "      <td>850002.52</td>\n",
       "      <td>850002.52</td>\n",
       "      <td>0.00</td>\n",
       "      <td>0.00</td>\n",
       "      <td>0.00</td>\n",
       "      <td>1</td>\n",
       "    </tr>\n",
       "    <tr>\n",
       "      <th>6362619</th>\n",
       "      <td>743</td>\n",
       "      <td>CASH_OUT</td>\n",
       "      <td>850002.52</td>\n",
       "      <td>850002.52</td>\n",
       "      <td>0.00</td>\n",
       "      <td>6510099.11</td>\n",
       "      <td>7360101.63</td>\n",
       "      <td>1</td>\n",
       "    </tr>\n",
       "  </tbody>\n",
       "</table>\n",
       "<p>16426 rows × 8 columns</p>\n",
       "</div>"
      ],
      "text/plain": [
       "         step      type      amount  oldbalanceOrg  newbalanceOrig  \\\n",
       "4368292   310  CASH_OUT    78213.98           0.00            0.00   \n",
       "4791611   345   CASH_IN   521687.37     2244469.36      2766156.74   \n",
       "1167313   132   CASH_IN   159115.33     8564744.48      8723859.81   \n",
       "3702139   277  CASH_OUT    69191.85       31149.00            0.00   \n",
       "2906209   228   PAYMENT    10600.29      219662.25       209061.96   \n",
       "...       ...       ...         ...            ...             ...   \n",
       "6362615   743  CASH_OUT   339682.13      339682.13            0.00   \n",
       "6362616   743  TRANSFER  6311409.28     6311409.28            0.00   \n",
       "6362617   743  CASH_OUT  6311409.28     6311409.28            0.00   \n",
       "6362618   743  TRANSFER   850002.52      850002.52            0.00   \n",
       "6362619   743  CASH_OUT   850002.52      850002.52            0.00   \n",
       "\n",
       "         oldbalanceDest  newbalanceDest  isFraud  \n",
       "4368292      2041559.27      2119773.25        0  \n",
       "4791611      1772132.54      1250445.17        0  \n",
       "1167313       392364.22       233248.89        0  \n",
       "3702139       777059.60       846251.44        0  \n",
       "2906209            0.00            0.00        0  \n",
       "...                 ...             ...      ...  \n",
       "6362615            0.00       339682.13        1  \n",
       "6362616            0.00            0.00        1  \n",
       "6362617        68488.84      6379898.11        1  \n",
       "6362618            0.00            0.00        1  \n",
       "6362619      6510099.11      7360101.63        1  \n",
       "\n",
       "[16426 rows x 8 columns]"
      ]
     },
     "execution_count": 29,
     "metadata": {},
     "output_type": "execute_result"
    }
   ],
   "source": [
    "# Exclusão de atributos nameOrig, nameDest e isFlaggedFraud\n",
    "\n",
    "ds_selecionado = ds_balanceado.drop(['nameOrig','nameDest','isFlaggedFraud'], axis=1)\n",
    "ds_selecionado"
   ]
  },
  {
   "cell_type": "code",
   "execution_count": 30,
   "metadata": {},
   "outputs": [
    {
     "data": {
      "text/html": [
       "<div>\n",
       "<style scoped>\n",
       "    .dataframe tbody tr th:only-of-type {\n",
       "        vertical-align: middle;\n",
       "    }\n",
       "\n",
       "    .dataframe tbody tr th {\n",
       "        vertical-align: top;\n",
       "    }\n",
       "\n",
       "    .dataframe thead th {\n",
       "        text-align: right;\n",
       "    }\n",
       "</style>\n",
       "<table border=\"1\" class=\"dataframe\">\n",
       "  <thead>\n",
       "    <tr style=\"text-align: right;\">\n",
       "      <th></th>\n",
       "      <th>step</th>\n",
       "      <th>type</th>\n",
       "      <th>amount</th>\n",
       "      <th>oldbalanceOrg</th>\n",
       "      <th>newbalanceOrig</th>\n",
       "      <th>oldbalanceDest</th>\n",
       "      <th>newbalanceDest</th>\n",
       "      <th>isFraud</th>\n",
       "      <th>typeIndex</th>\n",
       "    </tr>\n",
       "  </thead>\n",
       "  <tbody>\n",
       "    <tr>\n",
       "      <th>4368292</th>\n",
       "      <td>310</td>\n",
       "      <td>CASH_OUT</td>\n",
       "      <td>78213.98</td>\n",
       "      <td>0.00</td>\n",
       "      <td>0.00</td>\n",
       "      <td>2041559.27</td>\n",
       "      <td>2119773.25</td>\n",
       "      <td>0</td>\n",
       "      <td>1</td>\n",
       "    </tr>\n",
       "    <tr>\n",
       "      <th>4791611</th>\n",
       "      <td>345</td>\n",
       "      <td>CASH_IN</td>\n",
       "      <td>521687.37</td>\n",
       "      <td>2244469.36</td>\n",
       "      <td>2766156.74</td>\n",
       "      <td>1772132.54</td>\n",
       "      <td>1250445.17</td>\n",
       "      <td>0</td>\n",
       "      <td>0</td>\n",
       "    </tr>\n",
       "    <tr>\n",
       "      <th>1167313</th>\n",
       "      <td>132</td>\n",
       "      <td>CASH_IN</td>\n",
       "      <td>159115.33</td>\n",
       "      <td>8564744.48</td>\n",
       "      <td>8723859.81</td>\n",
       "      <td>392364.22</td>\n",
       "      <td>233248.89</td>\n",
       "      <td>0</td>\n",
       "      <td>0</td>\n",
       "    </tr>\n",
       "    <tr>\n",
       "      <th>3702139</th>\n",
       "      <td>277</td>\n",
       "      <td>CASH_OUT</td>\n",
       "      <td>69191.85</td>\n",
       "      <td>31149.00</td>\n",
       "      <td>0.00</td>\n",
       "      <td>777059.60</td>\n",
       "      <td>846251.44</td>\n",
       "      <td>0</td>\n",
       "      <td>1</td>\n",
       "    </tr>\n",
       "    <tr>\n",
       "      <th>2906209</th>\n",
       "      <td>228</td>\n",
       "      <td>PAYMENT</td>\n",
       "      <td>10600.29</td>\n",
       "      <td>219662.25</td>\n",
       "      <td>209061.96</td>\n",
       "      <td>0.00</td>\n",
       "      <td>0.00</td>\n",
       "      <td>0</td>\n",
       "      <td>3</td>\n",
       "    </tr>\n",
       "    <tr>\n",
       "      <th>...</th>\n",
       "      <td>...</td>\n",
       "      <td>...</td>\n",
       "      <td>...</td>\n",
       "      <td>...</td>\n",
       "      <td>...</td>\n",
       "      <td>...</td>\n",
       "      <td>...</td>\n",
       "      <td>...</td>\n",
       "      <td>...</td>\n",
       "    </tr>\n",
       "    <tr>\n",
       "      <th>6362615</th>\n",
       "      <td>743</td>\n",
       "      <td>CASH_OUT</td>\n",
       "      <td>339682.13</td>\n",
       "      <td>339682.13</td>\n",
       "      <td>0.00</td>\n",
       "      <td>0.00</td>\n",
       "      <td>339682.13</td>\n",
       "      <td>1</td>\n",
       "      <td>1</td>\n",
       "    </tr>\n",
       "    <tr>\n",
       "      <th>6362616</th>\n",
       "      <td>743</td>\n",
       "      <td>TRANSFER</td>\n",
       "      <td>6311409.28</td>\n",
       "      <td>6311409.28</td>\n",
       "      <td>0.00</td>\n",
       "      <td>0.00</td>\n",
       "      <td>0.00</td>\n",
       "      <td>1</td>\n",
       "      <td>4</td>\n",
       "    </tr>\n",
       "    <tr>\n",
       "      <th>6362617</th>\n",
       "      <td>743</td>\n",
       "      <td>CASH_OUT</td>\n",
       "      <td>6311409.28</td>\n",
       "      <td>6311409.28</td>\n",
       "      <td>0.00</td>\n",
       "      <td>68488.84</td>\n",
       "      <td>6379898.11</td>\n",
       "      <td>1</td>\n",
       "      <td>1</td>\n",
       "    </tr>\n",
       "    <tr>\n",
       "      <th>6362618</th>\n",
       "      <td>743</td>\n",
       "      <td>TRANSFER</td>\n",
       "      <td>850002.52</td>\n",
       "      <td>850002.52</td>\n",
       "      <td>0.00</td>\n",
       "      <td>0.00</td>\n",
       "      <td>0.00</td>\n",
       "      <td>1</td>\n",
       "      <td>4</td>\n",
       "    </tr>\n",
       "    <tr>\n",
       "      <th>6362619</th>\n",
       "      <td>743</td>\n",
       "      <td>CASH_OUT</td>\n",
       "      <td>850002.52</td>\n",
       "      <td>850002.52</td>\n",
       "      <td>0.00</td>\n",
       "      <td>6510099.11</td>\n",
       "      <td>7360101.63</td>\n",
       "      <td>1</td>\n",
       "      <td>1</td>\n",
       "    </tr>\n",
       "  </tbody>\n",
       "</table>\n",
       "<p>16426 rows × 9 columns</p>\n",
       "</div>"
      ],
      "text/plain": [
       "         step      type      amount  oldbalanceOrg  newbalanceOrig  \\\n",
       "4368292   310  CASH_OUT    78213.98           0.00            0.00   \n",
       "4791611   345   CASH_IN   521687.37     2244469.36      2766156.74   \n",
       "1167313   132   CASH_IN   159115.33     8564744.48      8723859.81   \n",
       "3702139   277  CASH_OUT    69191.85       31149.00            0.00   \n",
       "2906209   228   PAYMENT    10600.29      219662.25       209061.96   \n",
       "...       ...       ...         ...            ...             ...   \n",
       "6362615   743  CASH_OUT   339682.13      339682.13            0.00   \n",
       "6362616   743  TRANSFER  6311409.28     6311409.28            0.00   \n",
       "6362617   743  CASH_OUT  6311409.28     6311409.28            0.00   \n",
       "6362618   743  TRANSFER   850002.52      850002.52            0.00   \n",
       "6362619   743  CASH_OUT   850002.52      850002.52            0.00   \n",
       "\n",
       "         oldbalanceDest  newbalanceDest  isFraud  typeIndex  \n",
       "4368292      2041559.27      2119773.25        0          1  \n",
       "4791611      1772132.54      1250445.17        0          0  \n",
       "1167313       392364.22       233248.89        0          0  \n",
       "3702139       777059.60       846251.44        0          1  \n",
       "2906209            0.00            0.00        0          3  \n",
       "...                 ...             ...      ...        ...  \n",
       "6362615            0.00       339682.13        1          1  \n",
       "6362616            0.00            0.00        1          4  \n",
       "6362617        68488.84      6379898.11        1          1  \n",
       "6362618            0.00            0.00        1          4  \n",
       "6362619      6510099.11      7360101.63        1          1  \n",
       "\n",
       "[16426 rows x 9 columns]"
      ]
     },
     "execution_count": 30,
     "metadata": {},
     "output_type": "execute_result"
    }
   ],
   "source": [
    "# creating instance of labelencoder\n",
    "labelencoder = LabelEncoder()\n",
    "# Assigning numerical values and storing in another column\n",
    "ds_selecionado['typeIndex'] = labelencoder.fit_transform(ds_selecionado['type'])\n",
    "ds_convertido = ds_selecionado\n",
    "ds_selecionado"
   ]
  },
  {
   "cell_type": "code",
   "execution_count": 31,
   "metadata": {},
   "outputs": [],
   "source": [
    "# Exportação do arquivo CSV com o dataset consolidado para utilização no Spark\n",
    "ds_final = ds_convertido\n",
    "ds_final.to_csv('data/data_fraud.csv')"
   ]
  },
  {
   "cell_type": "code",
   "execution_count": 32,
   "metadata": {},
   "outputs": [],
   "source": [
    "# Segregação dos atributos e classes que serão utilizados para treinamento e teste do KNN\n",
    "feature_columns = ['step','amount','oldbalanceOrg','newbalanceOrig','oldbalanceDest','newbalanceDest','typeIndex']\n",
    "X = ds_final[feature_columns].values\n",
    "y = ds_final['isFraud'].values"
   ]
  },
  {
   "cell_type": "code",
   "execution_count": 33,
   "metadata": {},
   "outputs": [],
   "source": [
    "# Split ramdomly the dataset into train and test group\n",
    "X_train, X_test, y_train, y_test = train_test_split(X, y, test_size = test_sample, random_state = 0)"
   ]
  },
  {
   "cell_type": "markdown",
   "metadata": {},
   "source": [
    "## KNN using Scikit-learn"
   ]
  },
  {
   "cell_type": "code",
   "execution_count": 34,
   "metadata": {},
   "outputs": [],
   "source": [
    "start_time_knn =  time.time()\n",
    "# Instantiate learning model (k = 3)\n",
    "classifier = KNeighborsClassifier(n_neighbors=3)\n",
    "\n",
    "# Fitting the model\n",
    "classifier.fit(X_train, y_train)\n",
    "\n",
    "# Predicting the Test set results\n",
    "y_pred = classifier.predict(X_test)"
   ]
  },
  {
   "cell_type": "code",
   "execution_count": 35,
   "metadata": {},
   "outputs": [
    {
     "name": "stdout",
     "output_type": "stream",
     "text": [
      "K-Nearest Neighbors (KNN): accuracy = 96.1 %\n",
      "K-Nearest Neighbors (KNN): time = 0.427 s\n"
     ]
    }
   ],
   "source": [
    "accuracy_knn = accuracy_score(y_test, y_pred)*100\n",
    "time_knn = time.time() - start_time_knn\n",
    "##print('KNN accuracy = ' + str(round(accuracy_knn, 1)) + ' %.')\n",
    "print(\"K-Nearest Neighbors (KNN): accuracy = %3.1f %%\" % accuracy_knn)\n",
    "print(\"K-Nearest Neighbors (KNN): time = %3.3f s\" % time_knn)"
   ]
  },
  {
   "cell_type": "markdown",
   "metadata": {},
   "source": [
    "## Create Spark environment"
   ]
  },
  {
   "cell_type": "code",
   "execution_count": 36,
   "metadata": {},
   "outputs": [],
   "source": [
    "# Create Spark Session\n",
    "spark = SparkSession.builder \\\n",
    "        .master(\"local[*]\") \\\n",
    "        .appName(\"MachineLearningFraud\") \\\n",
    "        .getOrCreate()"
   ]
  },
  {
   "cell_type": "markdown",
   "metadata": {},
   "source": [
    "## Reading Data"
   ]
  },
  {
   "cell_type": "code",
   "execution_count": 37,
   "metadata": {},
   "outputs": [
    {
     "name": "stdout",
     "output_type": "stream",
     "text": [
      "Dataframe read from CSV file\n",
      "root\n",
      " |-- _c0: integer (nullable = true)\n",
      " |-- step: integer (nullable = true)\n",
      " |-- type: string (nullable = true)\n",
      " |-- amount: double (nullable = true)\n",
      " |-- oldbalanceOrg: double (nullable = true)\n",
      " |-- newbalanceOrig: double (nullable = true)\n",
      " |-- oldbalanceDest: double (nullable = true)\n",
      " |-- newbalanceDest: double (nullable = true)\n",
      " |-- isFraud: integer (nullable = true)\n",
      " |-- typeIndex: integer (nullable = true)\n",
      "\n",
      "+-------+----+--------+---------+-------------+--------------+--------------+--------------+-------+---------+\n",
      "|    _c0|step|    type|   amount|oldbalanceOrg|newbalanceOrig|oldbalanceDest|newbalanceDest|isFraud|typeIndex|\n",
      "+-------+----+--------+---------+-------------+--------------+--------------+--------------+-------+---------+\n",
      "|4368292| 310|CASH_OUT| 78213.98|          0.0|           0.0|    2041559.27|    2119773.25|      0|        1|\n",
      "|4791611| 345| CASH_IN|521687.37|   2244469.36|    2766156.74|    1772132.54|    1250445.17|      0|        0|\n",
      "|1167313| 132| CASH_IN|159115.33|   8564744.48|    8723859.81|     392364.22|     233248.89|      0|        0|\n",
      "|3702139| 277|CASH_OUT| 69191.85|      31149.0|           0.0|      777059.6|     846251.44|      0|        1|\n",
      "|2906209| 228| PAYMENT| 10600.29|    219662.25|     209061.96|           0.0|           0.0|      0|        3|\n",
      "+-------+----+--------+---------+-------------+--------------+--------------+--------------+-------+---------+\n",
      "only showing top 5 rows\n",
      "\n",
      "+-------+-----+\n",
      "|IsFraud|count|\n",
      "+-------+-----+\n",
      "|      1| 8213|\n",
      "|      0| 8213|\n",
      "+-------+-----+\n",
      "\n"
     ]
    }
   ],
   "source": [
    "# Load Fraud CSV dataset to Spark Dataframe\n",
    "\n",
    "# Load Iris CSV dataset to Spark Dataframe\n",
    "df_original = spark.read.format('csv').options(sep=',',header='true',inferschema='true').\\\n",
    "            load(data_path+'data_fraud.csv')\n",
    "\n",
    "print(\"Dataframe read from CSV file\")\n",
    "df_original.printSchema()\n",
    "df_original.show(5)\n",
    "df_original.groupBy('IsFraud').count().show()"
   ]
  },
  {
   "cell_type": "markdown",
   "metadata": {},
   "source": [
    "## Transformação"
   ]
  },
  {
   "cell_type": "code",
   "execution_count": 38,
   "metadata": {},
   "outputs": [
    {
     "name": "stdout",
     "output_type": "stream",
     "text": [
      "root\n",
      " |-- _c0: integer (nullable = true)\n",
      " |-- step: integer (nullable = true)\n",
      " |-- type: string (nullable = true)\n",
      " |-- amount: double (nullable = true)\n",
      " |-- oldbalanceOrg: double (nullable = true)\n",
      " |-- newbalanceOrig: double (nullable = true)\n",
      " |-- oldbalanceDest: double (nullable = true)\n",
      " |-- newbalanceDest: double (nullable = true)\n",
      " |-- isFraud: integer (nullable = true)\n",
      " |-- typeIndex: integer (nullable = true)\n",
      " |-- label: double (nullable = false)\n",
      "\n",
      "+-------+----+--------+---------+-------------+--------------+--------------+--------------+-------+---------+-----+\n",
      "|    _c0|step|    type|   amount|oldbalanceOrg|newbalanceOrig|oldbalanceDest|newbalanceDest|isFraud|typeIndex|label|\n",
      "+-------+----+--------+---------+-------------+--------------+--------------+--------------+-------+---------+-----+\n",
      "|4368292| 310|CASH_OUT| 78213.98|          0.0|           0.0|    2041559.27|    2119773.25|      0|        1|  0.0|\n",
      "|4791611| 345| CASH_IN|521687.37|   2244469.36|    2766156.74|    1772132.54|    1250445.17|      0|        0|  0.0|\n",
      "|1167313| 132| CASH_IN|159115.33|   8564744.48|    8723859.81|     392364.22|     233248.89|      0|        0|  0.0|\n",
      "|3702139| 277|CASH_OUT| 69191.85|      31149.0|           0.0|      777059.6|     846251.44|      0|        1|  0.0|\n",
      "|2906209| 228| PAYMENT| 10600.29|    219662.25|     209061.96|           0.0|           0.0|      0|        3|  0.0|\n",
      "+-------+----+--------+---------+-------------+--------------+--------------+--------------+-------+---------+-----+\n",
      "only showing top 5 rows\n",
      "\n",
      "+-----+-----+\n",
      "|label|count|\n",
      "+-----+-----+\n",
      "|  0.0| 8213|\n",
      "|  1.0| 8213|\n",
      "+-----+-----+\n",
      "\n"
     ]
    }
   ],
   "source": [
    "# ML libraries doesn't accept string column => everything should be numeric! \n",
    "# create a numeric column \"label\" based on string column \"class\" \n",
    "\n",
    "indexer = StringIndexer(inputCol='isFraud', outputCol='label').fit(df_original)\n",
    "df_indexado = indexer.transform(df_original)\n",
    "\n",
    "# Save the inverse map from numeric \"label\" to string \"class\" to be used further in response\n",
    "labelReverse = IndexToString().setInputCol(\"label\")\n",
    "\n",
    "df_indexado.printSchema()\n",
    "df_indexado.show(5)\n",
    "df_indexado.groupBy('label').count().show()"
   ]
  },
  {
   "cell_type": "code",
   "execution_count": 39,
   "metadata": {},
   "outputs": [
    {
     "name": "stdout",
     "output_type": "stream",
     "text": [
      "+----+---------+-------------+--------------+--------------+--------------+---------+-----+\n",
      "|step|   amount|oldbalanceOrg|newbalanceOrig|oldbalanceDest|newbalanceDest|typeIndex|label|\n",
      "+----+---------+-------------+--------------+--------------+--------------+---------+-----+\n",
      "| 310| 78213.98|          0.0|           0.0|    2041559.27|    2119773.25|        1|  0.0|\n",
      "| 345|521687.37|   2244469.36|    2766156.74|    1772132.54|    1250445.17|        0|  0.0|\n",
      "| 132|159115.33|   8564744.48|    8723859.81|     392364.22|     233248.89|        0|  0.0|\n",
      "| 277| 69191.85|      31149.0|           0.0|      777059.6|     846251.44|        1|  0.0|\n",
      "| 228| 10600.29|    219662.25|     209061.96|           0.0|           0.0|        3|  0.0|\n",
      "+----+---------+-------------+--------------+--------------+--------------+---------+-----+\n",
      "only showing top 5 rows\n",
      "\n"
     ]
    }
   ],
   "source": [
    "# Drop string column\n",
    "df_transformado = df_indexado.drop('_c0', 'type','isFraud')\n",
    "df_transformado.show(5)"
   ]
  },
  {
   "cell_type": "markdown",
   "metadata": {},
   "source": [
    "## Create Train and Test Dataset"
   ]
  },
  {
   "cell_type": "code",
   "execution_count": 40,
   "metadata": {},
   "outputs": [
    {
     "name": "stdout",
     "output_type": "stream",
     "text": [
      "+----+---------+-------------+--------------+--------------+--------------+---------+-----+\n",
      "|step|amount   |oldbalanceOrg|newbalanceOrig|oldbalanceDest|newbalanceDest|typeIndex|label|\n",
      "+----+---------+-------------+--------------+--------------+--------------+---------+-----+\n",
      "|310 |78213.98 |0.0          |0.0           |2041559.27    |2119773.25    |1        |0.0  |\n",
      "|345 |521687.37|2244469.36   |2766156.74    |1772132.54    |1250445.17    |0        |0.0  |\n",
      "|132 |159115.33|8564744.48   |8723859.81    |392364.22     |233248.89     |0        |0.0  |\n",
      "|277 |69191.85 |31149.0      |0.0           |777059.6      |846251.44     |1        |0.0  |\n",
      "|228 |10600.29 |219662.25    |209061.96     |0.0           |0.0           |3        |0.0  |\n",
      "|361 |48236.21 |5022.0       |0.0           |0.0           |0.0           |3        |0.0  |\n",
      "|42  |21052.36 |319295.0     |298242.64     |0.0           |0.0           |3        |0.0  |\n",
      "|155 |7561.69  |92410.15     |84848.45      |0.0           |0.0           |3        |0.0  |\n",
      "|226 |1207353.2|0.0          |0.0           |2380381.8     |3587734.99    |4        |0.0  |\n",
      "|203 |267578.49|285706.0     |553284.49     |2165513.38    |1897934.88    |0        |0.0  |\n",
      "+----+---------+-------------+--------------+--------------+--------------+---------+-----+\n",
      "only showing top 10 rows\n",
      "\n",
      "+----+--------+-------------+--------------+--------------+--------------+---------+-----+\n",
      "|step|amount  |oldbalanceOrg|newbalanceOrig|oldbalanceDest|newbalanceDest|typeIndex|label|\n",
      "+----+--------+-------------+--------------+--------------+--------------+---------+-----+\n",
      "|1   |2806.0  |2806.0       |0.0           |26202.0       |0.0           |1        |1.0  |\n",
      "|1   |2879.51 |0.0          |0.0           |0.0           |0.0           |3        |0.0  |\n",
      "|1   |3943.17 |36786.34     |32843.16      |0.0           |0.0           |3        |0.0  |\n",
      "|1   |20128.0 |20128.0      |0.0           |0.0           |0.0           |4        |1.0  |\n",
      "|1   |20128.0 |20128.0      |0.0           |6268.0        |12145.85      |1        |1.0  |\n",
      "|1   |21502.38|0.0          |0.0           |2361788.82    |1412484.09    |4        |0.0  |\n",
      "|1   |25071.46|25071.46     |0.0           |0.0           |0.0           |4        |1.0  |\n",
      "|1   |25071.46|25071.46     |0.0           |9083.76       |34155.22      |1        |1.0  |\n",
      "|1   |35063.63|35063.63     |0.0           |0.0           |0.0           |4        |1.0  |\n",
      "|1   |35063.63|35063.63     |0.0           |31140.0       |7550.03       |1        |1.0  |\n",
      "+----+--------+-------------+--------------+--------------+--------------+---------+-----+\n",
      "only showing top 10 rows\n",
      "\n",
      "+----+----------+-------------+--------------+--------------+--------------+---------+-----+\n",
      "|step|amount    |oldbalanceOrg|newbalanceOrig|oldbalanceDest|newbalanceDest|typeIndex|label|\n",
      "+----+----------+-------------+--------------+--------------+--------------+---------+-----+\n",
      "|1   |181.0     |181.0        |0.0           |0.0           |0.0           |4        |1.0  |\n",
      "|1   |181.0     |181.0        |0.0           |21182.0       |0.0           |1        |1.0  |\n",
      "|1   |2806.0    |2806.0       |0.0           |0.0           |0.0           |4        |1.0  |\n",
      "|1   |132842.64 |4499.08      |0.0           |0.0           |132842.64     |1        |1.0  |\n",
      "|2   |963532.14 |963532.14    |0.0           |132382.57     |1095914.71    |1        |1.0  |\n",
      "|2   |1096187.24|1096187.24   |0.0           |0.0           |0.0           |4        |1.0  |\n",
      "|3   |10539.37  |10539.37     |0.0           |0.0           |10539.37      |1        |1.0  |\n",
      "|3   |101181.53 |12973.52     |0.0           |1.079137927E7 |1.067090724E7 |1        |0.0  |\n",
      "|4   |86070.17  |86070.17     |0.0           |0.0           |0.0           |4        |1.0  |\n",
      "|4   |169941.73 |169941.73    |0.0           |0.0           |169941.73     |1        |1.0  |\n",
      "+----+----------+-------------+--------------+--------------+--------------+---------+-----+\n",
      "only showing top 10 rows\n",
      "\n",
      "root\n",
      " |-- step: integer (nullable = true)\n",
      " |-- amount: double (nullable = true)\n",
      " |-- oldbalanceOrg: double (nullable = true)\n",
      " |-- newbalanceOrig: double (nullable = true)\n",
      " |-- oldbalanceDest: double (nullable = true)\n",
      " |-- newbalanceDest: double (nullable = true)\n",
      " |-- typeIndex: integer (nullable = true)\n",
      " |-- label: double (nullable = false)\n",
      "\n"
     ]
    }
   ],
   "source": [
    "# Split ramdomly the dataset into train and test group\n",
    "# [0.7,0.3] => 70% for train and 30% for test\n",
    "# [1.0,0.2] => 100% for train and 20% for test, not good, acuracy always 100%\n",
    "# [0.1,0.02] => 10% for train and 2% for test, if big datasets\n",
    "# 1234 is the random seed\n",
    "\n",
    "(train, test) = df_transformado.randomSplit([train_sample, test_sample],1234)\n",
    "\n",
    "df_transformado.show(truncate = False, n = 10)\n",
    "train.show(truncate = False, n = 10)\n",
    "test.show(truncate = False, n = 10)\n",
    "test.printSchema()"
   ]
  },
  {
   "cell_type": "markdown",
   "metadata": {},
   "source": [
    "### Create Classifier Matrix"
   ]
  },
  {
   "cell_type": "code",
   "execution_count": 41,
   "metadata": {},
   "outputs": [
    {
     "name": "stdout",
     "output_type": "stream",
     "text": [
      "Final Dataframe suitable to classifier input format\n"
     ]
    }
   ],
   "source": [
    "# Most Machine Learning Lib inpute 2 columns: label (output) and feature (input)\n",
    "# The label column is the result to train ML algorithm \n",
    "# The feature column should join all parameters as a Vector\n",
    "\n",
    "# VectorAssembler mount the vector of features\n",
    "assembler = VectorAssembler(\n",
    "            inputCols=['step','amount','oldbalanceOrg','newbalanceOrig','oldbalanceDest','newbalanceDest','typeIndex'],\n",
    "            outputCol='features')\n",
    "\n",
    "# Create final dataframe composed by label and a column of features vector\n",
    "data = (assembler.transform(df_transformado).select('label','features'))\n",
    "train = (assembler.transform(train).select('label','features'))\n",
    "test = (assembler.transform(test).select('label','features'))\n",
    "\n",
    "print(\"Final Dataframe suitable to classifier input format\")"
   ]
  },
  {
   "cell_type": "code",
   "execution_count": 42,
   "metadata": {},
   "outputs": [
    {
     "name": "stdout",
     "output_type": "stream",
     "text": [
      "+-----+-----------------------------------------------------------------+\n",
      "|label|features                                                         |\n",
      "+-----+-----------------------------------------------------------------+\n",
      "|0.0  |[310.0,78213.98,0.0,0.0,2041559.27,2119773.25,1.0]               |\n",
      "|0.0  |[345.0,521687.37,2244469.36,2766156.74,1772132.54,1250445.17,0.0]|\n",
      "|0.0  |[132.0,159115.33,8564744.48,8723859.81,392364.22,233248.89,0.0]  |\n",
      "|0.0  |[277.0,69191.85,31149.0,0.0,777059.6,846251.44,1.0]              |\n",
      "|0.0  |[228.0,10600.29,219662.25,209061.96,0.0,0.0,3.0]                 |\n",
      "|0.0  |[361.0,48236.21,5022.0,0.0,0.0,0.0,3.0]                          |\n",
      "|0.0  |[42.0,21052.36,319295.0,298242.64,0.0,0.0,3.0]                   |\n",
      "|0.0  |[155.0,7561.69,92410.15,84848.45,0.0,0.0,3.0]                    |\n",
      "|0.0  |[226.0,1207353.2,0.0,0.0,2380381.8,3587734.99,4.0]               |\n",
      "|0.0  |[203.0,267578.49,285706.0,553284.49,2165513.38,1897934.88,0.0]   |\n",
      "+-----+-----------------------------------------------------------------+\n",
      "only showing top 10 rows\n",
      "\n"
     ]
    }
   ],
   "source": [
    "data.show(truncate = False, n = 10)"
   ]
  },
  {
   "cell_type": "code",
   "execution_count": 43,
   "metadata": {},
   "outputs": [
    {
     "name": "stdout",
     "output_type": "stream",
     "text": [
      "+-----+------------------------------------------------+\n",
      "|label|features                                        |\n",
      "+-----+------------------------------------------------+\n",
      "|1.0  |[1.0,2806.0,2806.0,0.0,26202.0,0.0,1.0]         |\n",
      "|0.0  |(7,[0,1,6],[1.0,2879.51,3.0])                   |\n",
      "|0.0  |[1.0,3943.17,36786.34,32843.16,0.0,0.0,3.0]     |\n",
      "|1.0  |[1.0,20128.0,20128.0,0.0,0.0,0.0,4.0]           |\n",
      "|1.0  |[1.0,20128.0,20128.0,0.0,6268.0,12145.85,1.0]   |\n",
      "|0.0  |[1.0,21502.38,0.0,0.0,2361788.82,1412484.09,4.0]|\n",
      "|1.0  |[1.0,25071.46,25071.46,0.0,0.0,0.0,4.0]         |\n",
      "|1.0  |[1.0,25071.46,25071.46,0.0,9083.76,34155.22,1.0]|\n",
      "|1.0  |[1.0,35063.63,35063.63,0.0,0.0,0.0,4.0]         |\n",
      "|1.0  |[1.0,35063.63,35063.63,0.0,31140.0,7550.03,1.0] |\n",
      "+-----+------------------------------------------------+\n",
      "only showing top 10 rows\n",
      "\n"
     ]
    }
   ],
   "source": [
    "train.show(truncate = False, n = 10)"
   ]
  },
  {
   "cell_type": "code",
   "execution_count": 44,
   "metadata": {},
   "outputs": [
    {
     "name": "stdout",
     "output_type": "stream",
     "text": [
      "+-----+------------------------------------------------------------+\n",
      "|label|features                                                    |\n",
      "+-----+------------------------------------------------------------+\n",
      "|1.0  |[1.0,181.0,181.0,0.0,0.0,0.0,4.0]                           |\n",
      "|1.0  |[1.0,181.0,181.0,0.0,21182.0,0.0,1.0]                       |\n",
      "|1.0  |[1.0,2806.0,2806.0,0.0,0.0,0.0,4.0]                         |\n",
      "|1.0  |[1.0,132842.64,4499.08,0.0,0.0,132842.64,1.0]               |\n",
      "|1.0  |[2.0,963532.14,963532.14,0.0,132382.57,1095914.71,1.0]      |\n",
      "|1.0  |[2.0,1096187.24,1096187.24,0.0,0.0,0.0,4.0]                 |\n",
      "|1.0  |[3.0,10539.37,10539.37,0.0,0.0,10539.37,1.0]                |\n",
      "|0.0  |[3.0,101181.53,12973.52,0.0,1.079137927E7,1.067090724E7,1.0]|\n",
      "|1.0  |[4.0,86070.17,86070.17,0.0,0.0,0.0,4.0]                     |\n",
      "|1.0  |[4.0,169941.73,169941.73,0.0,0.0,169941.73,1.0]             |\n",
      "+-----+------------------------------------------------------------+\n",
      "only showing top 10 rows\n",
      "\n"
     ]
    }
   ],
   "source": [
    "test.show(truncate = False, n = 10)"
   ]
  },
  {
   "cell_type": "code",
   "execution_count": 45,
   "metadata": {},
   "outputs": [
    {
     "name": "stdout",
     "output_type": "stream",
     "text": [
      "+-----+--------+\n",
      "|label|features|\n",
      "+-----+--------+\n",
      "+-----+--------+\n",
      "\n"
     ]
    }
   ],
   "source": [
    "test.filter(\"label is null\").show()"
   ]
  },
  {
   "cell_type": "code",
   "execution_count": 46,
   "metadata": {},
   "outputs": [
    {
     "name": "stdout",
     "output_type": "stream",
     "text": [
      "+-----+--------+\n",
      "|label|features|\n",
      "+-----+--------+\n",
      "+-----+--------+\n",
      "\n"
     ]
    }
   ],
   "source": [
    "test.filter(\"features is null\").show()"
   ]
  },
  {
   "cell_type": "markdown",
   "metadata": {},
   "source": [
    "## Run Decision Tree"
   ]
  },
  {
   "cell_type": "code",
   "execution_count": 47,
   "metadata": {},
   "outputs": [],
   "source": [
    "start_time_dt =  time.time()\n",
    "\n",
    "# impurity could be: entropy, gini'\n",
    "\n",
    "trainer = DecisionTreeClassifier(featuresCol='features', labelCol='label', predictionCol='prediction', probabilityCol='probability',\\\n",
    "                                 rawPredictionCol='rawPrediction', maxDepth=5, maxBins=32, minInstancesPerNode=1, minInfoGain=0.0,\\\n",
    "                                 maxMemoryInMB=256, cacheNodeIds=False, checkpointInterval=10, impurity='gini', seed=None)\n",
    "\n",
    "# train the model and get the result\n",
    "model_dt = trainer.fit(train) # treinando o modelo\n",
    "result_dt = model_dt.transform(test) # executando a predição"
   ]
  },
  {
   "cell_type": "code",
   "execution_count": 48,
   "metadata": {},
   "outputs": [
    {
     "name": "stdout",
     "output_type": "stream",
     "text": [
      "Decision Tree: accuracy = 96.9 %\n",
      "Decision Tree: time = 3.837 s\n"
     ]
    }
   ],
   "source": [
    "# compute accuracy on the test set against model\n",
    "evaluator = MulticlassClassificationEvaluator(labelCol='label', predictionCol='prediction',\\\n",
    "            metricName='accuracy')\n",
    "\n",
    "accuracy_dt = evaluator.evaluate(result_dt) * 100\n",
    "time_dt = time.time() - start_time_dt\n",
    "\n",
    "print(\"Decision Tree: accuracy = %3.1f %%\" % accuracy_dt)\n",
    "print(\"Decision Tree: time = %3.3f s\" % time_dt)"
   ]
  },
  {
   "cell_type": "code",
   "execution_count": 49,
   "metadata": {},
   "outputs": [
    {
     "name": "stdout",
     "output_type": "stream",
     "text": [
      "Decision Tree Final Result\n",
      "+-----+------------------------------------------------------+--------------+-----------------------------------------+----------+\n",
      "|label|features                                              |rawPrediction |probability                              |prediction|\n",
      "+-----+------------------------------------------------------+--------------+-----------------------------------------+----------+\n",
      "|1.0  |[1.0,181.0,181.0,0.0,0.0,0.0,4.0]                     |[0.0,229.0]   |[0.0,1.0]                                |1.0       |\n",
      "|1.0  |[1.0,181.0,181.0,0.0,21182.0,0.0,1.0]                 |[3245.0,246.0]|[0.9295330850759095,0.07046691492409052] |0.0       |\n",
      "|1.0  |[1.0,2806.0,2806.0,0.0,0.0,0.0,4.0]                   |[0.0,229.0]   |[0.0,1.0]                                |1.0       |\n",
      "|1.0  |[1.0,132842.64,4499.08,0.0,0.0,132842.64,1.0]         |[3245.0,246.0]|[0.9295330850759095,0.07046691492409052] |0.0       |\n",
      "|1.0  |[2.0,963532.14,963532.14,0.0,132382.57,1095914.71,1.0]|[29.0,3524.0] |[0.008162116521249648,0.9918378834787503]|1.0       |\n",
      "+-----+------------------------------------------------------+--------------+-----------------------------------------+----------+\n",
      "only showing top 5 rows\n",
      "\n",
      "+----------+-----+------------------------------------------------------+\n",
      "|prediction|label|features                                              |\n",
      "+----------+-----+------------------------------------------------------+\n",
      "|1.0       |1.0  |[1.0,181.0,181.0,0.0,0.0,0.0,4.0]                     |\n",
      "|0.0       |1.0  |[1.0,181.0,181.0,0.0,21182.0,0.0,1.0]                 |\n",
      "|1.0       |1.0  |[1.0,2806.0,2806.0,0.0,0.0,0.0,4.0]                   |\n",
      "|0.0       |1.0  |[1.0,132842.64,4499.08,0.0,0.0,132842.64,1.0]         |\n",
      "|1.0       |1.0  |[2.0,963532.14,963532.14,0.0,132382.57,1095914.71,1.0]|\n",
      "+----------+-----+------------------------------------------------------+\n",
      "only showing top 5 rows\n",
      "\n"
     ]
    }
   ],
   "source": [
    "print(\"Decision Tree Final Result\")\n",
    "result_dt.show(truncate = False, n = 5)\n",
    "result_dt.select(\"prediction\", \"label\", \"features\").show(truncate = False, n = 5)"
   ]
  },
  {
   "cell_type": "markdown",
   "metadata": {},
   "source": [
    "## Run Decision Forest"
   ]
  },
  {
   "cell_type": "code",
   "execution_count": 50,
   "metadata": {},
   "outputs": [],
   "source": [
    "start_time_rf =  time.time()\n",
    "\n",
    "trainer = RandomForestClassifier(featuresCol='features', labelCol='label', predictionCol='prediction', probabilityCol='probability',\\\n",
    "                                 rawPredictionCol='rawPrediction', maxDepth=5, maxBins=32, minInstancesPerNode=1, minInfoGain=0.0,\\\n",
    "                                 numTrees=50, featureSubsetStrategy='auto', seed=None, subsamplingRate=1.0,\\\n",
    "                                 maxMemoryInMB=256, cacheNodeIds=False, checkpointInterval=10, impurity='gini')\n",
    "\n",
    "# impurity could be: entropy, gini'\n",
    "# numTrees= set the number of random trees to create\n",
    "\n",
    "# train the model and get the result\n",
    "model_rf = trainer.fit(train)\n",
    "result_rf = model_rf.transform(test)"
   ]
  },
  {
   "cell_type": "code",
   "execution_count": 51,
   "metadata": {},
   "outputs": [
    {
     "name": "stdout",
     "output_type": "stream",
     "text": [
      "Random Forest: accuracy = 95.8 %\n",
      "Random Forest: time = 5.918 s\n"
     ]
    }
   ],
   "source": [
    "# compute accuracy on the test set against model\n",
    "evaluator = MulticlassClassificationEvaluator(labelCol='label', predictionCol='prediction',\\\n",
    "            metricName='accuracy')\n",
    "\n",
    "accuracy_rf = evaluator.evaluate(result_rf) * 100\n",
    "time_rf = time.time() - start_time_rf\n",
    "\n",
    "print(\"Random Forest: accuracy = %3.1f %%\" % accuracy_rf)\n",
    "print(\"Random Forest: time = %3.3f s\" % time_rf)"
   ]
  },
  {
   "cell_type": "code",
   "execution_count": 52,
   "metadata": {},
   "outputs": [
    {
     "name": "stdout",
     "output_type": "stream",
     "text": [
      "Decision Tree Final Result\n",
      "+-----+--------------------+--------------------+--------------------+----------+\n",
      "|label|            features|       rawPrediction|         probability|prediction|\n",
      "+-----+--------------------+--------------------+--------------------+----------+\n",
      "|  1.0|[1.0,181.0,181.0,...|[9.78970511006723...|[0.19579410220134...|       1.0|\n",
      "|  1.0|[1.0,181.0,181.0,...|[41.3654550342319...|[0.82730910068463...|       0.0|\n",
      "|  1.0|[1.0,2806.0,2806....|[7.04465678722342...|[0.14089313574446...|       1.0|\n",
      "|  1.0|[1.0,132842.64,44...|[46.0729561879162...|[0.92145912375832...|       0.0|\n",
      "|  1.0|[2.0,963532.14,96...|[2.30811143341649...|[0.04616222866832...|       1.0|\n",
      "|  1.0|[2.0,1096187.24,1...|[0.93903899216316...|[0.01878077984326...|       1.0|\n",
      "|  1.0|[3.0,10539.37,105...|[35.1653415103426...|[0.70330683020685...|       0.0|\n",
      "|  0.0|[3.0,101181.53,12...|[45.7161630087828...|[0.91432326017565...|       0.0|\n",
      "|  1.0|[4.0,86070.17,860...|[2.49591636056799...|[0.04991832721135...|       1.0|\n",
      "|  1.0|[4.0,169941.73,16...|[9.39652718436352...|[0.18793054368727...|       1.0|\n",
      "+-----+--------------------+--------------------+--------------------+----------+\n",
      "only showing top 10 rows\n",
      "\n"
     ]
    }
   ],
   "source": [
    "print(\"Decision Tree Final Result\")\n",
    "result_rf.show(truncate = True, n = 10)"
   ]
  },
  {
   "cell_type": "markdown",
   "metadata": {},
   "source": [
    "## Run Neural network Perceptron"
   ]
  },
  {
   "cell_type": "code",
   "execution_count": 53,
   "metadata": {},
   "outputs": [],
   "source": [
    "start_time_pr =  time.time()\n",
    "# specify layers for the neural network\n",
    "# parameter 1: input layer, should be the number of features\n",
    "# parameter 2 and 3: the number os perceptron in two intermediate layers\n",
    "# parameter 4: output layer should be the number os categories (labels)\n",
    "layers = [7, 5, 5, 2]\n",
    "\n",
    "# Create the trainer and set its parameters\n",
    "# featuresCol=name_feature_column, labelCol=name_label_column\n",
    "# maxIter=max_interaction, layers=list_number_perceptron \n",
    "\n",
    "trainer = MultilayerPerceptronClassifier(featuresCol='features', labelCol='label',\\\n",
    "          maxIter=100, layers=layers, blockSize=128, seed=1234)\n",
    "\n",
    "# train the model and get the result\n",
    "model_pr = trainer.fit(train)\n",
    "result_pr = model_pr.transform(test)"
   ]
  },
  {
   "cell_type": "code",
   "execution_count": 54,
   "metadata": {},
   "outputs": [
    {
     "name": "stdout",
     "output_type": "stream",
     "text": [
      "Multilayer Perceptron: accuracy = 84.4 %\n",
      "Multilayer Perceptron: time = 11.242 s\n"
     ]
    }
   ],
   "source": [
    "# compute accuracy on the test set against model\n",
    "evaluator = MulticlassClassificationEvaluator(labelCol='label', predictionCol='prediction',\\\n",
    "            metricName='accuracy')\n",
    "\n",
    "accuracy_pr = evaluator.evaluate(result_pr) * 100\n",
    "time_pr = time.time() - start_time_pr\n",
    "\n",
    "print(\"Multilayer Perceptron: accuracy = %3.1f %%\" % accuracy_pr)\n",
    "print(\"Multilayer Perceptron: time = %3.3f s\" % time_pr)"
   ]
  },
  {
   "cell_type": "code",
   "execution_count": 55,
   "metadata": {},
   "outputs": [
    {
     "name": "stdout",
     "output_type": "stream",
     "text": [
      "Perceptron final result with name of class\n",
      "+-----+--------------------+--------------------+--------------------+----------+\n",
      "|label|            features|       rawPrediction|         probability|prediction|\n",
      "+-----+--------------------+--------------------+--------------------+----------+\n",
      "|  1.0|[1.0,181.0,181.0,...|[-0.2418072423359...|[0.17370528616499...|       1.0|\n",
      "|  1.0|[1.0,181.0,181.0,...|[-1.1218944279155...|[0.02283747118422...|       1.0|\n",
      "|  1.0|[1.0,2806.0,2806....|[-0.2418072514429...|[0.17370528366950...|       1.0|\n",
      "|  1.0|[1.0,132842.64,44...|[3.17057811366097...|[0.99660303460255...|       0.0|\n",
      "|  1.0|[2.0,963532.14,96...|[-1.1979102138867...|[0.02100307246128...|       1.0|\n",
      "+-----+--------------------+--------------------+--------------------+----------+\n",
      "only showing top 5 rows\n",
      "\n"
     ]
    }
   ],
   "source": [
    "print(\"Perceptron final result with name of class\")\n",
    "result_pr.show(truncate = True, n = 5)"
   ]
  },
  {
   "cell_type": "markdown",
   "metadata": {},
   "source": [
    "## Run Naive Bayes"
   ]
  },
  {
   "cell_type": "code",
   "execution_count": 56,
   "metadata": {},
   "outputs": [],
   "source": [
    "start_time_nb =  time.time()\n",
    "\n",
    "# create the trainer and set its parameters\n",
    "trainer = NaiveBayes(smoothing=1.0, modelType='multinomial')\n",
    "\n",
    "# train the model and get the result\n",
    "model_nb = trainer.fit(train)\n",
    "result_nb = model_nb.transform(test)"
   ]
  },
  {
   "cell_type": "code",
   "execution_count": 57,
   "metadata": {},
   "outputs": [
    {
     "name": "stdout",
     "output_type": "stream",
     "text": [
      "Naive Bayes: accuracy = 73.5 %\n",
      "Naive Bayes: time = 1.488 s\n"
     ]
    }
   ],
   "source": [
    "# compute accuracy on the test set against model\n",
    "evaluator = MulticlassClassificationEvaluator(labelCol='label', predictionCol='prediction',\\\n",
    "            metricName='accuracy')\n",
    "\n",
    "accuracy_nb = evaluator.evaluate(result_nb) * 100\n",
    "time_nb = time.time() - start_time_nb\n",
    "\n",
    "print(\"Naive Bayes: accuracy = %3.1f %%\" % accuracy_nb)\n",
    "print(\"Naive Bayes: time = %3.3f s\" % time_nb)"
   ]
  },
  {
   "cell_type": "code",
   "execution_count": 58,
   "metadata": {},
   "outputs": [
    {
     "name": "stdout",
     "output_type": "stream",
     "text": [
      "Naive Bayes Final Result\n",
      "+-----+--------------------+--------------------+--------------------+----------+\n",
      "|label|            features|       rawPrediction|         probability|prediction|\n",
      "+-----+--------------------+--------------------+--------------------+----------+\n",
      "|  1.0|[1.0,181.0,181.0,...|[-946.16885025399...|[1.55823110227368...|       1.0|\n",
      "|  1.0|[1.0,181.0,181.0,...|[-28709.093998224...|           [1.0,0.0]|       0.0|\n",
      "|  1.0|[1.0,2806.0,2806....|[-13662.716316784...|           [0.0,1.0]|       1.0|\n",
      "|  1.0|[1.0,132842.64,44...|[-595690.56977629...|           [0.0,1.0]|       1.0|\n",
      "|  1.0|[2.0,963532.14,96...|[-6177945.8337010...|           [0.0,1.0]|       1.0|\n",
      "+-----+--------------------+--------------------+--------------------+----------+\n",
      "only showing top 5 rows\n",
      "\n"
     ]
    }
   ],
   "source": [
    "print(\"Naive Bayes Final Result\")\n",
    "result_nb.show(truncate = True, n = 5)"
   ]
  },
  {
   "cell_type": "markdown",
   "metadata": {},
   "source": [
    "## Logistic Regression"
   ]
  },
  {
   "cell_type": "code",
   "execution_count": 59,
   "metadata": {},
   "outputs": [],
   "source": [
    "start_time_lr =  time.time()\n",
    "# create the trainer and set its parameters\n",
    "\n",
    "trainer = LogisticRegression(maxIter=10, tol=1E-6, fitIntercept=True)\n",
    "\n",
    "# train the model and get the result\n",
    "model_lr = trainer.fit(train)\n",
    "result_lr = model_lr.transform(test)"
   ]
  },
  {
   "cell_type": "code",
   "execution_count": 60,
   "metadata": {},
   "outputs": [
    {
     "name": "stdout",
     "output_type": "stream",
     "text": [
      "Logistic Regression: accuracy = 82.1 %\n",
      "Logistic Regression: time = 1.959 s\n"
     ]
    }
   ],
   "source": [
    "# compute accuracy on the test set against model\n",
    "evaluator = MulticlassClassificationEvaluator(labelCol='label', predictionCol='prediction',\\\n",
    "            metricName='accuracy')\n",
    "\n",
    "accuracy_lr = evaluator.evaluate(result_lr) * 100\n",
    "time_lr = time.time() - start_time_lr\n",
    "\n",
    "print(\"Logistic Regression: accuracy = %3.1f %%\" % accuracy_lr)\n",
    "print(\"Logistic Regression: time = %3.3f s\" % time_lr)"
   ]
  },
  {
   "cell_type": "code",
   "execution_count": 61,
   "metadata": {},
   "outputs": [
    {
     "name": "stdout",
     "output_type": "stream",
     "text": [
      "Logistic Regression Final Result\n",
      "+-----+--------------------+--------------------+--------------------+----------+\n",
      "|label|            features|       rawPrediction|         probability|prediction|\n",
      "+-----+--------------------+--------------------+--------------------+----------+\n",
      "|  1.0|[1.0,181.0,181.0,...|[1.57485508045047...|[0.82847463729743...|       0.0|\n",
      "|  1.0|[1.0,181.0,181.0,...|[2.53193919329904...|[0.92635076434305...|       0.0|\n",
      "|  1.0|[1.0,2806.0,2806....|[1.56677918079545...|[0.82732397016704...|       0.0|\n",
      "|  1.0|[1.0,132842.64,44...|[2.23585413344599...|[0.90342333755226...|       0.0|\n",
      "|  1.0|[2.0,963532.14,96...|[-0.4313995175599...|[0.39379218926269...|       1.0|\n",
      "+-----+--------------------+--------------------+--------------------+----------+\n",
      "only showing top 5 rows\n",
      "\n"
     ]
    }
   ],
   "source": [
    "print(\"Logistic Regression Final Result\")\n",
    "result_lr.show(truncate = True, n = 5)"
   ]
  },
  {
   "cell_type": "markdown",
   "metadata": {},
   "source": [
    "## Run Suport Vector Machines (SVM)"
   ]
  },
  {
   "cell_type": "code",
   "execution_count": null,
   "metadata": {},
   "outputs": [],
   "source": [
    "start_time_svm =  time.time()\n",
    "\n",
    "# create the trainer and set its parameters\n",
    "trainer = LinearSVC(featuresCol='features', labelCol='label',\\\n",
    "                    maxIter=100, regParam=0.1)\n",
    "\n",
    "# LinearSVC classify ONLY in two classes\n",
    "# To classify in more than 2 classes, the OneVsrest should be used\n",
    "# Cloud use any kind of classifies\n",
    "\n",
    "# instantiate the One Vs Rest Classifier.\n",
    "ovr_trainer = OneVsRest(classifier=trainer)\n",
    "\n",
    "# train the multiclass model.\n",
    "model_svm = ovr_trainer.fit(train)\n",
    "\n",
    "# score the model on test data.\n",
    "result_svm = model_svm.transform(test)"
   ]
  },
  {
   "cell_type": "code",
   "execution_count": null,
   "metadata": {},
   "outputs": [],
   "source": [
    "# compute accuracy on the test set against model\n",
    "evaluator = MulticlassClassificationEvaluator(labelCol='label', predictionCol='prediction',\\\n",
    "            metricName='accuracy')\n",
    "\n",
    "accuracy_svm = evaluator.evaluate(result_svm) * 100\n",
    "time_svm = time.time() - start_time_svm\n",
    "\n",
    "print(\"Suport Vector Machines (SVM): accuracy = %3.1f %%\" % accuracy_svm)\n",
    "print(\"Suport Vector Machines (SVM): time = %3.3f s\" % time_svm)"
   ]
  },
  {
   "cell_type": "code",
   "execution_count": null,
   "metadata": {},
   "outputs": [],
   "source": [
    "print(\"Suport Vector Machines (SVM) Final Result\")\n",
    "result_svm.show(truncate = True, n = 5)"
   ]
  },
  {
   "cell_type": "markdown",
   "metadata": {},
   "source": [
    "## Sumary"
   ]
  },
  {
   "cell_type": "code",
   "execution_count": null,
   "metadata": {},
   "outputs": [],
   "source": [
    "print(\"==================================================================\")\n",
    "print(\"=============  Compare Algorithm Acurancy and Time ===============\")\n",
    "print()\n",
    "print(\"      Train sample = \",train_sample*100,\"%     Test sample = \",test_sample*100,\"%\")\n",
    "print()\n",
    "print(\"K-Nearest Neighbors (KNN):    accuracy = %3.1f %%   time = %3.3f s\" % (accuracy_knn, time_knn))\n",
    "print(\"Decision Tree:                accuracy = %3.1f %%   time = %3.3f s\" % (accuracy_dt, time_dt))\n",
    "print(\"Random Forest:                accuracy = %3.1f %%   time = %3.3f s\" % (accuracy_rf, time_rf))\n",
    "print(\"Multilayer Perceptron:        accuracy = %3.1f %%   time = %3.3f s\" % (accuracy_pr, time_pr))\n",
    "print(\"Naive Bayes:                  accuracy = %3.1f %%   time = %3.3f s\" % (accuracy_nb, time_nb))\n",
    "print(\"Logistic Regression:          accuracy = %3.1f %%   time = %3.3f s\" % (accuracy_lr, time_lr))\n",
    "print(\"Suport Vector Machines (SVM): accuracy = %3.1f %%   time = %3.3f s\" % (accuracy_svm, time_svm))\n",
    "print(\"===================================================================\")"
   ]
  },
  {
   "cell_type": "code",
   "execution_count": null,
   "metadata": {},
   "outputs": [],
   "source": [
    "print(\"--- Execution time: %s seconds ---\" % (time.time() - start_time))"
   ]
  },
  {
   "cell_type": "markdown",
   "metadata": {},
   "source": [
    "## Teste de classificação do melhor modelo"
   ]
  },
  {
   "cell_type": "code",
   "execution_count": null,
   "metadata": {},
   "outputs": [],
   "source": [
    "test.show(truncate = False, n =10)"
   ]
  },
  {
   "cell_type": "code",
   "execution_count": null,
   "metadata": {},
   "outputs": [],
   "source": [
    "#valores para teste\n",
    "step = 1.0\n",
    "amount = 2369.48\n",
    "oldbalanceOrg = 43963.1\n",
    "newbalanceOrig = 41593.62\n",
    "oldbalanceDest = 0.0\n",
    "newbalanceDest = 0.0\n",
    "typeIndex = 3.0"
   ]
  },
  {
   "cell_type": "code",
   "execution_count": null,
   "metadata": {},
   "outputs": [],
   "source": [
    "#verificando o modelo de maior acurácia\n",
    "best_model = max(accuracy_knn,accuracy_dt,accuracy_rf,accuracy_pr,accuracy_nb,accuracy_lr,accuracy_svm)\n",
    "best_model"
   ]
  },
  {
   "cell_type": "code",
   "execution_count": null,
   "metadata": {},
   "outputs": [],
   "source": [
    "#criando o dataframe Spark para execução do modelo\n",
    "ds_teste = spark.createDataFrame(\n",
    "    [(1.0, Vectors.dense([step,amount,oldbalanceOrg,newbalanceOrig,oldbalanceDest,newbalanceDest,typeIndex]))],\n",
    "    [\"label\", \"features\"])\n",
    "\n",
    "ds_teste.show(truncate = False, n = 10)\n",
    "ds_teste.printSchema()"
   ]
  },
  {
   "cell_type": "code",
   "execution_count": null,
   "metadata": {},
   "outputs": [],
   "source": [
    "#resultado da predição de fraude\n",
    "resultado = model_dt.transform(ds_teste)\n",
    "resultado.select(\"prediction\").show()"
   ]
  },
  {
   "cell_type": "code",
   "execution_count": null,
   "metadata": {},
   "outputs": [],
   "source": []
  }
 ],
 "metadata": {
  "kernelspec": {
   "display_name": "Python 3",
   "language": "python",
   "name": "python3"
  },
  "language_info": {
   "codemirror_mode": {
    "name": "ipython",
    "version": 3
   },
   "file_extension": ".py",
   "mimetype": "text/x-python",
   "name": "python",
   "nbconvert_exporter": "python",
   "pygments_lexer": "ipython3",
   "version": "3.6.9"
  }
 },
 "nbformat": 4,
 "nbformat_minor": 4
}
