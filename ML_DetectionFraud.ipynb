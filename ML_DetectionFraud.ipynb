{
 "cells": [
  {
   "cell_type": "markdown",
   "metadata": {},
   "source": [
    "UNIVERSIDADE ESTADUAL DO CEARÁ \\\n",
    "MESTRADO ACADÊMICO EM CIÊNCIA DA COMPUTAÇÃO \\\n",
    "MINERAÇÃO MASSIVA DE DADOS\n",
    "\n",
    "Daniel Gleison Moreira Lira \\\n",
    "daniel.gleison@aluno.uece.br\n",
    "\n",
    "---\n",
    "# Mecanismo de predição de fraudes financeiras utilizando aprendizado de máquina e processamento distribuído\n",
    "---\n",
    "\n",
    "\n",
    "## Dataset\n",
    "\n",
    "https://www.kaggle.com/ntnu-testimon/paysim1\n",
    "\n",
    "PS_20174392719_1491204439457_log.csv\\\n",
    "Date created: 2017-03-31\n",
    "\n",
    "### Predicted attribute:\n",
    "Class of fraud detection\n",
    "\n",
    "### Number of Instances:\n",
    "6.353.307\n",
    "\n",
    "### Number of Attributes:\n",
    "11 attributes (5 Decimal, 3 Integer, 3 String)\n",
    "\n",
    "### Attribute Information:\n",
    "\n",
    "This is a sample of 1 row with headers explanation:\n",
    "\n",
    "1,PAYMENT,1060.31,C429214117,1089.0,28.69,M1591654462,0.0,0.0,0,0\n",
    "\n",
    "step - maps a unit of time in the real world. In this case 1 step is 1 hour of time. Total steps 744 (30 days simulation).\n",
    "\n",
    "type - CASH-IN, CASH-OUT, DEBIT, PAYMENT and TRANSFER.\n",
    "\n",
    "amount - amount of the transaction in local currency.\n",
    "\n",
    "nameOrig - customer who started the transaction\n",
    "\n",
    "oldbalanceOrg - initial balance before the transaction\n",
    "\n",
    "newbalanceOrig - new balance after the transaction\n",
    "\n",
    "nameDest - customer who is the recipient of the transaction\n",
    "\n",
    "oldbalanceDest - initial balance recipient before the transaction. Note that there is not information for customers that start with M (Merchants).\n",
    "\n",
    "newbalanceDest - new balance recipient after the transaction. Note that there is not information for customers that start with M (Merchants).\n",
    "\n",
    "isFraud - This is the transactions made by the fraudulent agents inside the simulation. In this specific dataset the fraudulent behavior of the agents aims to profit by taking control or customers accounts and try to empty the funds by transferring to another account and then cashing out of the system.\n",
    "\n",
    "isFlaggedFraud - The business model aims to control massive transfers from one account to another and flags illegal attempts. An illegal attempt in this dataset is an attempt to transfer more than 200.000 in a single transaction.\n",
    "\n",
    "### Missing Attribute Values: \n",
    "None\n",
    "\n",
    "### Class Distribution: \n",
    "2 Classes \\\n",
    "6.354.407 without fraud and 8.213 with fraud\n",
    "\n",
    "---"
   ]
  },
  {
   "cell_type": "code",
   "execution_count": 1,
   "metadata": {},
   "outputs": [],
   "source": [
    "# Spark Lib\n",
    "import findspark\n",
    "findspark.init()"
   ]
  },
  {
   "cell_type": "code",
   "execution_count": 2,
   "metadata": {},
   "outputs": [],
   "source": [
    "# Load libraries\n",
    "import pyspark\n",
    "from pyspark.sql import SparkSession\n",
    "from pyspark.sql.functions import isnull, when, count, col\n",
    "\n",
    "from pyspark.ml import Pipeline\n",
    "from pyspark.ml.classification import DecisionTreeClassifier\n",
    "from pyspark.ml.feature import StringIndexer, VectorIndexer\n",
    "from pyspark.ml.evaluation import MulticlassClassificationEvaluator\n",
    "from pyspark.mllib.util import MLUtils\n",
    "\n",
    "from pyspark.ml.feature import StringIndexer, IndexToString\n",
    "from pyspark.ml.feature import VectorAssembler, VectorIndexer\n",
    "\n",
    "from pyspark.ml.classification import DecisionTreeClassifier\n",
    "from pyspark.ml.classification import RandomForestClassifier\n",
    "from pyspark.ml.classification import MultilayerPerceptronClassifier\n",
    "from pyspark.ml.classification import NaiveBayes\n",
    "from pyspark.ml.classification import LogisticRegression\n",
    "from pyspark.ml.classification import LinearSVC, OneVsRest\n",
    "\n",
    "from pyspark.ml.evaluation import MulticlassClassificationEvaluator, BinaryClassificationEvaluator\n",
    "\n",
    "from pyspark.ml.linalg import Vectors\n",
    "from pyspark.mllib.util import MLUtils\n",
    "\n",
    "## SKLearn Lib\n",
    "import numpy as np\n",
    "import pandas as pd\n",
    "import matplotlib.pyplot as plt\n",
    "import seaborn as sns\n",
    "from sklearn.preprocessing import LabelEncoder\n",
    "from sklearn.model_selection import train_test_split\n",
    "from sklearn.neighbors import KNeighborsClassifier\n",
    "from sklearn.metrics import confusion_matrix, plot_confusion_matrix, accuracy_score\n",
    "from sklearn.model_selection import cross_val_score\n",
    "from joblib import dump, load\n",
    "import pickle\n",
    "\n",
    "\n",
    "import time\n",
    "start_time = time.time()\n",
    "%matplotlib inline"
   ]
  },
  {
   "cell_type": "markdown",
   "metadata": {},
   "source": [
    "## Criação do ambiente Spark"
   ]
  },
  {
   "cell_type": "code",
   "execution_count": 3,
   "metadata": {},
   "outputs": [
    {
     "data": {
      "text/html": [
       "\n",
       "            <div>\n",
       "                <p><b>SparkSession - in-memory</b></p>\n",
       "                \n",
       "        <div>\n",
       "            <p><b>SparkContext</b></p>\n",
       "\n",
       "            <p><a href=\"http://10.129.64.20:4040\">Spark UI</a></p>\n",
       "\n",
       "            <dl>\n",
       "              <dt>Version</dt>\n",
       "                <dd><code>v2.4.5</code></dd>\n",
       "              <dt>Master</dt>\n",
       "                <dd><code>local[*]</code></dd>\n",
       "              <dt>AppName</dt>\n",
       "                <dd><code>MachineLearningFraud</code></dd>\n",
       "            </dl>\n",
       "        </div>\n",
       "        \n",
       "            </div>\n",
       "        "
      ],
      "text/plain": [
       "<pyspark.sql.session.SparkSession at 0x7f7ddbcc5b00>"
      ]
     },
     "execution_count": 3,
     "metadata": {},
     "output_type": "execute_result"
    }
   ],
   "source": [
    "spark = SparkSession.builder \\\n",
    "        .master(\"local[*]\") \\\n",
    "        .appName(\"MachineLearningFraud\") \\\n",
    "        .getOrCreate()\n",
    "spark"
   ]
  },
  {
   "cell_type": "markdown",
   "metadata": {},
   "source": [
    "## Importação e compreensão dos dados"
   ]
  },
  {
   "cell_type": "code",
   "execution_count": 4,
   "metadata": {},
   "outputs": [
    {
     "name": "stdout",
     "output_type": "stream",
     "text": [
      "+----+--------+---------+-----------+-------------+--------------+-----------+--------------+--------------+-------+--------------+\n",
      "|step|    type|   amount|   nameOrig|oldbalanceOrg|newbalanceOrig|   nameDest|oldbalanceDest|newbalanceDest|isFraud|isFlaggedFraud|\n",
      "+----+--------+---------+-----------+-------------+--------------+-----------+--------------+--------------+-------+--------------+\n",
      "|   1| PAYMENT|  9839.64|C1231006815|     170136.0|     160296.36|M1979787155|           0.0|           0.0|      0|             0|\n",
      "|   1| PAYMENT|  1864.28|C1666544295|      21249.0|      19384.72|M2044282225|           0.0|           0.0|      0|             0|\n",
      "|   1|TRANSFER|    181.0|C1305486145|        181.0|           0.0| C553264065|           0.0|           0.0|      1|             0|\n",
      "|   1|CASH_OUT|    181.0| C840083671|        181.0|           0.0|  C38997010|       21182.0|           0.0|      1|             0|\n",
      "|   1| PAYMENT| 11668.14|C2048537720|      41554.0|      29885.86|M1230701703|           0.0|           0.0|      0|             0|\n",
      "|   1| PAYMENT|  7817.71|  C90045638|      53860.0|      46042.29| M573487274|           0.0|           0.0|      0|             0|\n",
      "|   1| PAYMENT|  7107.77| C154988899|     183195.0|     176087.23| M408069119|           0.0|           0.0|      0|             0|\n",
      "|   1| PAYMENT|  7861.64|C1912850431|    176087.23|     168225.59| M633326333|           0.0|           0.0|      0|             0|\n",
      "|   1| PAYMENT|  4024.36|C1265012928|       2671.0|           0.0|M1176932104|           0.0|           0.0|      0|             0|\n",
      "|   1|   DEBIT|  5337.77| C712410124|      41720.0|      36382.23| C195600860|       41898.0|      40348.79|      0|             0|\n",
      "|   1|   DEBIT|  9644.94|C1900366749|       4465.0|           0.0| C997608398|       10845.0|     157982.12|      0|             0|\n",
      "|   1| PAYMENT|  3099.97| C249177573|      20771.0|      17671.03|M2096539129|           0.0|           0.0|      0|             0|\n",
      "|   1| PAYMENT|  2560.74|C1648232591|       5070.0|       2509.26| M972865270|           0.0|           0.0|      0|             0|\n",
      "|   1| PAYMENT| 11633.76|C1716932897|      10127.0|           0.0| M801569151|           0.0|           0.0|      0|             0|\n",
      "|   1| PAYMENT|  4098.78|C1026483832|     503264.0|     499165.22|M1635378213|           0.0|           0.0|      0|             0|\n",
      "|   1|CASH_OUT|229133.94| C905080434|      15325.0|           0.0| C476402209|        5083.0|      51513.44|      0|             0|\n",
      "|   1| PAYMENT|  1563.82| C761750706|        450.0|           0.0|M1731217984|           0.0|           0.0|      0|             0|\n",
      "|   1| PAYMENT|  1157.86|C1237762639|      21156.0|      19998.14|M1877062907|           0.0|           0.0|      0|             0|\n",
      "|   1| PAYMENT|   671.64|C2033524545|      15123.0|      14451.36| M473053293|           0.0|           0.0|      0|             0|\n",
      "|   1|TRANSFER| 215310.3|C1670993182|        705.0|           0.0|C1100439041|       22425.0|           0.0|      0|             0|\n",
      "+----+--------+---------+-----------+-------------+--------------+-----------+--------------+--------------+-------+--------------+\n",
      "only showing top 20 rows\n",
      "\n"
     ]
    }
   ],
   "source": [
    "data_path='./data/'\n",
    "df_original = spark.read.format('csv')\\\n",
    "                   .options(sep=',',header='true',inferschema='true').\\\n",
    "                   load(data_path+'PS_20174392719_1491204439457_log.csv')\n",
    "df_original.show()"
   ]
  },
  {
   "cell_type": "markdown",
   "metadata": {},
   "source": [
    "## Balanceamento do dataset"
   ]
  },
  {
   "cell_type": "code",
   "execution_count": 5,
   "metadata": {},
   "outputs": [
    {
     "name": "stdout",
     "output_type": "stream",
     "text": [
      "+-------+-------+\n",
      "|isFraud|  count|\n",
      "+-------+-------+\n",
      "|      0|6354407|\n",
      "+-------+-------+\n",
      "\n",
      "+-------+-----+\n",
      "|isFraud|count|\n",
      "+-------+-----+\n",
      "|      1| 8213|\n",
      "+-------+-----+\n",
      "\n"
     ]
    }
   ],
   "source": [
    "df0 = df_original[df_original.isFraud==0]\n",
    "df1 = df_original[df_original.isFraud==1]\n",
    "df0.groupby('isFraud').count().show()\n",
    "df1.groupby('isFraud').count().show()"
   ]
  },
  {
   "cell_type": "code",
   "execution_count": 6,
   "metadata": {},
   "outputs": [
    {
     "name": "stdout",
     "output_type": "stream",
     "text": [
      "+-------+-----+\n",
      "|isFraud|count|\n",
      "+-------+-----+\n",
      "|      0| 8213|\n",
      "+-------+-----+\n",
      "\n"
     ]
    }
   ],
   "source": [
    "guessedFraction = 1.0\n",
    "noOfSamples = df1.count()\n",
    "df0 = df0.sample(True, guessedFraction).limit(noOfSamples)\n",
    "df0.groupby('isFraud').count().show()"
   ]
  },
  {
   "cell_type": "code",
   "execution_count": 7,
   "metadata": {},
   "outputs": [
    {
     "data": {
      "text/plain": [
       "16426"
      ]
     },
     "execution_count": 7,
     "metadata": {},
     "output_type": "execute_result"
    }
   ],
   "source": [
    "df_balanceado = df0.union(df1)\n",
    "df_balanceado.count()"
   ]
  },
  {
   "cell_type": "markdown",
   "metadata": {},
   "source": [
    "## Análise exploratória dos dados"
   ]
  },
  {
   "cell_type": "code",
   "execution_count": 8,
   "metadata": {},
   "outputs": [],
   "source": [
    "df_original = df_balanceado"
   ]
  },
  {
   "cell_type": "code",
   "execution_count": 9,
   "metadata": {},
   "outputs": [
    {
     "name": "stdout",
     "output_type": "stream",
     "text": [
      "root\n",
      " |-- step: integer (nullable = true)\n",
      " |-- type: string (nullable = true)\n",
      " |-- amount: double (nullable = true)\n",
      " |-- nameOrig: string (nullable = true)\n",
      " |-- oldbalanceOrg: double (nullable = true)\n",
      " |-- newbalanceOrig: double (nullable = true)\n",
      " |-- nameDest: string (nullable = true)\n",
      " |-- oldbalanceDest: double (nullable = true)\n",
      " |-- newbalanceDest: double (nullable = true)\n",
      " |-- isFraud: integer (nullable = true)\n",
      " |-- isFlaggedFraud: integer (nullable = true)\n",
      "\n"
     ]
    }
   ],
   "source": [
    "df_original.printSchema()"
   ]
  },
  {
   "cell_type": "code",
   "execution_count": 10,
   "metadata": {},
   "outputs": [
    {
     "data": {
      "text/plain": [
       "16426"
      ]
     },
     "execution_count": 10,
     "metadata": {},
     "output_type": "execute_result"
    }
   ],
   "source": [
    "df_original.count()"
   ]
  },
  {
   "cell_type": "code",
   "execution_count": 11,
   "metadata": {},
   "outputs": [
    {
     "name": "stdout",
     "output_type": "stream",
     "text": [
      "+-------+-----+\n",
      "|IsFraud|count|\n",
      "+-------+-----+\n",
      "|      1| 8213|\n",
      "|      0| 8213|\n",
      "+-------+-----+\n",
      "\n"
     ]
    }
   ],
   "source": [
    "df_original.groupBy('IsFraud').count().show()"
   ]
  },
  {
   "cell_type": "code",
   "execution_count": 12,
   "metadata": {},
   "outputs": [
    {
     "name": "stdout",
     "output_type": "stream",
     "text": [
      "+--------------+-----+\n",
      "|isFlaggedFraud|count|\n",
      "+--------------+-----+\n",
      "|             1|   16|\n",
      "|             0|16410|\n",
      "+--------------+-----+\n",
      "\n"
     ]
    }
   ],
   "source": [
    "df_original.groupBy('isFlaggedFraud').count().show()"
   ]
  },
  {
   "cell_type": "markdown",
   "metadata": {},
   "source": [
    "### Estatística descritiva"
   ]
  },
  {
   "cell_type": "code",
   "execution_count": 13,
   "metadata": {},
   "outputs": [
    {
     "data": {
      "text/html": [
       "<div>\n",
       "<style scoped>\n",
       "    .dataframe tbody tr th:only-of-type {\n",
       "        vertical-align: middle;\n",
       "    }\n",
       "\n",
       "    .dataframe tbody tr th {\n",
       "        vertical-align: top;\n",
       "    }\n",
       "\n",
       "    .dataframe thead th {\n",
       "        text-align: right;\n",
       "    }\n",
       "</style>\n",
       "<table border=\"1\" class=\"dataframe\">\n",
       "  <thead>\n",
       "    <tr style=\"text-align: right;\">\n",
       "      <th></th>\n",
       "      <th>0</th>\n",
       "      <th>1</th>\n",
       "      <th>2</th>\n",
       "      <th>3</th>\n",
       "      <th>4</th>\n",
       "    </tr>\n",
       "  </thead>\n",
       "  <tbody>\n",
       "    <tr>\n",
       "      <th>summary</th>\n",
       "      <td>count</td>\n",
       "      <td>mean</td>\n",
       "      <td>stddev</td>\n",
       "      <td>min</td>\n",
       "      <td>max</td>\n",
       "    </tr>\n",
       "    <tr>\n",
       "      <th>step</th>\n",
       "      <td>16426</td>\n",
       "      <td>186.0233166930476</td>\n",
       "      <td>238.0792153027866</td>\n",
       "      <td>1</td>\n",
       "      <td>743</td>\n",
       "    </tr>\n",
       "    <tr>\n",
       "      <th>type</th>\n",
       "      <td>16426</td>\n",
       "      <td>None</td>\n",
       "      <td>None</td>\n",
       "      <td>CASH_IN</td>\n",
       "      <td>TRANSFER</td>\n",
       "    </tr>\n",
       "    <tr>\n",
       "      <th>amount</th>\n",
       "      <td>16426</td>\n",
       "      <td>784727.7085468163</td>\n",
       "      <td>1839630.8982522383</td>\n",
       "      <td>0.0</td>\n",
       "      <td>1.0E7</td>\n",
       "    </tr>\n",
       "    <tr>\n",
       "      <th>nameOrig</th>\n",
       "      <td>16426</td>\n",
       "      <td>None</td>\n",
       "      <td>None</td>\n",
       "      <td>C1000036340</td>\n",
       "      <td>C999864329</td>\n",
       "    </tr>\n",
       "    <tr>\n",
       "      <th>oldbalanceOrg</th>\n",
       "      <td>16426</td>\n",
       "      <td>1284608.1605466937</td>\n",
       "      <td>2969170.076606432</td>\n",
       "      <td>0.0</td>\n",
       "      <td>5.958504037E7</td>\n",
       "    </tr>\n",
       "    <tr>\n",
       "      <th>newbalanceOrig</th>\n",
       "      <td>16426</td>\n",
       "      <td>569293.4797577027</td>\n",
       "      <td>2140225.0867706854</td>\n",
       "      <td>0.0</td>\n",
       "      <td>4.958504037E7</td>\n",
       "    </tr>\n",
       "    <tr>\n",
       "      <th>nameDest</th>\n",
       "      <td>16426</td>\n",
       "      <td>None</td>\n",
       "      <td>None</td>\n",
       "      <td>C1000039615</td>\n",
       "      <td>M999221400</td>\n",
       "    </tr>\n",
       "    <tr>\n",
       "      <th>oldbalanceDest</th>\n",
       "      <td>16426</td>\n",
       "      <td>778124.3870461485</td>\n",
       "      <td>3081242.623673352</td>\n",
       "      <td>0.0</td>\n",
       "      <td>2.3623051682E8</td>\n",
       "    </tr>\n",
       "    <tr>\n",
       "      <th>newbalanceDest</th>\n",
       "      <td>16426</td>\n",
       "      <td>1237570.697896019</td>\n",
       "      <td>3566922.0427193088</td>\n",
       "      <td>0.0</td>\n",
       "      <td>2.3672649466E8</td>\n",
       "    </tr>\n",
       "    <tr>\n",
       "      <th>isFraud</th>\n",
       "      <td>16426</td>\n",
       "      <td>0.5</td>\n",
       "      <td>0.5000152204684895</td>\n",
       "      <td>0</td>\n",
       "      <td>1</td>\n",
       "    </tr>\n",
       "    <tr>\n",
       "      <th>isFlaggedFraud</th>\n",
       "      <td>16426</td>\n",
       "      <td>9.740655059052721E-4</td>\n",
       "      <td>0.031195768116294764</td>\n",
       "      <td>0</td>\n",
       "      <td>1</td>\n",
       "    </tr>\n",
       "  </tbody>\n",
       "</table>\n",
       "</div>"
      ],
      "text/plain": [
       "                    0                     1                     2  \\\n",
       "summary         count                  mean                stddev   \n",
       "step            16426     186.0233166930476     238.0792153027866   \n",
       "type            16426                  None                  None   \n",
       "amount          16426     784727.7085468163    1839630.8982522383   \n",
       "nameOrig        16426                  None                  None   \n",
       "oldbalanceOrg   16426    1284608.1605466937     2969170.076606432   \n",
       "newbalanceOrig  16426     569293.4797577027    2140225.0867706854   \n",
       "nameDest        16426                  None                  None   \n",
       "oldbalanceDest  16426     778124.3870461485     3081242.623673352   \n",
       "newbalanceDest  16426     1237570.697896019    3566922.0427193088   \n",
       "isFraud         16426                   0.5    0.5000152204684895   \n",
       "isFlaggedFraud  16426  9.740655059052721E-4  0.031195768116294764   \n",
       "\n",
       "                          3               4  \n",
       "summary                 min             max  \n",
       "step                      1             743  \n",
       "type                CASH_IN        TRANSFER  \n",
       "amount                  0.0           1.0E7  \n",
       "nameOrig        C1000036340      C999864329  \n",
       "oldbalanceOrg           0.0   5.958504037E7  \n",
       "newbalanceOrig          0.0   4.958504037E7  \n",
       "nameDest        C1000039615      M999221400  \n",
       "oldbalanceDest          0.0  2.3623051682E8  \n",
       "newbalanceDest          0.0  2.3672649466E8  \n",
       "isFraud                   0               1  \n",
       "isFlaggedFraud            0               1  "
      ]
     },
     "execution_count": 13,
     "metadata": {},
     "output_type": "execute_result"
    }
   ],
   "source": [
    "df_original.describe().toPandas().transpose()"
   ]
  },
  {
   "cell_type": "markdown",
   "metadata": {},
   "source": [
    "### Identificação de valores ausentes"
   ]
  },
  {
   "cell_type": "code",
   "execution_count": 14,
   "metadata": {},
   "outputs": [
    {
     "name": "stdout",
     "output_type": "stream",
     "text": [
      "+----+----+------+--------+-------------+--------------+--------+--------------+--------------+-------+--------------+\n",
      "|step|type|amount|nameOrig|oldbalanceOrg|newbalanceOrig|nameDest|oldbalanceDest|newbalanceDest|isFraud|isFlaggedFraud|\n",
      "+----+----+------+--------+-------------+--------------+--------+--------------+--------------+-------+--------------+\n",
      "|   0|   0|     0|       0|            0|             0|       0|             0|             0|      0|             0|\n",
      "+----+----+------+--------+-------------+--------------+--------+--------------+--------------+-------+--------------+\n",
      "\n"
     ]
    }
   ],
   "source": [
    "df_original.select([count(when(isnull(c), c)).alias(c) for c in df_original.columns]).show()"
   ]
  },
  {
   "cell_type": "markdown",
   "metadata": {},
   "source": [
    "### Matrix de correlação"
   ]
  },
  {
   "cell_type": "code",
   "execution_count": 15,
   "metadata": {},
   "outputs": [
    {
     "data": {
      "text/html": [
       "<div>\n",
       "<style scoped>\n",
       "    .dataframe tbody tr th:only-of-type {\n",
       "        vertical-align: middle;\n",
       "    }\n",
       "\n",
       "    .dataframe tbody tr th {\n",
       "        vertical-align: top;\n",
       "    }\n",
       "\n",
       "    .dataframe thead th {\n",
       "        text-align: right;\n",
       "    }\n",
       "</style>\n",
       "<table border=\"1\" class=\"dataframe\">\n",
       "  <thead>\n",
       "    <tr style=\"text-align: right;\">\n",
       "      <th></th>\n",
       "      <th>step</th>\n",
       "      <th>amount</th>\n",
       "      <th>oldbalanceOrg</th>\n",
       "      <th>newbalanceOrig</th>\n",
       "      <th>oldbalanceDest</th>\n",
       "      <th>newbalanceDest</th>\n",
       "      <th>isFraud</th>\n",
       "      <th>isFlaggedFraud</th>\n",
       "    </tr>\n",
       "  </thead>\n",
       "  <tbody>\n",
       "    <tr>\n",
       "      <th>step</th>\n",
       "      <td>1.000000</td>\n",
       "      <td>0.313246</td>\n",
       "      <td>0.128546</td>\n",
       "      <td>-0.110535</td>\n",
       "      <td>-0.048694</td>\n",
       "      <td>0.023170</td>\n",
       "      <td>0.766115</td>\n",
       "      <td>0.046107</td>\n",
       "    </tr>\n",
       "    <tr>\n",
       "      <th>amount</th>\n",
       "      <td>0.313246</td>\n",
       "      <td>1.000000</td>\n",
       "      <td>0.721365</td>\n",
       "      <td>0.145564</td>\n",
       "      <td>-0.007684</td>\n",
       "      <td>0.247215</td>\n",
       "      <td>0.371412</td>\n",
       "      <td>0.069201</td>\n",
       "    </tr>\n",
       "    <tr>\n",
       "      <th>oldbalanceOrg</th>\n",
       "      <td>0.128546</td>\n",
       "      <td>0.721365</td>\n",
       "      <td>1.000000</td>\n",
       "      <td>0.784466</td>\n",
       "      <td>0.057673</td>\n",
       "      <td>0.187867</td>\n",
       "      <td>0.122954</td>\n",
       "      <td>0.068709</td>\n",
       "    </tr>\n",
       "    <tr>\n",
       "      <th>newbalanceOrig</th>\n",
       "      <td>-0.110535</td>\n",
       "      <td>0.145564</td>\n",
       "      <td>0.784466</td>\n",
       "      <td>1.000000</td>\n",
       "      <td>0.115900</td>\n",
       "      <td>0.075829</td>\n",
       "      <td>-0.176109</td>\n",
       "      <td>0.105758</td>\n",
       "    </tr>\n",
       "    <tr>\n",
       "      <th>oldbalanceDest</th>\n",
       "      <td>-0.048694</td>\n",
       "      <td>-0.007684</td>\n",
       "      <td>0.057673</td>\n",
       "      <td>0.115900</td>\n",
       "      <td>1.000000</td>\n",
       "      <td>0.898623</td>\n",
       "      <td>-0.075905</td>\n",
       "      <td>-0.007886</td>\n",
       "    </tr>\n",
       "    <tr>\n",
       "      <th>newbalanceDest</th>\n",
       "      <td>0.023170</td>\n",
       "      <td>0.247215</td>\n",
       "      <td>0.187867</td>\n",
       "      <td>0.075829</td>\n",
       "      <td>0.898623</td>\n",
       "      <td>1.000000</td>\n",
       "      <td>0.011814</td>\n",
       "      <td>-0.010834</td>\n",
       "    </tr>\n",
       "    <tr>\n",
       "      <th>isFraud</th>\n",
       "      <td>0.766115</td>\n",
       "      <td>0.371412</td>\n",
       "      <td>0.122954</td>\n",
       "      <td>-0.176109</td>\n",
       "      <td>-0.075905</td>\n",
       "      <td>0.011814</td>\n",
       "      <td>1.000000</td>\n",
       "      <td>0.031225</td>\n",
       "    </tr>\n",
       "    <tr>\n",
       "      <th>isFlaggedFraud</th>\n",
       "      <td>0.046107</td>\n",
       "      <td>0.069201</td>\n",
       "      <td>0.068709</td>\n",
       "      <td>0.105758</td>\n",
       "      <td>-0.007886</td>\n",
       "      <td>-0.010834</td>\n",
       "      <td>0.031225</td>\n",
       "      <td>1.000000</td>\n",
       "    </tr>\n",
       "  </tbody>\n",
       "</table>\n",
       "</div>"
      ],
      "text/plain": [
       "                    step    amount  oldbalanceOrg  newbalanceOrig  \\\n",
       "step            1.000000  0.313246       0.128546       -0.110535   \n",
       "amount          0.313246  1.000000       0.721365        0.145564   \n",
       "oldbalanceOrg   0.128546  0.721365       1.000000        0.784466   \n",
       "newbalanceOrig -0.110535  0.145564       0.784466        1.000000   \n",
       "oldbalanceDest -0.048694 -0.007684       0.057673        0.115900   \n",
       "newbalanceDest  0.023170  0.247215       0.187867        0.075829   \n",
       "isFraud         0.766115  0.371412       0.122954       -0.176109   \n",
       "isFlaggedFraud  0.046107  0.069201       0.068709        0.105758   \n",
       "\n",
       "                oldbalanceDest  newbalanceDest   isFraud  isFlaggedFraud  \n",
       "step                 -0.048694        0.023170  0.766115        0.046107  \n",
       "amount               -0.007684        0.247215  0.371412        0.069201  \n",
       "oldbalanceOrg         0.057673        0.187867  0.122954        0.068709  \n",
       "newbalanceOrig        0.115900        0.075829 -0.176109        0.105758  \n",
       "oldbalanceDest        1.000000        0.898623 -0.075905       -0.007886  \n",
       "newbalanceDest        0.898623        1.000000  0.011814       -0.010834  \n",
       "isFraud              -0.075905        0.011814  1.000000        0.031225  \n",
       "isFlaggedFraud       -0.007886       -0.010834  0.031225        1.000000  "
      ]
     },
     "execution_count": 15,
     "metadata": {},
     "output_type": "execute_result"
    }
   ],
   "source": [
    "df_original.toPandas().corr()"
   ]
  },
  {
   "cell_type": "markdown",
   "metadata": {},
   "source": [
    "## Transformação do dataset"
   ]
  },
  {
   "cell_type": "markdown",
   "metadata": {},
   "source": [
    "### Indexação dos atributos"
   ]
  },
  {
   "cell_type": "code",
   "execution_count": 16,
   "metadata": {},
   "outputs": [
    {
     "name": "stdout",
     "output_type": "stream",
     "text": [
      "+----+-------+--------+-----------+-------------+--------------+-----------+--------------+--------------+-------+--------------+---------+-----+\n",
      "|step|   type|  amount|   nameOrig|oldbalanceOrg|newbalanceOrig|   nameDest|oldbalanceDest|newbalanceDest|isFraud|isFlaggedFraud|indexType|label|\n",
      "+----+-------+--------+-----------+-------------+--------------+-----------+--------------+--------------+-------+--------------+---------+-----+\n",
      "|   1|PAYMENT| 1864.28|C1666544295|      21249.0|      19384.72|M2044282225|           0.0|           0.0|      0|             0|      2.0|  0.0|\n",
      "|   1|PAYMENT|11668.14|C2048537720|      41554.0|      29885.86|M1230701703|           0.0|           0.0|      0|             0|      2.0|  0.0|\n",
      "|   1|PAYMENT|11668.14|C2048537720|      41554.0|      29885.86|M1230701703|           0.0|           0.0|      0|             0|      2.0|  0.0|\n",
      "|   1|PAYMENT| 7107.77| C154988899|     183195.0|     176087.23| M408069119|           0.0|           0.0|      0|             0|      2.0|  0.0|\n",
      "|   1|PAYMENT| 7107.77| C154988899|     183195.0|     176087.23| M408069119|           0.0|           0.0|      0|             0|      2.0|  0.0|\n",
      "+----+-------+--------+-----------+-------------+--------------+-----------+--------------+--------------+-------+--------------+---------+-----+\n",
      "only showing top 5 rows\n",
      "\n"
     ]
    }
   ],
   "source": [
    "indexer = StringIndexer(inputCol='type', outputCol='indexType').fit(df_original)\n",
    "df_indexado = indexer.transform(df_original)\n",
    "\n",
    "indexer = StringIndexer(inputCol='isFraud', outputCol='label').fit(df_original)\n",
    "df_indexado = indexer.transform(df_indexado)\n",
    "\n",
    "labelReverse = IndexToString().setInputCol('label')\n",
    "indexTypeReverse = IndexToString().setInputCol('indexType')\n",
    "\n",
    "df_indexado.show(5)"
   ]
  },
  {
   "cell_type": "markdown",
   "metadata": {},
   "source": [
    "### Exclusão de atributos"
   ]
  },
  {
   "cell_type": "code",
   "execution_count": 17,
   "metadata": {},
   "outputs": [
    {
     "name": "stdout",
     "output_type": "stream",
     "text": [
      "+----+--------+-------------+--------------+--------------+--------------+---------+-----+\n",
      "|step|  amount|oldbalanceOrg|newbalanceOrig|oldbalanceDest|newbalanceDest|indexType|label|\n",
      "+----+--------+-------------+--------------+--------------+--------------+---------+-----+\n",
      "|   1| 1864.28|      21249.0|      19384.72|           0.0|           0.0|      2.0|  0.0|\n",
      "|   1|11668.14|      41554.0|      29885.86|           0.0|           0.0|      2.0|  0.0|\n",
      "|   1|11668.14|      41554.0|      29885.86|           0.0|           0.0|      2.0|  0.0|\n",
      "|   1| 7107.77|     183195.0|     176087.23|           0.0|           0.0|      2.0|  0.0|\n",
      "|   1| 7107.77|     183195.0|     176087.23|           0.0|           0.0|      2.0|  0.0|\n",
      "+----+--------+-------------+--------------+--------------+--------------+---------+-----+\n",
      "only showing top 5 rows\n",
      "\n"
     ]
    }
   ],
   "source": [
    "df_selecionado = df_indexado.drop('type','nameOrig','nameDest','isFraud','isFlaggedFraud')\n",
    "df_selecionado.show(5)"
   ]
  },
  {
   "cell_type": "markdown",
   "metadata": {},
   "source": [
    "## Seleção dos atributos"
   ]
  },
  {
   "cell_type": "code",
   "execution_count": 18,
   "metadata": {},
   "outputs": [
    {
     "name": "stdout",
     "output_type": "stream",
     "text": [
      "+----+--------+-------------+--------------+--------------+--------------+---------+-----+\n",
      "|step|  amount|oldbalanceOrg|newbalanceOrig|oldbalanceDest|newbalanceDest|indexType|label|\n",
      "+----+--------+-------------+--------------+--------------+--------------+---------+-----+\n",
      "|   1| 1864.28|      21249.0|      19384.72|           0.0|           0.0|      2.0|  0.0|\n",
      "|   1|11668.14|      41554.0|      29885.86|           0.0|           0.0|      2.0|  0.0|\n",
      "|   1|11668.14|      41554.0|      29885.86|           0.0|           0.0|      2.0|  0.0|\n",
      "|   1| 7107.77|     183195.0|     176087.23|           0.0|           0.0|      2.0|  0.0|\n",
      "|   1| 7107.77|     183195.0|     176087.23|           0.0|           0.0|      2.0|  0.0|\n",
      "+----+--------+-------------+--------------+--------------+--------------+---------+-----+\n",
      "only showing top 5 rows\n",
      "\n"
     ]
    }
   ],
   "source": [
    "df_selecionado.show(5)"
   ]
  },
  {
   "cell_type": "markdown",
   "metadata": {},
   "source": [
    "## Criação da matrix de classificação"
   ]
  },
  {
   "cell_type": "code",
   "execution_count": 19,
   "metadata": {},
   "outputs": [
    {
     "name": "stdout",
     "output_type": "stream",
     "text": [
      "+-----+--------------------------------------------+\n",
      "|label|features                                    |\n",
      "+-----+--------------------------------------------+\n",
      "|0.0  |[1.0,1864.28,21249.0,19384.72,0.0,0.0,2.0]  |\n",
      "|0.0  |[1.0,11668.14,41554.0,29885.86,0.0,0.0,2.0] |\n",
      "|0.0  |[1.0,11668.14,41554.0,29885.86,0.0,0.0,2.0] |\n",
      "|0.0  |[1.0,7107.77,183195.0,176087.23,0.0,0.0,2.0]|\n",
      "|0.0  |[1.0,7107.77,183195.0,176087.23,0.0,0.0,2.0]|\n",
      "+-----+--------------------------------------------+\n",
      "only showing top 5 rows\n",
      "\n"
     ]
    },
    {
     "data": {
      "text/plain": [
       "16426"
      ]
     },
     "execution_count": 19,
     "metadata": {},
     "output_type": "execute_result"
    }
   ],
   "source": [
    "ignore = ['label']\n",
    "list = [x for x in df_selecionado.columns if x not in ignore]\n",
    "\n",
    "assembler = VectorAssembler(\n",
    "            inputCols= list,\n",
    "            outputCol='features')\n",
    "\n",
    "df_transformado = (assembler.transform(df_selecionado).select('label','features'))\n",
    "df_transformado.show(truncate = False, n = 5)\n",
    "df_transformado.count()"
   ]
  },
  {
   "cell_type": "markdown",
   "metadata": {},
   "source": [
    "## Divisão do dataset para treinamento e teste"
   ]
  },
  {
   "cell_type": "code",
   "execution_count": 20,
   "metadata": {},
   "outputs": [
    {
     "name": "stdout",
     "output_type": "stream",
     "text": [
      "Percentual da base de treinamento 70.0 %\n",
      "Percentual da base de teste 30.0 %\n",
      "Quantidade de registros da base de treinamento: 11559\n",
      "Quantidade de registros da base de treinamento: 4867\n"
     ]
    }
   ],
   "source": [
    "train_sample = 0.7\n",
    "test_sample = 0.3\n",
    "seed = 1234\n",
    "\n",
    "(train, test) = df_transformado.randomSplit([train_sample, test_sample],seed)\n",
    "\n",
    "num_train = df_transformado.count() * train_sample\n",
    "num_test = df_transformado.count() * test_sample\n",
    "\n",
    "print('Percentual da base de treinamento', train_sample*100, '%')\n",
    "print('Percentual da base de teste', test_sample*100, '%')\n",
    "print('Quantidade de registros da base de treinamento:', train.count())\n",
    "print('Quantidade de registros da base de treinamento:', test.count())"
   ]
  },
  {
   "cell_type": "code",
   "execution_count": 21,
   "metadata": {},
   "outputs": [
    {
     "name": "stdout",
     "output_type": "stream",
     "text": [
      "+-----+-----+\n",
      "|label|count|\n",
      "+-----+-----+\n",
      "|  0.0| 5773|\n",
      "|  1.0| 5786|\n",
      "+-----+-----+\n",
      "\n"
     ]
    }
   ],
   "source": [
    "train.groupby('label').count().show()"
   ]
  },
  {
   "cell_type": "code",
   "execution_count": 22,
   "metadata": {},
   "outputs": [
    {
     "name": "stdout",
     "output_type": "stream",
     "text": [
      "+-----+-----+\n",
      "|label|count|\n",
      "+-----+-----+\n",
      "|  0.0| 2440|\n",
      "|  1.0| 2427|\n",
      "+-----+-----+\n",
      "\n"
     ]
    }
   ],
   "source": [
    "test.groupby('label').count().show()"
   ]
  },
  {
   "cell_type": "markdown",
   "metadata": {},
   "source": [
    "## Treinamento, teste e avaliação dos modelos de predição"
   ]
  },
  {
   "cell_type": "markdown",
   "metadata": {},
   "source": [
    "### Decision Tree (DT)"
   ]
  },
  {
   "cell_type": "code",
   "execution_count": 23,
   "metadata": {},
   "outputs": [],
   "source": [
    "# Treinamento do modelo de predição\n",
    "start_time = time.time()\n",
    "trainer = DecisionTreeClassifier(featuresCol='features', labelCol='label', predictionCol='prediction', probabilityCol='probability',\\\n",
    "                                 rawPredictionCol='rawPrediction', maxDepth=5, maxBins=32, minInstancesPerNode=1, minInfoGain=0.0,\\\n",
    "                                 maxMemoryInMB=256, cacheNodeIds=False, checkpointInterval=10, impurity='gini', seed=None)\n",
    "model_dt = trainer.fit(train)\n",
    "time_dt_train = time.time() - start_time"
   ]
  },
  {
   "cell_type": "code",
   "execution_count": 24,
   "metadata": {},
   "outputs": [],
   "source": [
    "# Execução do modelo de predição na base de teste\n",
    "start_time = time.time()\n",
    "result_dt = model_dt.transform(test)\n",
    "time_dt_pred = time.time() - start_time"
   ]
  },
  {
   "cell_type": "code",
   "execution_count": 25,
   "metadata": {},
   "outputs": [],
   "source": [
    "# Cálculo da acurácia do modelo de predição\n",
    "evaluator = MulticlassClassificationEvaluator(labelCol='label', predictionCol='prediction',\\\n",
    "            metricName='accuracy')\n",
    "accuracy_dt = evaluator.evaluate(result_dt) * 100"
   ]
  },
  {
   "cell_type": "code",
   "execution_count": 26,
   "metadata": {},
   "outputs": [],
   "source": [
    "# Cálculo do recall do modelo de predição\n",
    "evaluator = MulticlassClassificationEvaluator(labelCol='label', predictionCol='prediction',\\\n",
    "            metricName='weightedRecall')\n",
    "recall_dt = evaluator.evaluate(result_dt) * 100"
   ]
  },
  {
   "cell_type": "code",
   "execution_count": 27,
   "metadata": {},
   "outputs": [],
   "source": [
    "# Cálculo da precisão do modelo de predição\n",
    "evaluator = MulticlassClassificationEvaluator(labelCol='label', predictionCol='prediction',\\\n",
    "            metricName='weightedPrecision')\n",
    "precision_dt = evaluator.evaluate(result_dt) * 100"
   ]
  },
  {
   "cell_type": "code",
   "execution_count": 28,
   "metadata": {},
   "outputs": [],
   "source": [
    "# Cálculo da F1 score do modelo de predição\n",
    "evaluator = MulticlassClassificationEvaluator(labelCol='label', predictionCol='prediction',\\\n",
    "            metricName='f1')\n",
    "f1_dt = evaluator.evaluate(result_dt) * 100"
   ]
  },
  {
   "cell_type": "code",
   "execution_count": 29,
   "metadata": {},
   "outputs": [
    {
     "name": "stdout",
     "output_type": "stream",
     "text": [
      "[[2440    0]\n",
      " [  15 2412]]\n"
     ]
    }
   ],
   "source": [
    "# Matriz de confusão\n",
    "y_true = result_dt.select(\"label\").toPandas()\n",
    "y_pred = result_dt.select(\"prediction\").toPandas()\n",
    "mc_dt = confusion_matrix(y_true, y_pred, labels = [0,1])\n",
    "tn_dt, fp_dt, fn_dt, tp_dt = confusion_matrix(y_true, y_pred).ravel()\n",
    "print(mc_dt)"
   ]
  },
  {
   "cell_type": "code",
   "execution_count": 30,
   "metadata": {},
   "outputs": [
    {
     "data": {
      "text/plain": [
       "0"
      ]
     },
     "execution_count": 30,
     "metadata": {},
     "output_type": "execute_result"
    }
   ],
   "source": [
    "fp_dt"
   ]
  },
  {
   "cell_type": "code",
   "execution_count": 99,
   "metadata": {},
   "outputs": [
    {
     "data": {
      "text/plain": [
       "4867"
      ]
     },
     "execution_count": 99,
     "metadata": {},
     "output_type": "execute_result"
    }
   ],
   "source": [
    "np.sum(mc_dt)"
   ]
  },
  {
   "cell_type": "code",
   "execution_count": 31,
   "metadata": {},
   "outputs": [
    {
     "data": {
      "text/plain": [
       "<matplotlib.axes._subplots.AxesSubplot at 0x7f7e94afc470>"
      ]
     },
     "execution_count": 31,
     "metadata": {},
     "output_type": "execute_result"
    },
    {
     "data": {
      "image/png": "[encoded data removed]",
      "text/plain": [
       "<Figure size 432x288 with 2 Axes>"
      ]
     },
     "metadata": {
      "needs_background": "light"
     },
     "output_type": "display_data"
    }
   ],
   "source": [
    "group_names = ['Verdadeiro Negativo','Falso Positivo','Falso Negativo','Verdadeiro Positivo']\n",
    "group_counts = ['{0:0.0f}'.format(value) for value in mc_dt.flatten()]\n",
    "group_percentages = ['{0:.2%}'.format(value) for value in mc_dt.flatten()/np.sum(mc_dt)]\n",
    "labels = [f'{v1}\\n{v2}\\n{v3}' for v1, v2, v3 in zip(group_names,group_counts,group_percentages)]\n",
    "labels = np.asarray(labels).reshape(2,2)\n",
    "sns.heatmap(mc_dt, annot=labels, fmt='', cmap='Blues')"
   ]
  },
  {
   "cell_type": "code",
   "execution_count": 32,
   "metadata": {},
   "outputs": [
    {
     "name": "stdout",
     "output_type": "stream",
     "text": [
      "Resultados do modelo Decision Tree:\n",
      "+--------+------+--------+--------+--------------+--------------+-----------------+--------------+\n",
      "|acurácia|recall|precisão|f1 score|falso positivo|falso negativo|tempo treinamento|tempo predição|\n",
      "+--------+------+--------+--------+--------------+--------------+-----------------+--------------+\n",
      "|   99.69| 99.69|   99.69|   99.69|             0|            15|             8.95|          0.08|\n",
      "+--------+------+--------+--------+--------------+--------------+-----------------+--------------+\n",
      "\n"
     ]
    }
   ],
   "source": [
    "# Exibição dos resultados\n",
    "evaluator_dt = spark.createDataFrame(\n",
    "    [(round(accuracy_dt,2), round(recall_dt,2), round(precision_dt,2), round(f1_dt,2),\\\n",
    "      int(fp_dt), int(fn_dt),\\\n",
    "      round(time_dt_train,2), round(time_dt_pred,2))],\\\n",
    "    ['acurácia','recall','precisão','f1 score',\\\n",
    "     'falso positivo', 'falso negativo',\\\n",
    "     'tempo treinamento','tempo predição'])\n",
    "print(\"Resultados do modelo Decision Tree:\")\n",
    "evaluator_dt.show()"
   ]
  },
  {
   "cell_type": "code",
   "execution_count": 33,
   "metadata": {},
   "outputs": [
    {
     "name": "stdout",
     "output_type": "stream",
     "text": [
      "+-----+-------------------------------------+-------------+----------------------------------------+----------+\n",
      "|label|features                             |rawPrediction|probability                             |prediction|\n",
      "+-----+-------------------------------------+-------------+----------------------------------------+----------+\n",
      "|0.0  |(7,[0,1,4],[1.0,10782.94,100585.0])  |[1128.0,16.0]|[0.986013986013986,0.013986013986013986]|0.0       |\n",
      "|0.0  |(7,[0,1,4],[1.0,17851.54,32353.0])   |[1128.0,16.0]|[0.986013986013986,0.013986013986013986]|0.0       |\n",
      "|0.0  |(7,[0,1,4],[1.0,26004.52,52251.58])  |[1128.0,16.0]|[0.986013986013986,0.013986013986013986]|0.0       |\n",
      "|0.0  |(7,[0,1,4],[1.0,47913.58,51304.0])   |[1128.0,16.0]|[0.986013986013986,0.013986013986013986]|0.0       |\n",
      "|0.0  |(7,[0,1,4],[1.0,193605.38,249452.05])|[1128.0,16.0]|[0.986013986013986,0.013986013986013986]|0.0       |\n",
      "+-----+-------------------------------------+-------------+----------------------------------------+----------+\n",
      "only showing top 5 rows\n",
      "\n"
     ]
    }
   ],
   "source": [
    "result_dt.show(truncate = False, n = 5)"
   ]
  },
  {
   "cell_type": "markdown",
   "metadata": {},
   "source": [
    "### Random Forest (RF)"
   ]
  },
  {
   "cell_type": "code",
   "execution_count": 34,
   "metadata": {},
   "outputs": [],
   "source": [
    "# Treinamento do modelo de predição\n",
    "start_time = time.time()\n",
    "trainer = RandomForestClassifier(featuresCol='features', labelCol='label', predictionCol='prediction', probabilityCol='probability',\\\n",
    "                                 rawPredictionCol='rawPrediction', maxDepth=5, maxBins=32, minInstancesPerNode=1, minInfoGain=0.0,\\\n",
    "                                 numTrees=50, featureSubsetStrategy='auto', seed=None, subsamplingRate=1.0,\\\n",
    "                                 maxMemoryInMB=256, cacheNodeIds=False, checkpointInterval=10, impurity='gini')\n",
    "model_rf = trainer.fit(train)\n",
    "time_rf_train = time.time() - start_time"
   ]
  },
  {
   "cell_type": "code",
   "execution_count": 35,
   "metadata": {},
   "outputs": [],
   "source": [
    "# Execução do modelo de predição na base de teste\n",
    "start_time = time.time()\n",
    "result_rf = model_rf.transform(test)\n",
    "time_rf_pred = time.time() - start_time"
   ]
  },
  {
   "cell_type": "code",
   "execution_count": 36,
   "metadata": {},
   "outputs": [],
   "source": [
    "# Cálculo da acurácia do modelo de predição\n",
    "evaluator = MulticlassClassificationEvaluator(labelCol='label', predictionCol='prediction',\\\n",
    "            metricName='accuracy')\n",
    "accuracy_rf = evaluator.evaluate(result_rf) * 100"
   ]
  },
  {
   "cell_type": "code",
   "execution_count": 37,
   "metadata": {},
   "outputs": [],
   "source": [
    "# Cálculo do recall do modelo de predição\n",
    "evaluator = MulticlassClassificationEvaluator(labelCol='label', predictionCol='prediction',\\\n",
    "            metricName='weightedRecall')\n",
    "recall_rf = evaluator.evaluate(result_rf) * 100"
   ]
  },
  {
   "cell_type": "code",
   "execution_count": 38,
   "metadata": {},
   "outputs": [],
   "source": [
    "# Cálculo da precisão do modelo de predição\n",
    "evaluator = MulticlassClassificationEvaluator(labelCol='label', predictionCol='prediction',\\\n",
    "            metricName='weightedPrecision')\n",
    "precision_rf = evaluator.evaluate(result_rf) * 100"
   ]
  },
  {
   "cell_type": "code",
   "execution_count": 39,
   "metadata": {},
   "outputs": [],
   "source": [
    "# Cálculo da F1 score do modelo de predição\n",
    "evaluator = MulticlassClassificationEvaluator(labelCol='label', predictionCol='prediction',\\\n",
    "            metricName='f1')\n",
    "f1_rf = evaluator.evaluate(result_rf) * 100"
   ]
  },
  {
   "cell_type": "code",
   "execution_count": 40,
   "metadata": {},
   "outputs": [
    {
     "name": "stdout",
     "output_type": "stream",
     "text": [
      "[[2440    0]\n",
      " [  16 2411]]\n"
     ]
    }
   ],
   "source": [
    "# Matriz de confusão\n",
    "y_true = result_rf.select(\"label\").toPandas()\n",
    "y_pred = result_rf.select(\"prediction\").toPandas()\n",
    "mc_rf = confusion_matrix(y_true, y_pred)\n",
    "tn_rf, fp_rf, fn_rf, tp_rf = confusion_matrix(y_true, y_pred).ravel()\n",
    "print(mc_rf)"
   ]
  },
  {
   "cell_type": "code",
   "execution_count": 41,
   "metadata": {},
   "outputs": [
    {
     "data": {
      "text/plain": [
       "<matplotlib.axes._subplots.AxesSubplot at 0x7f7e943acb38>"
      ]
     },
     "execution_count": 41,
     "metadata": {},
     "output_type": "execute_result"
    },
    {
     "data": {
      "image/png": "[encoded data removed]",
      "text/plain": [
       "<Figure size 432x288 with 2 Axes>"
      ]
     },
     "metadata": {
      "needs_background": "light"
     },
     "output_type": "display_data"
    }
   ],
   "source": [
    "group_names = ['Verdadeiro Negativo','Falso Positivo','Falso Negativo','Verdadeiro Positivo']\n",
    "group_counts = ['{0:0.0f}'.format(value) for value in mc_dt.flatten()]\n",
    "group_percentages = ['{0:.2%}'.format(value) for value in mc_rf.flatten()/np.sum(mc_rf)]\n",
    "labels = [f'{v1}\\n{v2}\\n{v3}' for v1, v2, v3 in zip(group_names,group_counts,group_percentages)]\n",
    "labels = np.asarray(labels).reshape(2,2)\n",
    "sns.heatmap(mc_rf, annot=labels, fmt='', cmap='Blues')"
   ]
  },
  {
   "cell_type": "code",
   "execution_count": 42,
   "metadata": {},
   "outputs": [
    {
     "name": "stdout",
     "output_type": "stream",
     "text": [
      "Resultados do modelo Random Forest:\n",
      "+--------+------+--------+--------+--------------+--------------+-----------------+--------------+\n",
      "|acurácia|recall|precisão|f1 score|falso positivo|falso negativo|tempo treinamento|tempo predição|\n",
      "+--------+------+--------+--------+--------------+--------------+-----------------+--------------+\n",
      "|   99.67| 99.67|   99.67|   99.67|             0|            16|            10.01|          0.09|\n",
      "+--------+------+--------+--------+--------------+--------------+-----------------+--------------+\n",
      "\n"
     ]
    }
   ],
   "source": [
    "# Exibição dos resultados\n",
    "evaluator_rf = spark.createDataFrame(\n",
    "    [(round(accuracy_rf,2), round(recall_rf,2), round(precision_rf,2), round(f1_rf,2),\\\n",
    "      int(fp_rf), int(fn_rf),\\\n",
    "      round(time_rf_train,2), round(time_rf_pred,2))],\\\n",
    "    ['acurácia','recall','precisão','f1 score',\\\n",
    "     'falso positivo', 'falso negativo',\\\n",
    "     'tempo treinamento','tempo predição'])\n",
    "print(\"Resultados do modelo Random Forest:\")\n",
    "evaluator_rf.show()"
   ]
  },
  {
   "cell_type": "code",
   "execution_count": 43,
   "metadata": {},
   "outputs": [
    {
     "name": "stdout",
     "output_type": "stream",
     "text": [
      "+-----+-------------------------------------+--------------------------------------+-----------------------------------------+----------+\n",
      "|label|features                             |rawPrediction                         |probability                              |prediction|\n",
      "+-----+-------------------------------------+--------------------------------------+-----------------------------------------+----------+\n",
      "|0.0  |(7,[0,1,4],[1.0,10782.94,100585.0])  |[46.884291017466246,3.11570898253376] |[0.9376858203493248,0.062314179650675185]|0.0       |\n",
      "|0.0  |(7,[0,1,4],[1.0,17851.54,32353.0])   |[46.55485970519186,3.445140294808147] |[0.9310971941038371,0.06890280589616293] |0.0       |\n",
      "|0.0  |(7,[0,1,4],[1.0,26004.52,52251.58])  |[47.0295287281215,2.970471271878508]  |[0.9405905745624298,0.05940942543757015] |0.0       |\n",
      "|0.0  |(7,[0,1,4],[1.0,47913.58,51304.0])   |[49.06861786549592,0.9313821345040785]|[0.9813723573099185,0.018627642690081568]|0.0       |\n",
      "|0.0  |(7,[0,1,4],[1.0,193605.38,249452.05])|[49.25780705468512,0.7421929453148892]|[0.9851561410937022,0.014843858906297783]|0.0       |\n",
      "+-----+-------------------------------------+--------------------------------------+-----------------------------------------+----------+\n",
      "only showing top 5 rows\n",
      "\n"
     ]
    }
   ],
   "source": [
    "result_rf.show(truncate = False, n = 5)"
   ]
  },
  {
   "cell_type": "markdown",
   "metadata": {},
   "source": [
    "### Neural Network Perceptron (NNP)"
   ]
  },
  {
   "cell_type": "code",
   "execution_count": 44,
   "metadata": {},
   "outputs": [],
   "source": [
    "# Treinamento do modelo de predição\n",
    "start_time =  time.time()\n",
    "layers = [7, 5, 5, 2]\n",
    "trainer = MultilayerPerceptronClassifier(featuresCol='features', labelCol='label',\\\n",
    "          maxIter=100, layers=layers, blockSize=128, seed=1234)\n",
    "model_nnp = trainer.fit(train)\n",
    "time_nnp_train = time.time() - start_time"
   ]
  },
  {
   "cell_type": "code",
   "execution_count": 45,
   "metadata": {},
   "outputs": [],
   "source": [
    "# Execução do modelo de predição na base de teste\n",
    "start_time =  time.time()\n",
    "result_nnp = model_nnp.transform(test)\n",
    "time_nnp_pred = time.time() - start_time"
   ]
  },
  {
   "cell_type": "code",
   "execution_count": 46,
   "metadata": {},
   "outputs": [],
   "source": [
    "# Cálculo da acurácia do modelo de predição\n",
    "evaluator = MulticlassClassificationEvaluator(labelCol='label', predictionCol='prediction',\\\n",
    "            metricName='accuracy')\n",
    "accuracy_nnp = evaluator.evaluate(result_nnp) * 100"
   ]
  },
  {
   "cell_type": "code",
   "execution_count": 47,
   "metadata": {},
   "outputs": [],
   "source": [
    "# Cálculo do recall do modelo de predição\n",
    "evaluator = MulticlassClassificationEvaluator(labelCol='label', predictionCol='prediction',\\\n",
    "            metricName='weightedRecall')\n",
    "recall_nnp = evaluator.evaluate(result_nnp) * 100"
   ]
  },
  {
   "cell_type": "code",
   "execution_count": 48,
   "metadata": {},
   "outputs": [],
   "source": [
    "# Cálculo da precisão do modelo de predição\n",
    "evaluator = MulticlassClassificationEvaluator(labelCol='label', predictionCol='prediction',\\\n",
    "            metricName='weightedPrecision')\n",
    "precision_nnp = evaluator.evaluate(result_nnp) * 100"
   ]
  },
  {
   "cell_type": "code",
   "execution_count": 49,
   "metadata": {},
   "outputs": [],
   "source": [
    "# Cálculo da F1 score do modelo de predição\n",
    "evaluator = MulticlassClassificationEvaluator(labelCol='label', predictionCol='prediction',\\\n",
    "            metricName='f1')\n",
    "f1_nnp = evaluator.evaluate(result_nnp) * 100"
   ]
  },
  {
   "cell_type": "code",
   "execution_count": 50,
   "metadata": {},
   "outputs": [
    {
     "name": "stdout",
     "output_type": "stream",
     "text": [
      "[[2221  219]\n",
      " [  57 2370]]\n"
     ]
    }
   ],
   "source": [
    "# Matriz de confusão\n",
    "y_true = result_nnp.select(\"label\").toPandas()\n",
    "y_pred = result_nnp.select(\"prediction\").toPandas()\n",
    "mc_nnp = confusion_matrix(y_true, y_pred)\n",
    "tn_nnp, fp_nnp, fn_nnp, tp_nnp = confusion_matrix(y_true, y_pred).ravel()\n",
    "print(mc_nnp)"
   ]
  },
  {
   "cell_type": "code",
   "execution_count": 51,
   "metadata": {},
   "outputs": [
    {
     "data": {
      "text/plain": [
       "<matplotlib.axes._subplots.AxesSubplot at 0x7f7e942f3fd0>"
      ]
     },
     "execution_count": 51,
     "metadata": {},
     "output_type": "execute_result"
    },
    {
     "data": {
      "image/png": "[encoded data removed]",
      "text/plain": [
       "<Figure size 432x288 with 2 Axes>"
      ]
     },
     "metadata": {
      "needs_background": "light"
     },
     "output_type": "display_data"
    }
   ],
   "source": [
    "group_names = ['Verdadeiro Negativo','Falso Positivo','Falso Negativo','Verdadeiro Positivo']\n",
    "group_counts = ['{0:0.0f}'.format(value) for value in mc_dt.flatten()]\n",
    "group_percentages = ['{0:.2%}'.format(value) for value in mc_nnp.flatten()/np.sum(mc_nnp)]\n",
    "labels = [f'{v1}\\n{v2}\\n{v3}' for v1, v2, v3 in zip(group_names,group_counts,group_percentages)]\n",
    "labels = np.asarray(labels).reshape(2,2)\n",
    "sns.heatmap(mc_nnp, annot=labels, fmt='', cmap='Blues')"
   ]
  },
  {
   "cell_type": "code",
   "execution_count": 52,
   "metadata": {},
   "outputs": [
    {
     "name": "stdout",
     "output_type": "stream",
     "text": [
      "Resultados do modelo Neural Network Perceptron:\n",
      "+--------+------+--------+--------+--------------+--------------+-----------------+--------------+\n",
      "|acurácia|recall|precisão|f1 score|falso positivo|falso negativo|tempo treinamento|tempo predição|\n",
      "+--------+------+--------+--------+--------------+--------------+-----------------+--------------+\n",
      "|   94.33| 94.33|   94.53|   94.32|           219|            57|            53.09|          0.07|\n",
      "+--------+------+--------+--------+--------------+--------------+-----------------+--------------+\n",
      "\n"
     ]
    }
   ],
   "source": [
    "# Exibição dos resultados\n",
    "evaluator_nnp = spark.createDataFrame(\n",
    "    [(round(accuracy_nnp,2), round(recall_nnp,2), round(precision_nnp,2), round(f1_nnp,2),\\\n",
    "      int(fp_nnp), int(fn_nnp),\\\n",
    "      round(time_nnp_train,2), round(time_nnp_pred,2))],\\\n",
    "    ['acurácia','recall','precisão','f1 score',\\\n",
    "     'falso positivo', 'falso negativo',\\\n",
    "     'tempo treinamento','tempo predição'])\n",
    "print(\"Resultados do modelo Neural Network Perceptron:\")\n",
    "evaluator_nnp.show()"
   ]
  },
  {
   "cell_type": "code",
   "execution_count": 53,
   "metadata": {},
   "outputs": [
    {
     "name": "stdout",
     "output_type": "stream",
     "text": [
      "+-----+-------------------------------------+----------------------------------------+----------------------------------------+----------+\n",
      "|label|features                             |rawPrediction                           |probability                             |prediction|\n",
      "+-----+-------------------------------------+----------------------------------------+----------------------------------------+----------+\n",
      "|0.0  |(7,[0,1,4],[1.0,10782.94,100585.0])  |[0.7711767786867174,0.2048427240060645] |[0.637916847820783,0.362083152179217]   |0.0       |\n",
      "|0.0  |(7,[0,1,4],[1.0,17851.54,32353.0])   |[0.7711767786867174,0.2048427240060645] |[0.637916847820783,0.362083152179217]   |0.0       |\n",
      "|0.0  |(7,[0,1,4],[1.0,26004.52,52251.58])  |[0.7711767786867174,0.2048427240060645] |[0.637916847820783,0.362083152179217]   |0.0       |\n",
      "|0.0  |(7,[0,1,4],[1.0,47913.58,51304.0])   |[1.6647284287113397,-0.7801385349979125]|[0.9201852705430213,0.07981472945697869]|0.0       |\n",
      "|0.0  |(7,[0,1,4],[1.0,193605.38,249452.05])|[0.7711767786867174,0.2048427240060645] |[0.637916847820783,0.362083152179217]   |0.0       |\n",
      "+-----+-------------------------------------+----------------------------------------+----------------------------------------+----------+\n",
      "only showing top 5 rows\n",
      "\n"
     ]
    }
   ],
   "source": [
    "result_nnp.show(truncate = False, n = 5)"
   ]
  },
  {
   "cell_type": "markdown",
   "metadata": {},
   "source": [
    "### Naive Bayes (NB)"
   ]
  },
  {
   "cell_type": "code",
   "execution_count": 54,
   "metadata": {},
   "outputs": [],
   "source": [
    "# Treinamento do modelo de predição\n",
    "start_time =  time.time()\n",
    "trainer = NaiveBayes(smoothing=1.0, modelType='multinomial')\n",
    "model_nb = trainer.fit(train)\n",
    "time_nb_train = time.time() - start_time"
   ]
  },
  {
   "cell_type": "code",
   "execution_count": 55,
   "metadata": {},
   "outputs": [],
   "source": [
    "# Execução do modelo de predição na base de teste\n",
    "start_time =  time.time()\n",
    "result_nb = model_nb.transform(test)\n",
    "time_nb_pred = time.time() - start_time"
   ]
  },
  {
   "cell_type": "code",
   "execution_count": 56,
   "metadata": {},
   "outputs": [],
   "source": [
    "# Cálculo da acurácia do modelo de predição\n",
    "evaluator = MulticlassClassificationEvaluator(labelCol='label', predictionCol='prediction',\\\n",
    "            metricName='accuracy')\n",
    "accuracy_nb = evaluator.evaluate(result_nb) * 100"
   ]
  },
  {
   "cell_type": "code",
   "execution_count": 57,
   "metadata": {},
   "outputs": [],
   "source": [
    "# Cálculo do recall do modelo de predição\n",
    "evaluator = MulticlassClassificationEvaluator(labelCol='label', predictionCol='prediction',\\\n",
    "            metricName='weightedRecall')\n",
    "recall_nb = evaluator.evaluate(result_nb) * 100"
   ]
  },
  {
   "cell_type": "code",
   "execution_count": 58,
   "metadata": {},
   "outputs": [],
   "source": [
    "# Cálculo da precisão do modelo de predição\n",
    "evaluator = MulticlassClassificationEvaluator(labelCol='label', predictionCol='prediction',\\\n",
    "            metricName='weightedPrecision')\n",
    "precision_nb = evaluator.evaluate(result_nb) * 100"
   ]
  },
  {
   "cell_type": "code",
   "execution_count": 59,
   "metadata": {},
   "outputs": [],
   "source": [
    "# Cálculo da F1 score do modelo de predição\n",
    "evaluator = MulticlassClassificationEvaluator(labelCol='label', predictionCol='prediction',\\\n",
    "            metricName='f1')\n",
    "f1_nb = evaluator.evaluate(result_nb) * 100"
   ]
  },
  {
   "cell_type": "code",
   "execution_count": 60,
   "metadata": {},
   "outputs": [
    {
     "name": "stdout",
     "output_type": "stream",
     "text": [
      "[[1500  940]\n",
      " [ 309 2118]]\n"
     ]
    }
   ],
   "source": [
    "# Matriz de confusão\n",
    "y_true = result_nb.select(\"label\").toPandas()\n",
    "y_pred = result_nb.select(\"prediction\").toPandas()\n",
    "mc_nb = confusion_matrix(y_true, y_pred)\n",
    "tn_nb, fp_nb, fn_nb, tp_nb = confusion_matrix(y_true, y_pred).ravel()\n",
    "print(mc_nb)"
   ]
  },
  {
   "cell_type": "code",
   "execution_count": 61,
   "metadata": {},
   "outputs": [
    {
     "data": {
      "text/plain": [
       "<matplotlib.axes._subplots.AxesSubplot at 0x7f7e200f0d30>"
      ]
     },
     "execution_count": 61,
     "metadata": {},
     "output_type": "execute_result"
    },
    {
     "data": {
      "image/png": "[encoded data removed]",
      "text/plain": [
       "<Figure size 432x288 with 2 Axes>"
      ]
     },
     "metadata": {
      "needs_background": "light"
     },
     "output_type": "display_data"
    }
   ],
   "source": [
    "group_names = ['Verdadeiro Negativo','Falso Positivo','Falso Negativo','Verdadeiro Positivo']\n",
    "group_counts = ['{0:0.0f}'.format(value) for value in mc_dt.flatten()]\n",
    "group_percentages = ['{0:.2%}'.format(value) for value in mc_nb.flatten()/np.sum(mc_nb)]\n",
    "labels = [f'{v1}\\n{v2}\\n{v3}' for v1, v2, v3 in zip(group_names,group_counts,group_percentages)]\n",
    "labels = np.asarray(labels).reshape(2,2)\n",
    "sns.heatmap(mc_nb, annot=labels, fmt='', cmap='Blues')"
   ]
  },
  {
   "cell_type": "code",
   "execution_count": 62,
   "metadata": {},
   "outputs": [
    {
     "name": "stdout",
     "output_type": "stream",
     "text": [
      "Resultados do modelo Naive Bayes:\n",
      "+--------+------+--------+--------+--------------+--------------+-----------------+--------------+\n",
      "|acurácia|recall|precisão|f1 score|falso positivo|falso negativo|tempo treinamento|tempo predição|\n",
      "+--------+------+--------+--------+--------------+--------------+-----------------+--------------+\n",
      "|   74.34| 74.34|   76.11|   73.91|           940|           309|             6.05|          0.06|\n",
      "+--------+------+--------+--------+--------------+--------------+-----------------+--------------+\n",
      "\n"
     ]
    }
   ],
   "source": [
    "# Exibição dos resultados\n",
    "evaluator_nb = spark.createDataFrame(\n",
    "    [(round(accuracy_nb,2), round(recall_nb,2), round(precision_nb,2), round(f1_nb,2),\\\n",
    "      int(fp_nb), int(fn_nb),\\\n",
    "      round(time_nb_train,2), round(time_nb_pred,2))],\\\n",
    "    ['acurácia','recall','precisão','f1 score',\\\n",
    "     'falso positivo', 'falso negativo',\\\n",
    "     'tempo treinamento','tempo predição'])\n",
    "print(\"Resultados do modelo Naive Bayes:\")\n",
    "evaluator_nb.show()"
   ]
  },
  {
   "cell_type": "code",
   "execution_count": 63,
   "metadata": {},
   "outputs": [
    {
     "name": "stdout",
     "output_type": "stream",
     "text": [
      "+-----+-------------------------------------+-----------------------------------------+-----------+----------+\n",
      "|label|features                             |rawPrediction                            |probability|prediction|\n",
      "+-----+-------------------------------------+-----------------------------------------+-----------+----------+\n",
      "|0.0  |(7,[0,1,4],[1.0,10782.94,100585.0])  |[-182269.67865277277,-241851.82351438346]|[1.0,0.0]  |0.0       |\n",
      "|0.0  |(7,[0,1,4],[1.0,17851.54,32353.0])   |[-112337.49642590462,-95769.90319682079] |[0.0,1.0]  |1.0       |\n",
      "|0.0  |(7,[0,1,4],[1.0,26004.52,52251.58])  |[-170868.12565460312,-151134.76757259917]|[0.0,1.0]  |1.0       |\n",
      "|0.0  |(7,[0,1,4],[1.0,47913.58,51304.0])   |[-251329.49680357386,-176358.5799792024] |[0.0,1.0]  |1.0       |\n",
      "|0.0  |(7,[0,1,4],[1.0,193605.38,249452.05])|[-1075006.6392050763,-808275.1143704863] |[0.0,1.0]  |1.0       |\n",
      "+-----+-------------------------------------+-----------------------------------------+-----------+----------+\n",
      "only showing top 5 rows\n",
      "\n"
     ]
    }
   ],
   "source": [
    "result_nb.show(truncate = False, n = 5)"
   ]
  },
  {
   "cell_type": "markdown",
   "metadata": {},
   "source": [
    "### Logistic Regression (LR)"
   ]
  },
  {
   "cell_type": "code",
   "execution_count": 64,
   "metadata": {},
   "outputs": [],
   "source": [
    "# Treinamento do modelo de predição\n",
    "start_time =  time.time()\n",
    "trainer = LogisticRegression(maxIter=10, tol=1E-6, fitIntercept=True)\n",
    "model_lr = trainer.fit(train)\n",
    "time_lr_train = time.time() - start_time"
   ]
  },
  {
   "cell_type": "code",
   "execution_count": 65,
   "metadata": {},
   "outputs": [],
   "source": [
    "# Execução do modelo de predição na base de teste\n",
    "start_time =  time.time()\n",
    "result_lr = model_lr.transform(test)\n",
    "time_lr_pred = time.time() - start_time"
   ]
  },
  {
   "cell_type": "code",
   "execution_count": 66,
   "metadata": {},
   "outputs": [],
   "source": [
    "# Cálculo da acurácia do modelo de predição\n",
    "evaluator = MulticlassClassificationEvaluator(labelCol='label', predictionCol='prediction',\\\n",
    "            metricName='accuracy')\n",
    "accuracy_lr = evaluator.evaluate(result_lr) * 100"
   ]
  },
  {
   "cell_type": "code",
   "execution_count": 67,
   "metadata": {},
   "outputs": [],
   "source": [
    "# Cálculo do recall do modelo de predição\n",
    "evaluator = MulticlassClassificationEvaluator(labelCol='label', predictionCol='prediction',\\\n",
    "            metricName='weightedRecall')\n",
    "recall_lr = evaluator.evaluate(result_lr) * 100"
   ]
  },
  {
   "cell_type": "code",
   "execution_count": 68,
   "metadata": {},
   "outputs": [],
   "source": [
    "# Cálculo da precisão do modelo de predição\n",
    "evaluator = MulticlassClassificationEvaluator(labelCol='label', predictionCol='prediction',\\\n",
    "            metricName='weightedPrecision')\n",
    "precision_lr = evaluator.evaluate(result_lr) * 100"
   ]
  },
  {
   "cell_type": "code",
   "execution_count": 69,
   "metadata": {},
   "outputs": [],
   "source": [
    "# Cálculo da F1 score do modelo de predição\n",
    "evaluator = MulticlassClassificationEvaluator(labelCol='label', predictionCol='prediction',\\\n",
    "            metricName='f1')\n",
    "f1_lr = evaluator.evaluate(result_lr) * 100"
   ]
  },
  {
   "cell_type": "code",
   "execution_count": 70,
   "metadata": {},
   "outputs": [
    {
     "name": "stdout",
     "output_type": "stream",
     "text": [
      "[[2437    3]\n",
      " [  64 2363]]\n"
     ]
    }
   ],
   "source": [
    "# Matriz de confusão\n",
    "y_true = result_lr.select(\"label\").toPandas()\n",
    "y_pred = result_lr.select(\"prediction\").toPandas()\n",
    "mc_lr = confusion_matrix(y_true, y_pred)\n",
    "tn_lr, fp_lr, fn_lr, tp_lr = confusion_matrix(y_true, y_pred).ravel()\n",
    "print(mc_lr)"
   ]
  },
  {
   "cell_type": "code",
   "execution_count": 71,
   "metadata": {},
   "outputs": [
    {
     "data": {
      "text/plain": [
       "<matplotlib.axes._subplots.AxesSubplot at 0x7f7e200f0be0>"
      ]
     },
     "execution_count": 71,
     "metadata": {},
     "output_type": "execute_result"
    },
    {
     "data": {
      "image/png": "[encoded data removed]",
      "text/plain": [
       "<Figure size 432x288 with 2 Axes>"
      ]
     },
     "metadata": {
      "needs_background": "light"
     },
     "output_type": "display_data"
    }
   ],
   "source": [
    "group_names = ['Verdadeiro Negativo','Falso Positivo','Falso Negativo','Verdadeiro Positivo']\n",
    "group_counts = ['{0:0.0f}'.format(value) for value in mc_dt.flatten()]\n",
    "group_percentages = ['{0:.2%}'.format(value) for value in mc_lr.flatten()/np.sum(mc_lr)]\n",
    "labels = [f'{v1}\\n{v2}\\n{v3}' for v1, v2, v3 in zip(group_names,group_counts,group_percentages)]\n",
    "labels = np.asarray(labels).reshape(2,2)\n",
    "sns.heatmap(mc_lr, annot=labels, fmt='', cmap='Blues')"
   ]
  },
  {
   "cell_type": "code",
   "execution_count": 72,
   "metadata": {},
   "outputs": [
    {
     "name": "stdout",
     "output_type": "stream",
     "text": [
      "Resultados do modelo Logistic Regression:\n",
      "+--------+------+--------+--------+--------------+--------------+-----------------+--------------+\n",
      "|acurácia|recall|precisão|f1 score|falso positivo|falso negativo|tempo treinamento|tempo predição|\n",
      "+--------+------+--------+--------+--------------+--------------+-----------------+--------------+\n",
      "|   98.62| 98.62|   98.65|   98.62|             3|            64|             8.81|          0.02|\n",
      "+--------+------+--------+--------+--------------+--------------+-----------------+--------------+\n",
      "\n"
     ]
    }
   ],
   "source": [
    "# Exibição dos resultados\n",
    "evaluator_lr = spark.createDataFrame(\n",
    "    [(round(accuracy_lr,2), round(recall_lr,2), round(precision_lr,2), round(f1_lr,2),\\\n",
    "      int(fp_lr), int(fn_lr),\\\n",
    "      round(time_lr_train,2), round(time_lr_pred,2))],\\\n",
    "    ['acurácia','recall','precisão','f1 score',\\\n",
    "     'falso positivo', 'falso negativo',\\\n",
    "     'tempo treinamento','tempo predição'])\n",
    "print(\"Resultados do modelo Logistic Regression:\")\n",
    "evaluator_lr.show()"
   ]
  },
  {
   "cell_type": "code",
   "execution_count": 73,
   "metadata": {},
   "outputs": [
    {
     "name": "stdout",
     "output_type": "stream",
     "text": [
      "+-----+-------------------------------------+----------------------------------------+----------------------------------------+----------+\n",
      "|label|features                             |rawPrediction                           |probability                             |prediction|\n",
      "+-----+-------------------------------------+----------------------------------------+----------------------------------------+----------+\n",
      "|0.0  |(7,[0,1,4],[1.0,10782.94,100585.0])  |[1.6632349203838523,-1.6632349203838523]|[0.8406717748203733,0.15932822517962675]|0.0       |\n",
      "|0.0  |(7,[0,1,4],[1.0,17851.54,32353.0])   |[1.6721632731207916,-1.6721632731207916]|[0.8418640285420456,0.15813597145795436]|0.0       |\n",
      "|0.0  |(7,[0,1,4],[1.0,26004.52,52251.58])  |[1.641626350124325,-1.641626350124325]  |[0.8377561136872689,0.1622438863127311] |0.0       |\n",
      "|0.0  |(7,[0,1,4],[1.0,47913.58,51304.0])   |[1.5821045075587057,-1.5821045075587057]|[0.829502361107439,0.17049763889256095] |0.0       |\n",
      "|0.0  |(7,[0,1,4],[1.0,193605.38,249452.05])|[1.101619638406227,-1.101619638406227]  |[0.7505634540254045,0.24943654597459555]|0.0       |\n",
      "+-----+-------------------------------------+----------------------------------------+----------------------------------------+----------+\n",
      "only showing top 5 rows\n",
      "\n"
     ]
    }
   ],
   "source": [
    "result_lr.show(truncate = False, n = 5)"
   ]
  },
  {
   "cell_type": "markdown",
   "metadata": {},
   "source": [
    "## Suport Vector Machines (SVM)"
   ]
  },
  {
   "cell_type": "code",
   "execution_count": 74,
   "metadata": {},
   "outputs": [],
   "source": [
    "# Treinamento do modelo de predição\n",
    "start_time =  time.time()\n",
    "trainer = LinearSVC(featuresCol='features', labelCol='label',\\\n",
    "                    maxIter=100, regParam=0.1)\n",
    "model_svm = trainer.fit(train)\n",
    "time_svm_train = time.time() - start_time"
   ]
  },
  {
   "cell_type": "code",
   "execution_count": 75,
   "metadata": {},
   "outputs": [],
   "source": [
    "# Execução do modelo de predição na base de teste\n",
    "start_time =  time.time()\n",
    "result_svm = model_svm.transform(test)\n",
    "time_svm_pred = time.time() - start_time"
   ]
  },
  {
   "cell_type": "code",
   "execution_count": 76,
   "metadata": {},
   "outputs": [],
   "source": [
    "# Cálculo da acurácia do modelo de predição\n",
    "evaluator = MulticlassClassificationEvaluator(labelCol='label', predictionCol='prediction',\\\n",
    "            metricName='accuracy')\n",
    "accuracy_svm = evaluator.evaluate(result_svm) * 100"
   ]
  },
  {
   "cell_type": "code",
   "execution_count": 77,
   "metadata": {},
   "outputs": [],
   "source": [
    "# Cálculo do recall do modelo de predição\n",
    "evaluator = MulticlassClassificationEvaluator(labelCol='label', predictionCol='prediction',\\\n",
    "            metricName='weightedRecall')\n",
    "recall_svm = evaluator.evaluate(result_svm) * 100"
   ]
  },
  {
   "cell_type": "code",
   "execution_count": 78,
   "metadata": {},
   "outputs": [],
   "source": [
    "# Cálculo da precisão do modelo de predição\n",
    "evaluator = MulticlassClassificationEvaluator(labelCol='label', predictionCol='prediction',\\\n",
    "            metricName='weightedPrecision')\n",
    "precision_svm = evaluator.evaluate(result_svm) * 100"
   ]
  },
  {
   "cell_type": "code",
   "execution_count": 79,
   "metadata": {},
   "outputs": [],
   "source": [
    "# Cálculo da F1 score do modelo de predição\n",
    "evaluator = MulticlassClassificationEvaluator(labelCol='label', predictionCol='prediction',\\\n",
    "            metricName='f1')\n",
    "f1_svm = evaluator.evaluate(result_svm) * 100"
   ]
  },
  {
   "cell_type": "code",
   "execution_count": 80,
   "metadata": {},
   "outputs": [
    {
     "name": "stdout",
     "output_type": "stream",
     "text": [
      "[[2209  231]\n",
      " [ 123 2304]]\n"
     ]
    }
   ],
   "source": [
    "# Matriz de confusão\n",
    "y_true = result_svm.select(\"label\").toPandas()\n",
    "y_pred = result_svm.select(\"prediction\").toPandas()\n",
    "mc_svm = confusion_matrix(y_true, y_pred)\n",
    "tn_svm, fp_svm, fn_svm, tp_svm = confusion_matrix(y_true, y_pred).ravel()\n",
    "print(mc_svm)"
   ]
  },
  {
   "cell_type": "code",
   "execution_count": 81,
   "metadata": {},
   "outputs": [
    {
     "data": {
      "text/plain": [
       "<matplotlib.axes._subplots.AxesSubplot at 0x7f7e94b04940>"
      ]
     },
     "execution_count": 81,
     "metadata": {},
     "output_type": "execute_result"
    },
    {
     "data": {
      "image/png": "[encoded data removed]",
      "text/plain": [
       "<Figure size 432x288 with 2 Axes>"
      ]
     },
     "metadata": {
      "needs_background": "light"
     },
     "output_type": "display_data"
    }
   ],
   "source": [
    "group_names = ['Verdadeiro Negativo','Falso Positivo','Falso Negativo','Verdadeiro Positivo']\n",
    "group_counts = ['{0:0.0f}'.format(value) for value in mc_dt.flatten()]\n",
    "group_percentages = ['{0:.2%}'.format(value) for value in mc_svm.flatten()/np.sum(mc_svm)]\n",
    "labels = [f'{v1}\\n{v2}\\n{v3}' for v1, v2, v3 in zip(group_names,group_counts,group_percentages)]\n",
    "labels = np.asarray(labels).reshape(2,2)\n",
    "sns.heatmap(mc_svm, annot=labels, fmt='', cmap='Blues')"
   ]
  },
  {
   "cell_type": "code",
   "execution_count": 82,
   "metadata": {},
   "outputs": [
    {
     "name": "stdout",
     "output_type": "stream",
     "text": [
      "Resultados do modelo Suport Vector Machines:\n",
      "+--------+------+--------+--------+--------------+--------------+-----------------+--------------+\n",
      "|acurácia|recall|precisão|f1 score|falso positivo|falso negativo|tempo treinamento|tempo predição|\n",
      "+--------+------+--------+--------+--------------+--------------+-----------------+--------------+\n",
      "|   92.73| 92.73|   92.81|   92.72|           231|           123|           585.06|          0.08|\n",
      "+--------+------+--------+--------+--------------+--------------+-----------------+--------------+\n",
      "\n"
     ]
    }
   ],
   "source": [
    "# Exibição dos resultados\n",
    "evaluator_svm = spark.createDataFrame(\n",
    "    [(round(accuracy_svm,2), round(recall_svm,2), round(precision_svm,2), round(f1_svm,2),\\\n",
    "      int(fp_svm), int(fn_svm),\\\n",
    "      round(time_svm_train,2), round(time_svm_pred,2))],\\\n",
    "    ['acurácia','recall','precisão','f1 score',\\\n",
    "     'falso positivo', 'falso negativo',\\\n",
    "     'tempo treinamento','tempo predição'])\n",
    "print(\"Resultados do modelo Suport Vector Machines:\")\n",
    "evaluator_svm.show()"
   ]
  },
  {
   "cell_type": "code",
   "execution_count": 83,
   "metadata": {},
   "outputs": [
    {
     "name": "stdout",
     "output_type": "stream",
     "text": [
      "+-----+-------------------------------------+------------------------------------------+----------+\n",
      "|label|features                             |rawPrediction                             |prediction|\n",
      "+-----+-------------------------------------+------------------------------------------+----------+\n",
      "|0.0  |(7,[0,1,4],[1.0,10782.94,100585.0])  |[-0.18166026181359599,0.18166026181359599]|1.0       |\n",
      "|0.0  |(7,[0,1,4],[1.0,17851.54,32353.0])   |[-0.1860012133919604,0.1860012133919604]  |1.0       |\n",
      "|0.0  |(7,[0,1,4],[1.0,26004.52,52251.58])  |[-0.1866648694328334,0.1866648694328334]  |1.0       |\n",
      "|0.0  |(7,[0,1,4],[1.0,47913.58,51304.0])   |[-0.19084547190768078,0.19084547190768078]|1.0       |\n",
      "|0.0  |(7,[0,1,4],[1.0,193605.38,249452.05])|[-0.2096398403889629,0.2096398403889629]  |1.0       |\n",
      "+-----+-------------------------------------+------------------------------------------+----------+\n",
      "only showing top 5 rows\n",
      "\n"
     ]
    }
   ],
   "source": [
    "result_svm.show(truncate = False, n = 5)"
   ]
  },
  {
   "cell_type": "markdown",
   "metadata": {},
   "source": [
    "## Resultados"
   ]
  },
  {
   "cell_type": "code",
   "execution_count": 84,
   "metadata": {},
   "outputs": [],
   "source": [
    "models = ['Decision Tree','Random Forest','Neural Network Perceptron','Naive Bayes','Logistic Regression','Suport Vector Machines']"
   ]
  },
  {
   "cell_type": "markdown",
   "metadata": {},
   "source": [
    "### Accuracy"
   ]
  },
  {
   "cell_type": "code",
   "execution_count": 85,
   "metadata": {},
   "outputs": [
    {
     "name": "stdout",
     "output_type": "stream",
     "text": [
      "Ranking Accuracy %\n",
      "+-------------------------+-----------------+\n",
      "|Modelo                   |Acuracia         |\n",
      "+-------------------------+-----------------+\n",
      "|Decision Tree            |99.69180193137457|\n",
      "|Random Forest            |99.6712553934662 |\n",
      "|Logistic Regression      |98.62338196013971|\n",
      "|Neural Network Perceptron|94.32915553729197|\n",
      "|Naive Bayes              |74.33737415245531|\n",
      "|Suport Vector Machines   |74.33737415245531|\n",
      "+-------------------------+-----------------+\n",
      "\n"
     ]
    }
   ],
   "source": [
    "print('Ranking Accuracy %')\n",
    "\n",
    "list = ((models[0],accuracy_dt),\\\n",
    "        (models[1],accuracy_rf),\\\n",
    "        (models[2],accuracy_nnp),\\\n",
    "        (models[3],accuracy_nb),\\\n",
    "        (models[4],accuracy_lr),\\\n",
    "        (models[5],accuracy_nb))\n",
    "df_acuracia = spark.createDataFrame(list, ['Modelo', 'Acuracia'])\n",
    "df_acuracia.sort(df_acuracia.Acuracia.desc()).show(truncate = False)\n"
   ]
  },
  {
   "cell_type": "markdown",
   "metadata": {},
   "source": [
    "### Recall"
   ]
  },
  {
   "cell_type": "code",
   "execution_count": 86,
   "metadata": {},
   "outputs": [
    {
     "name": "stdout",
     "output_type": "stream",
     "text": [
      "Ranking\n",
      "+-------------------------+-----------------+\n",
      "|Modelo                   |Recall           |\n",
      "+-------------------------+-----------------+\n",
      "|Decision Tree            |99.69180193137457|\n",
      "|Random Forest            |99.6712553934662 |\n",
      "|Logistic Regression      |98.62338196013971|\n",
      "|Neural Network Perceptron|94.32915553729198|\n",
      "|Suport Vector Machines   |92.7265255804397 |\n",
      "|Naive Bayes              |74.33737415245531|\n",
      "+-------------------------+-----------------+\n",
      "\n"
     ]
    }
   ],
   "source": [
    "print('Ranking')\n",
    "\n",
    "list = ((models[0],recall_dt),\\\n",
    "        (models[1],recall_rf),\\\n",
    "        (models[2],recall_nnp),\\\n",
    "        (models[3],recall_nb),\\\n",
    "        (models[4],recall_lr),\\\n",
    "        (models[5],recall_svm))\n",
    "df_recall = spark.createDataFrame(list, ['Modelo', 'Recall'])\n",
    "df_recall.sort(df_recall.Recall.desc()).show(truncate = False)"
   ]
  },
  {
   "cell_type": "markdown",
   "metadata": {},
   "source": [
    "### Precision"
   ]
  },
  {
   "cell_type": "code",
   "execution_count": 87,
   "metadata": {},
   "outputs": [
    {
     "name": "stdout",
     "output_type": "stream",
     "text": [
      "Ranking Precision %\n",
      "+-------------------------+-----------------+\n",
      "|Modelo                   |Precisao         |\n",
      "+-------------------------+-----------------+\n",
      "|Decision Tree            |99.69368501529692|\n",
      "|Random Forest            |99.67339705214069|\n",
      "|Logistic Regression      |98.65386541768162|\n",
      "|Neural Network Perceptron|94.52742561372798|\n",
      "|Suport Vector Machines   |92.8116914357235 |\n",
      "|Naive Bayes              |76.1080875663157 |\n",
      "+-------------------------+-----------------+\n",
      "\n"
     ]
    }
   ],
   "source": [
    "print('Ranking Precision %')\n",
    "\n",
    "list = ((models[0],precision_dt),\\\n",
    "        (models[1],precision_rf),\\\n",
    "        (models[2],precision_nnp),\\\n",
    "        (models[3],precision_nb),\\\n",
    "        (models[4],precision_lr),\\\n",
    "        (models[5],precision_svm))\n",
    "df_precision = spark.createDataFrame(list, ['Modelo', 'Precisao'])\n",
    "df_precision.sort(df_precision.Precisao.desc()).show(truncate = False)"
   ]
  },
  {
   "cell_type": "markdown",
   "metadata": {},
   "source": [
    "### F1 score"
   ]
  },
  {
   "cell_type": "code",
   "execution_count": 88,
   "metadata": {},
   "outputs": [
    {
     "name": "stdout",
     "output_type": "stream",
     "text": [
      "+-------------------------+-----------------+\n",
      "|Modelo                   |F1               |\n",
      "+-------------------------+-----------------+\n",
      "|Decision Tree            |99.69179646661719|\n",
      "|Random Forest            |99.67124895371123|\n",
      "|Logistic Regression      |98.62311956684768|\n",
      "|Neural Network Perceptron|94.32337146710331|\n",
      "|Suport Vector Machines   |92.72337397325676|\n",
      "|Naive Bayes              |73.907980556053  |\n",
      "+-------------------------+-----------------+\n",
      "\n"
     ]
    }
   ],
   "source": [
    "list = ((models[0],f1_dt),\\\n",
    "        (models[1],f1_rf),\\\n",
    "        (models[2],f1_nnp),\\\n",
    "        (models[3],f1_nb),\\\n",
    "        (models[4],f1_lr),\\\n",
    "        (models[5],f1_svm))\n",
    "df_f1 = spark.createDataFrame(list, ['Modelo', 'F1'])\n",
    "df_f1.sort(df_f1.F1.desc()).show(truncate = False)"
   ]
  },
  {
   "cell_type": "markdown",
   "metadata": {},
   "source": [
    "### Tempo de Treinamento"
   ]
  },
  {
   "cell_type": "code",
   "execution_count": 89,
   "metadata": {},
   "outputs": [
    {
     "name": "stdout",
     "output_type": "stream",
     "text": [
      "+-------------------------+------------------+\n",
      "|Modelo                   |Tempo_Treinamento |\n",
      "+-------------------------+------------------+\n",
      "|Naive Bayes              |6.047499179840088 |\n",
      "|Logistic Regression      |8.806694507598877 |\n",
      "|Decision Tree            |8.950883865356445 |\n",
      "|Random Forest            |10.0124351978302  |\n",
      "|Neural Network Perceptron|53.085105895996094|\n",
      "|Suport Vector Machines   |585.063728094101  |\n",
      "+-------------------------+------------------+\n",
      "\n"
     ]
    }
   ],
   "source": [
    "list = ((models[0],time_dt_train),\\\n",
    "        (models[1],time_rf_train),\\\n",
    "        (models[2],time_nnp_train),\\\n",
    "        (models[3],time_nb_train),\\\n",
    "        (models[4],time_lr_train),\\\n",
    "        (models[5],time_svm_train))\n",
    "df_time_train = spark.createDataFrame(list, ['Modelo', 'Tempo_Treinamento'])\n",
    "df_time_train.sort(df_time_train.Tempo_Treinamento.asc()).show(truncate = False)"
   ]
  },
  {
   "cell_type": "markdown",
   "metadata": {},
   "source": [
    "### Tempo de Predição"
   ]
  },
  {
   "cell_type": "code",
   "execution_count": 90,
   "metadata": {},
   "outputs": [
    {
     "name": "stdout",
     "output_type": "stream",
     "text": [
      "+-------------------------+-------------------+\n",
      "|Modelo                   |Tempo_Predicao     |\n",
      "+-------------------------+-------------------+\n",
      "|Neural Network Perceptron|0.0682060718536377 |\n",
      "|Naive Bayes              |0.0682060718536377 |\n",
      "|Logistic Regression      |0.0682060718536377 |\n",
      "|Suport Vector Machines   |0.0682060718536377 |\n",
      "|Decision Tree            |0.08316850662231445|\n",
      "|Random Forest            |0.0926060676574707 |\n",
      "+-------------------------+-------------------+\n",
      "\n"
     ]
    }
   ],
   "source": [
    "list = ((models[0],time_dt_pred),\\\n",
    "        (models[1],time_rf_pred),\\\n",
    "        (models[2],time_nnp_pred),\\\n",
    "        (models[3],time_nnp_pred),\\\n",
    "        (models[4],time_nnp_pred),\\\n",
    "        (models[5],time_nnp_pred))\n",
    "df_time_pred = spark.createDataFrame(list, ['Modelo', 'Tempo_Predicao'])\n",
    "df_time_pred.sort(df_time_pred.Tempo_Predicao.asc()).show(truncate = False)"
   ]
  },
  {
   "cell_type": "markdown",
   "metadata": {},
   "source": [
    "### Falso Positivo"
   ]
  },
  {
   "cell_type": "code",
   "execution_count": 91,
   "metadata": {},
   "outputs": [
    {
     "name": "stdout",
     "output_type": "stream",
     "text": [
      "+-------------------------+--------------+\n",
      "|Modelo                   |Falso_Positivo|\n",
      "+-------------------------+--------------+\n",
      "|Random Forest            |0             |\n",
      "|Decision Tree            |0             |\n",
      "|Logistic Regression      |3             |\n",
      "|Neural Network Perceptron|219           |\n",
      "|Suport Vector Machines   |231           |\n",
      "|Naive Bayes              |940           |\n",
      "+-------------------------+--------------+\n",
      "\n"
     ]
    }
   ],
   "source": [
    "list = ((models[0],int(fp_dt)),\\\n",
    "        (models[1],int(fp_rf)),\\\n",
    "        (models[2],int(fp_nnp)),\\\n",
    "        (models[3],int(fp_nb)),\\\n",
    "        (models[4],int(fp_lr)),\\\n",
    "        (models[5],int(fp_svm)))\n",
    "df_fp = spark.createDataFrame(list, ['Modelo', 'Falso_Positivo'])\n",
    "df_fp.sort(df_fp.Falso_Positivo.asc()).show(truncate = False)"
   ]
  },
  {
   "cell_type": "markdown",
   "metadata": {},
   "source": [
    "### Falso Negativo"
   ]
  },
  {
   "cell_type": "code",
   "execution_count": 92,
   "metadata": {},
   "outputs": [
    {
     "name": "stdout",
     "output_type": "stream",
     "text": [
      "+-------------------------+--------------+\n",
      "|Modelo                   |Falso_Negativo|\n",
      "+-------------------------+--------------+\n",
      "|Decision Tree            |15            |\n",
      "|Random Forest            |16            |\n",
      "|Neural Network Perceptron|57            |\n",
      "|Logistic Regression      |64            |\n",
      "|Suport Vector Machines   |123           |\n",
      "|Naive Bayes              |309           |\n",
      "+-------------------------+--------------+\n",
      "\n"
     ]
    }
   ],
   "source": [
    "list = ((models[0],int(fn_dt)),\\\n",
    "        (models[1],int(fn_rf)),\\\n",
    "        (models[2],int(fn_nnp)),\\\n",
    "        (models[3],int(fn_nb)),\\\n",
    "        (models[4],int(fn_lr)),\\\n",
    "        (models[5], int(fn_svm)))\n",
    "df_fn = spark.createDataFrame(list, ['Modelo', 'Falso_Negativo'])\n",
    "df_fn.sort(df_fn.Falso_Negativo.asc()).show(truncate = False)"
   ]
  },
  {
   "cell_type": "markdown",
   "metadata": {},
   "source": [
    "### Comparativo"
   ]
  },
  {
   "cell_type": "code",
   "execution_count": 93,
   "metadata": {},
   "outputs": [
    {
     "name": "stdout",
     "output_type": "stream",
     "text": [
      "+-------------------------+-----------------+--------------+--------------+------------------+-------------------+\n",
      "|Modelo                   |Acuracia         |Falso_Positivo|Falso_Negativo|Tempo_Treinamento |Tempo_Predicao     |\n",
      "+-------------------------+-----------------+--------------+--------------+------------------+-------------------+\n",
      "|Decision Tree            |99.69180193137457|0             |15            |8.950883865356445 |0.08316850662231445|\n",
      "|Random Forest            |99.6712553934662 |0             |16            |10.0124351978302  |0.0926060676574707 |\n",
      "|Logistic Regression      |98.62338196013971|3             |64            |8.806694507598877 |0.0682060718536377 |\n",
      "|Neural Network Perceptron|94.32915553729197|219           |57            |53.085105895996094|0.0682060718536377 |\n",
      "|Naive Bayes              |74.33737415245531|940           |309           |6.047499179840088 |0.0682060718536377 |\n",
      "|Suport Vector Machines   |74.33737415245531|231           |123           |585.063728094101  |0.0682060718536377 |\n",
      "+-------------------------+-----------------+--------------+--------------+------------------+-------------------+\n",
      "\n"
     ]
    }
   ],
   "source": [
    "df = df_acuracia.join(df_fp, \"Modelo\")\n",
    "df = df.join(df_fn, \"Modelo\")\n",
    "df = df.join(df_time_train, \"Modelo\")\n",
    "df = df.join(df_time_pred, \"Modelo\")\n",
    "df.sort(df.Acuracia.desc()).show(truncate = False)"
   ]
  },
  {
   "cell_type": "markdown",
   "metadata": {},
   "source": [
    "## Teste de classificação do melhor modelo"
   ]
  },
  {
   "cell_type": "code",
   "execution_count": 94,
   "metadata": {},
   "outputs": [
    {
     "name": "stdout",
     "output_type": "stream",
     "text": [
      "+----+-------+-------------+--------------+--------------+--------------+---------+-----+\n",
      "|step| amount|oldbalanceOrg|newbalanceOrig|oldbalanceDest|newbalanceDest|indexType|label|\n",
      "+----+-------+-------------+--------------+--------------+--------------+---------+-----+\n",
      "|   1|1864.28|      21249.0|      19384.72|           0.0|           0.0|      2.0|  0.0|\n",
      "+----+-------+-------------+--------------+--------------+--------------+---------+-----+\n",
      "only showing top 1 row\n",
      "\n"
     ]
    }
   ],
   "source": [
    "df_selecionado.show(1)"
   ]
  },
  {
   "cell_type": "code",
   "execution_count": 95,
   "metadata": {},
   "outputs": [],
   "source": [
    "#valores de entrada e saída para teste\n",
    "entradas = [1.0, 9839.64,170136.0, 160296.36,0.0,0.0,2.0]\n",
    "resultado = 0.0"
   ]
  },
  {
   "cell_type": "code",
   "execution_count": 96,
   "metadata": {},
   "outputs": [],
   "source": [
    "#criando o dataframe Spark para execução do modelo\n",
    "df_teste = spark.createDataFrame(\n",
    "    [(resultado,\\\n",
    "      Vectors.dense([entradas[0],entradas[1],entradas[2],entradas[3],entradas[4],entradas[5],entradas[6]]))],\n",
    "    ['label', 'features'])"
   ]
  },
  {
   "cell_type": "code",
   "execution_count": 97,
   "metadata": {},
   "outputs": [
    {
     "name": "stdout",
     "output_type": "stream",
     "text": [
      "+-----+----------+\n",
      "|label|prediction|\n",
      "+-----+----------+\n",
      "|  0.0|       0.0|\n",
      "+-----+----------+\n",
      "\n"
     ]
    }
   ],
   "source": [
    "#resultado da predição utilizando o modelo RF\n",
    "resultado = model_rf.transform(df_teste)\n",
    "resultado.select('label','prediction').show()"
   ]
  },
  {
   "cell_type": "code",
   "execution_count": 98,
   "metadata": {},
   "outputs": [],
   "source": [
    "spark.stop()"
   ]
  }
 ],
 "metadata": {
  "kernelspec": {
   "display_name": "Python 3",
   "language": "python",
   "name": "python3"
  },
  "language_info": {
   "codemirror_mode": {
    "name": "ipython",
    "version": 3
   },
   "file_extension": ".py",
   "mimetype": "text/x-python",
   "name": "python",
   "nbconvert_exporter": "python",
   "pygments_lexer": "ipython3",
   "version": "3.6.9"
  }
 },
 "nbformat": 4,
 "nbformat_minor": 4
}
